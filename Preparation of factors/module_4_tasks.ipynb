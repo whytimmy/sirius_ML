{
 "cells": [
  {
   "cell_type": "code",
   "execution_count": 57,
   "id": "551c3d84",
   "metadata": {
    "ExecuteTime": {
     "end_time": "2024-04-12T22:52:51.163285Z",
     "start_time": "2024-04-12T22:52:51.159551Z"
    }
   },
   "outputs": [],
   "source": [
    "import pandas as pd\n",
    "import seaborn as sns"
   ]
  },
  {
   "cell_type": "markdown",
   "id": "26e0fec2",
   "metadata": {},
   "source": [
    "## Работа со словарём "
   ]
  },
  {
   "cell_type": "code",
   "execution_count": 2,
   "id": "437f8727",
   "metadata": {
    "ExecuteTime": {
     "end_time": "2024-04-10T12:42:25.470770Z",
     "start_time": "2024-04-10T12:42:25.462021Z"
    }
   },
   "outputs": [],
   "source": [
    "def count_numbers_solution(list_of_data):\n",
    "    \"\"\"\n",
    "    Принимает на вход список целочисленных значений и подсчитывает, сколько\n",
    "    раз в списке встретилось каждое из значений.\n",
    "    \n",
    "    Аргументы:\n",
    "        list_of_data: Список целочисленных значений, которые нужно пересчитать.\n",
    "        \n",
    "    Возвращаемое значение:\n",
    "        Словарь, в котором каждому значению из исходного списка сопоставлено\n",
    "        количество раз, которое это значение встречается в списке.\n",
    "    \"\"\"\n",
    "    dict = {}\n",
    "    \n",
    "    for value in list_of_data:\n",
    "        if value in dict:\n",
    "            dict[value] += 1\n",
    "        else:\n",
    "            dict[value] = 1\n",
    "            \n",
    "    return dict\n",
    "\n",
    "    \n",
    "    \n",
    "    "
   ]
  },
  {
   "cell_type": "code",
   "execution_count": 3,
   "id": "91c57142",
   "metadata": {
    "ExecuteTime": {
     "end_time": "2024-04-10T12:42:30.718835Z",
     "start_time": "2024-04-10T12:42:30.703862Z"
    }
   },
   "outputs": [],
   "source": [
    "def count_numbers_tests():\n",
    "    def compare_dicts(d_calc, d_real):\n",
    "        if len(d_calc) != len(d_real):\n",
    "            raise RuntimeError(\n",
    "                f'Число ключей в словарях различается: должно быть {len(d_real)}, а получилось {len(d_calc)}.')\n",
    "            \n",
    "        for key, value in d_calc.items():\n",
    "            if d_real[key] != value:\n",
    "                raise RuntimeError(f'Значение для ключа {key} получилось неправильное: должно быть {d_real[key]}, а получилось {value}.')\n",
    "        \n",
    "    example_1_list = [1, 2, 3, 2, 3, 1, 2, 2, 2]\n",
    "    example_1_res = {1: 2, 2: 5, 3: 2}\n",
    "    \n",
    "    compare_dicts(count_numbers_solution(example_1_list), example_1_res)\n",
    "    \n",
    "    example_2_list = [8, 2, 10, 5, 7, 0, 1, 9, 5, 9, 1, 1, 2, 10, 5, 3, 6, 2, 2, 9, 5, 7, 10, 2, 6, 8, 7, 7, 7, 10, 5, 2, 8, 9, 2, 8, 8, 2, 6, 4, 6, 3, 0, 3, 6, 3, 4, 1, 2, 8]\n",
    "    example_2_res = {8: 6, 2: 9, 10: 4, 5: 5, 7: 5, 0: 2, 1: 4, 9: 4, 3: 4, 6: 5, 4: 2}\n",
    "    \n",
    "    compare_dicts(count_numbers_solution(example_2_list), example_2_res)\n",
    "    \n",
    "    example_3_list = [5, 2, 3, 2, 5, 1, 4, 7, 5, 5, 5, 5, 8, 2, 5, 3, 5, 6, 1, 3, 6, 6, 6, 3, 6, 2, 4, 5, 1, 4, 6, 6, 1, 3, 3, 4, 4, 3, 1, 7, 5, 3, 6, 4, 4, 3, 2, 7, 1, 4, 2, 3, 7, 8, 7, 7, 7, 5, 9, 3, 3, 4, 2, 2, 3, 6, 8, 5, 4, 4, 4, 7, 1, 11, 6, 5, 6, 5, 6, 4, 4, 5, 4, 8, 3, 4, 3, 1, 4, 5, 5, 4, 4, 6, 4, 6, 3, 4, 7, 8]\n",
    "    example_3_res = {5: 17, 2: 8, 3: 16, 1: 8, 4: 21, 7: 9, 8: 5, 6: 14, 9: 1, 11: 1}\n",
    "    \n",
    "    compare_dicts(count_numbers_solution(example_3_list), example_3_res)\n",
    "    \n",
    "    print('Все тесты прошли успешно!')"
   ]
  },
  {
   "cell_type": "code",
   "execution_count": 4,
   "id": "6f6a4da7",
   "metadata": {
    "ExecuteTime": {
     "end_time": "2024-04-10T12:42:34.644790Z",
     "start_time": "2024-04-10T12:42:34.638951Z"
    }
   },
   "outputs": [
    {
     "name": "stdout",
     "output_type": "stream",
     "text": [
      "Все тесты прошли успешно!\n"
     ]
    }
   ],
   "source": [
    "count_numbers_tests()"
   ]
  },
  {
   "cell_type": "markdown",
   "id": "78291539",
   "metadata": {},
   "source": [
    "## Кодирование факторов с помощью новых бинарных факторов"
   ]
  },
  {
   "cell_type": "code",
   "execution_count": 34,
   "id": "c5b68f55",
   "metadata": {
    "ExecuteTime": {
     "end_time": "2024-04-12T22:37:23.374690Z",
     "start_time": "2024-04-12T22:37:23.368971Z"
    }
   },
   "outputs": [],
   "source": [
    "def new_columns_solution(column):\n",
    "    \"\"\"\n",
    "    Принимает на вход колонку со значениями категориального фактора\n",
    "    и производит его кодирование, представляя каждую категорию в виде\n",
    "    колонки со значениями 0 и 1.\n",
    "    \n",
    "    Аргументы:\n",
    "        column: Колонка со значениями категориального фактора.\n",
    "        \n",
    "    Возвращаемое значение:\n",
    "        Словарь, в котором каждой категории исходной колонки сопоставлен список из 0 и 1.\n",
    "        Если на позиции i в этом списке находится 1, то это значит, что в исходной колонке\n",
    "        в i-й строке было записано название соответствующей категории.\n",
    "        Если на позиции i в списке находится 0, то в i-й строке исходной колонки была\n",
    "        записана другая категория.\n",
    "    \"\"\"\n",
    "\n",
    "    categories = list(column.unique())\n",
    "    dict = {}\n",
    "    \n",
    "    for category in categories:\n",
    "            val = [1 if el == category else 0 for el in column]\n",
    "            dict[category] = val\n",
    "        \n",
    "    return dict\n",
    "    \n",
    "    "
   ]
  },
  {
   "cell_type": "code",
   "execution_count": 9,
   "id": "bede5757",
   "metadata": {
    "ExecuteTime": {
     "end_time": "2024-04-10T13:13:31.904430Z",
     "start_time": "2024-04-10T13:13:31.891998Z"
    }
   },
   "outputs": [],
   "source": [
    "def new_columns_tests():\n",
    "    def compare_dicts(d_calc, d_real):\n",
    "        if len(d_calc) != len(d_real):\n",
    "            raise RuntimeError(\n",
    "                f'Число ключей в словарях различается: должно быть {len(d_real)}, а получилось {len(d_calc)}.')\n",
    "            \n",
    "        for key, value in d_calc.items():\n",
    "            if d_real[key] != value:\n",
    "                raise RuntimeError(f'Значение для ключа {key} получилось неправильное: должно быть {d_real[key]}, а получилось {value}.')\n",
    "                \n",
    "    example_1_column = pd.Series(['a', 'aa', 'aaa', 'aa'])\n",
    "    example_1_res = {\n",
    "        'a': [1, 0, 0, 0],\n",
    "        'aa': [0, 1, 0, 1],\n",
    "        'aaa': [0, 0, 1, 0]\n",
    "    }\n",
    "    \n",
    "    compare_dicts(new_columns_solution(example_1_column), example_1_res)\n",
    "    \n",
    "    example_2_column = pd.Series(['улица', 'помещение', 'помещение', 'улица', 'улица'])\n",
    "    example_2_res = {\n",
    "        'улица': [1, 0, 0, 1, 1],\n",
    "        'помещение': [0, 1, 1, 0, 0]\n",
    "    }\n",
    "    \n",
    "    compare_dicts(new_columns_solution(example_2_column), example_2_res)\n",
    "    \n",
    "    example_3_column = pd.Series(['--', '++', '--', '^^', '~~', '--', '^^'])\n",
    "    example_3_res = {\n",
    "        '--': [1, 0, 1, 0, 0, 1, 0],\n",
    "        '++': [0, 1, 0, 0, 0, 0, 0],\n",
    "        '^^': [0, 0, 0, 1, 0, 0, 1],\n",
    "        '~~': [0, 0, 0, 0, 1, 0, 0],\n",
    "    }\n",
    "    \n",
    "    compare_dicts(new_columns_solution(example_3_column), example_3_res)\n",
    "    \n",
    "    \n",
    "    print('Все тесты прошли успешно!')"
   ]
  },
  {
   "cell_type": "code",
   "execution_count": 10,
   "id": "77738fa3",
   "metadata": {
    "ExecuteTime": {
     "end_time": "2024-04-10T13:13:32.669303Z",
     "start_time": "2024-04-10T13:13:32.662944Z"
    }
   },
   "outputs": [
    {
     "name": "stdout",
     "output_type": "stream",
     "text": [
      "Все тесты прошли успешно!\n"
     ]
    }
   ],
   "source": [
    "new_columns_tests()"
   ]
  },
  {
   "cell_type": "code",
   "outputs": [
    {
     "name": "stdout",
     "output_type": "stream",
     "text": [
      "   номер наблюдения время суток  погода  1  2  3  4  5\n",
      "0                 1        день   дождь  1  0  0  0  0\n",
      "1                 2        ночь    снег  0  1  0  0  0\n",
      "2                 3        день  солнце  0  0  1  0  0\n",
      "3                 4        день  солнце  0  0  0  1  0\n",
      "4                 5     сумерки   дождь  0  0  0  0  1\n",
      "--------------------------------\n",
      "   номер наблюдения время суток  погода  день  ночь  сумерки  солнце  дождь  \\\n",
      "0                 1        день   дождь     1     0        0       0      1   \n",
      "1                 2        ночь    снег     0     1        0       0      0   \n",
      "2                 3        день  солнце     1     0        0       1      0   \n",
      "3                 4        день  солнце     1     0        0       1      0   \n",
      "4                 5     сумерки   дождь     0     0        1       0      1   \n",
      "\n",
      "   снег  \n",
      "0     0  \n",
      "1     1  \n",
      "2     0  \n",
      "3     0  \n",
      "4     0  \n"
     ]
    },
    {
     "ename": "KeyError",
     "evalue": "'день'",
     "output_type": "error",
     "traceback": [
      "\u001B[1;31m---------------------------------------------------------------------------\u001B[0m",
      "\u001B[1;31mKeyError\u001B[0m                                  Traceback (most recent call last)",
      "File \u001B[1;32mC:\\_IT\\anaconda\\Lib\\site-packages\\pandas\\core\\indexes\\base.py:3791\u001B[0m, in \u001B[0;36mIndex.get_loc\u001B[1;34m(self, key)\u001B[0m\n\u001B[0;32m   3790\u001B[0m \u001B[38;5;28;01mtry\u001B[39;00m:\n\u001B[1;32m-> 3791\u001B[0m     \u001B[38;5;28;01mreturn\u001B[39;00m \u001B[38;5;28mself\u001B[39m\u001B[38;5;241m.\u001B[39m_engine\u001B[38;5;241m.\u001B[39mget_loc(casted_key)\n\u001B[0;32m   3792\u001B[0m \u001B[38;5;28;01mexcept\u001B[39;00m \u001B[38;5;167;01mKeyError\u001B[39;00m \u001B[38;5;28;01mas\u001B[39;00m err:\n",
      "File \u001B[1;32mindex.pyx:152\u001B[0m, in \u001B[0;36mpandas._libs.index.IndexEngine.get_loc\u001B[1;34m()\u001B[0m\n",
      "File \u001B[1;32mindex.pyx:181\u001B[0m, in \u001B[0;36mpandas._libs.index.IndexEngine.get_loc\u001B[1;34m()\u001B[0m\n",
      "File \u001B[1;32mpandas\\_libs\\hashtable_class_helper.pxi:7080\u001B[0m, in \u001B[0;36mpandas._libs.hashtable.PyObjectHashTable.get_item\u001B[1;34m()\u001B[0m\n",
      "File \u001B[1;32mpandas\\_libs\\hashtable_class_helper.pxi:7088\u001B[0m, in \u001B[0;36mpandas._libs.hashtable.PyObjectHashTable.get_item\u001B[1;34m()\u001B[0m\n",
      "\u001B[1;31mKeyError\u001B[0m: 'день'",
      "\nThe above exception was the direct cause of the following exception:\n",
      "\u001B[1;31mKeyError\u001B[0m                                  Traceback (most recent call last)",
      "Cell \u001B[1;32mIn[135], line 50\u001B[0m\n\u001B[0;32m     48\u001B[0m         \u001B[38;5;28;01mfor\u001B[39;00m val \u001B[38;5;129;01min\u001B[39;00m vals:\n\u001B[0;32m     49\u001B[0m             \u001B[38;5;28;01massert\u001B[39;00m \u001B[38;5;28mlist\u001B[39m(table_calc[val]) \u001B[38;5;241m==\u001B[39m \u001B[38;5;28mlist\u001B[39m(table_real[val])\n\u001B[1;32m---> 50\u001B[0m compare_tables(a, example_1_res_table, example_1_factors)\n\u001B[0;32m     51\u001B[0m \u001B[38;5;28mprint\u001B[39m(\u001B[38;5;124m\"\u001B[39m\u001B[38;5;124mAll good\u001B[39m\u001B[38;5;124m\"\u001B[39m)\n",
      "Cell \u001B[1;32mIn[135], line 49\u001B[0m, in \u001B[0;36mcompare_tables\u001B[1;34m(table_calc, table_real, factors)\u001B[0m\n\u001B[0;32m     46\u001B[0m vals \u001B[38;5;241m=\u001B[39m \u001B[38;5;28mlist\u001B[39m(table_real[factor]\u001B[38;5;241m.\u001B[39munique())\n\u001B[0;32m     48\u001B[0m \u001B[38;5;28;01mfor\u001B[39;00m val \u001B[38;5;129;01min\u001B[39;00m vals:\n\u001B[1;32m---> 49\u001B[0m     \u001B[38;5;28;01massert\u001B[39;00m \u001B[38;5;28mlist\u001B[39m(table_calc[val]) \u001B[38;5;241m==\u001B[39m \u001B[38;5;28mlist\u001B[39m(table_real[val])\n",
      "File \u001B[1;32mC:\\_IT\\anaconda\\Lib\\site-packages\\pandas\\core\\frame.py:3893\u001B[0m, in \u001B[0;36mDataFrame.__getitem__\u001B[1;34m(self, key)\u001B[0m\n\u001B[0;32m   3891\u001B[0m \u001B[38;5;28;01mif\u001B[39;00m \u001B[38;5;28mself\u001B[39m\u001B[38;5;241m.\u001B[39mcolumns\u001B[38;5;241m.\u001B[39mnlevels \u001B[38;5;241m>\u001B[39m \u001B[38;5;241m1\u001B[39m:\n\u001B[0;32m   3892\u001B[0m     \u001B[38;5;28;01mreturn\u001B[39;00m \u001B[38;5;28mself\u001B[39m\u001B[38;5;241m.\u001B[39m_getitem_multilevel(key)\n\u001B[1;32m-> 3893\u001B[0m indexer \u001B[38;5;241m=\u001B[39m \u001B[38;5;28mself\u001B[39m\u001B[38;5;241m.\u001B[39mcolumns\u001B[38;5;241m.\u001B[39mget_loc(key)\n\u001B[0;32m   3894\u001B[0m \u001B[38;5;28;01mif\u001B[39;00m is_integer(indexer):\n\u001B[0;32m   3895\u001B[0m     indexer \u001B[38;5;241m=\u001B[39m [indexer]\n",
      "File \u001B[1;32mC:\\_IT\\anaconda\\Lib\\site-packages\\pandas\\core\\indexes\\base.py:3798\u001B[0m, in \u001B[0;36mIndex.get_loc\u001B[1;34m(self, key)\u001B[0m\n\u001B[0;32m   3793\u001B[0m     \u001B[38;5;28;01mif\u001B[39;00m \u001B[38;5;28misinstance\u001B[39m(casted_key, \u001B[38;5;28mslice\u001B[39m) \u001B[38;5;129;01mor\u001B[39;00m (\n\u001B[0;32m   3794\u001B[0m         \u001B[38;5;28misinstance\u001B[39m(casted_key, abc\u001B[38;5;241m.\u001B[39mIterable)\n\u001B[0;32m   3795\u001B[0m         \u001B[38;5;129;01mand\u001B[39;00m \u001B[38;5;28many\u001B[39m(\u001B[38;5;28misinstance\u001B[39m(x, \u001B[38;5;28mslice\u001B[39m) \u001B[38;5;28;01mfor\u001B[39;00m x \u001B[38;5;129;01min\u001B[39;00m casted_key)\n\u001B[0;32m   3796\u001B[0m     ):\n\u001B[0;32m   3797\u001B[0m         \u001B[38;5;28;01mraise\u001B[39;00m InvalidIndexError(key)\n\u001B[1;32m-> 3798\u001B[0m     \u001B[38;5;28;01mraise\u001B[39;00m \u001B[38;5;167;01mKeyError\u001B[39;00m(key) \u001B[38;5;28;01mfrom\u001B[39;00m \u001B[38;5;21;01merr\u001B[39;00m\n\u001B[0;32m   3799\u001B[0m \u001B[38;5;28;01mexcept\u001B[39;00m \u001B[38;5;167;01mTypeError\u001B[39;00m:\n\u001B[0;32m   3800\u001B[0m     \u001B[38;5;66;03m# If we have a listlike key, _check_indexing_error will raise\u001B[39;00m\n\u001B[0;32m   3801\u001B[0m     \u001B[38;5;66;03m#  InvalidIndexError. Otherwise we fall through and re-raise\u001B[39;00m\n\u001B[0;32m   3802\u001B[0m     \u001B[38;5;66;03m#  the TypeError.\u001B[39;00m\n\u001B[0;32m   3803\u001B[0m     \u001B[38;5;28mself\u001B[39m\u001B[38;5;241m.\u001B[39m_check_indexing_error(key)\n",
      "\u001B[1;31mKeyError\u001B[0m: 'день'"
     ]
    }
   ],
   "source": [
    "data = [\n",
    "    [1, 'день', 'дождь'],\n",
    "    [2, 'ночь', 'снег'],\n",
    "    [3, 'день', 'солнце'],\n",
    "    [4, 'день', 'солнце'],\n",
    "    [5, 'сумерки', 'дождь'],\n",
    "]\n",
    "columns = ['номер наблюдения', 'время суток', 'погода']\n",
    "\n",
    "result = []\n",
    "elements = [item[0] for item in data]\n",
    "categories = sorted(set(elements))\n",
    "i = 0\n",
    "\n",
    "for element in elements:\n",
    "    val = [1 if category == element else 0 for category in categories]\n",
    "    result.append(data[i][:] + val)\n",
    "    i += 1\n",
    "\n",
    "col = columns.copy()\n",
    "col.extend(categories)\n",
    "\n",
    "#print(result)\n",
    "#print(col)\n",
    "\n",
    "a = pd.DataFrame(data=result, columns=col)\n",
    "print(a)\n",
    "\n",
    "print('-'*32)\n",
    "\n",
    "example_1_res_columns = ['номер наблюдения', 'время суток', 'погода',\n",
    "                         'день', 'ночь', 'сумерки',\n",
    "                         'солнце', 'дождь', 'снег']\n",
    "example_1_res_data = [\n",
    "    [1, 'день', 'дождь', 1, 0, 0, 0, 1, 0],\n",
    "    [2, 'ночь', 'снег', 0, 1, 0, 0, 0, 1],\n",
    "    [3, 'день', 'солнце', 1, 0, 0, 1, 0, 0],\n",
    "    [4, 'день', 'солнце', 1, 0, 0, 1, 0, 0],\n",
    "    [5, 'сумерки', 'дождь', 0, 0, 1, 0, 1, 0],\n",
    "]\n",
    "example_1_res_table = pd.DataFrame(columns=example_1_res_columns, data=example_1_res_data)\n",
    "example_1_factors = ['время суток', 'погода']\n",
    "print(example_1_res_table)\n",
    "def compare_tables(table_calc, table_real, factors):\n",
    "    for factor in factors:\n",
    "        vals = list(table_real[factor].unique())\n",
    "\n",
    "        for val in vals:\n",
    "            assert list(table_calc[val]) == list(table_real[val])\n",
    "compare_tables(a, example_1_res_table, example_1_factors)\n",
    "print(\"All good\")\n"
   ],
   "metadata": {
    "collapsed": false,
    "ExecuteTime": {
     "end_time": "2024-04-12T23:46:22.547534Z",
     "start_time": "2024-04-12T23:46:22.449195Z"
    }
   },
   "id": "45c09868e68ece12",
   "execution_count": 135
  },
  {
   "cell_type": "code",
   "outputs": [],
   "source": [
    "def categorical_to_binary_solution(data, cooll):\n",
    "    \"\"\"\n",
    "    Принимает на вход таблицу и производит кодирование представленных\n",
    "    в ней категориальных факторов. Каждый фактор представляется в виде\n",
    "    набора бинарных факторов, соответствующих отдельным категориям исходного фактора.\n",
    "    \n",
    "    Аргументы:\n",
    "        data: Таблица, категориальные факторы которой необходимо закодировать.\n",
    "        columns: Список колонок, в которых представлены факторы, которые необходимо закодировать.\n",
    "        \n",
    "    Возвращаемое значение:\n",
    "        Исходная таблица, в которой для каждого из указанных категориальных факторов\n",
    "        добавлено несколько бинарных факторов — по одному на каждую категорию.\n",
    "        \n",
    "        Для какого-то объекта бинарный фактор принимает значение 1 в том случае,\n",
    "        если исходный фактор для данного объекта принимал значение соответствующей категории.\n",
    "        В противном случае значение бинарного фактора равно 0.\n",
    "    \"\"\"\n",
    "\n",
    "    result = []\n",
    "    elements = [item[0] for item in data]\n",
    "    categories = sorted(set(elements))\n",
    "    i = 0\n",
    "\n",
    "    for element in elements:\n",
    "        val = [1 if category == element else 0 for category in categories]\n",
    "        result.append([element] + [data.iloc[i, 1]] + val)\n",
    "        i += 1\n",
    "\n",
    "    col = cooll.copy()\n",
    "    col.extend(categories)\n",
    "\n",
    "    ds = pd.DataFrame(data=result, columns=col)\n",
    "    return ds\n",
    "\n"
   ],
   "metadata": {
    "ExecuteTime": {
     "end_time": "2024-04-12T23:41:22.852453Z",
     "start_time": "2024-04-12T23:41:22.845324Z"
    }
   },
   "id": "1f3cb0fb",
   "execution_count": 123
  },
  {
   "cell_type": "code",
   "execution_count": 124,
   "id": "50099c9c",
   "metadata": {
    "ExecuteTime": {
     "end_time": "2024-04-12T23:41:23.378712Z",
     "start_time": "2024-04-12T23:41:23.368810Z"
    }
   },
   "outputs": [],
   "source": [
    "def categorical_to_binary_tests():\n",
    "    def compare_tables(table_calc, table_real, factors):\n",
    "        for factor in factors:\n",
    "            vals = list(table_real[factor].unique())\n",
    "            \n",
    "            for val in vals:\n",
    "                assert list(table_calc[val]) == list(table_real[val])\n",
    "                \n",
    "    example_1_columns = ['A', 'B']\n",
    "    example_1_data = [\n",
    "        ['a', 3],\n",
    "        ['aa', 5],\n",
    "        ['aaa', 8],\n",
    "        ['aa', 13]\n",
    "    ]\n",
    "    example_1_table = pd.DataFrame(columns=example_1_columns, data=example_1_data)\n",
    "    example_1_factors = ['A']\n",
    "    \n",
    "    example_1_res_columns = ['A', 'B', 'a', 'aa', 'aaa']\n",
    "    example_1_res_data = [\n",
    "        ['a', 3, 1, 0, 0],\n",
    "        ['aa', 5, 0, 1, 0],\n",
    "        ['aaa', 8, 0, 0, 1],\n",
    "        ['aa', 13, 0, 1, 0]\n",
    "    ]\n",
    "    example_1_res_table = pd.DataFrame(columns=example_1_res_columns, data=example_1_res_data)\n",
    "    \n",
    "    compare_tables(categorical_to_binary_solution(example_1_table, example_1_factors),\n",
    "                   example_1_res_table,\n",
    "                   example_1_factors)\n",
    "    \n",
    "    example_2_columns = ['номер наблюдения', 'время суток', 'погода']\n",
    "    example_2_data = [\n",
    "        [1, 'день', 'дождь'],\n",
    "        [2, 'ночь', 'снег'],\n",
    "        [3, 'день', 'солнце'],\n",
    "        [4, 'день', 'солнце'],\n",
    "        [5, 'сумерки', 'дождь'],\n",
    "    ]\n",
    "    example_2_table = pd.DataFrame(columns=example_2_columns, data=example_2_data)\n",
    "    example_2_factors = ['время суток', 'погода']\n",
    "    \n",
    "    example_2_res_columns = ['номер наблюдения', 'время суток', 'погода', \n",
    "                             'день', 'ночь', 'сумерки', \n",
    "                             'солнце', 'дождь', 'снег']\n",
    "    example_2_res_data = [\n",
    "        [1, 'день', 'дождь', 1, 0, 0, 0, 1, 0],\n",
    "        [2, 'ночь', 'снег', 0, 1, 0, 0, 0, 1],\n",
    "        [3, 'день', 'солнце', 1, 0, 0, 1, 0, 0],\n",
    "        [4, 'день', 'солнце', 1, 0, 0, 1, 0, 0],\n",
    "        [5, 'сумерки', 'дождь', 0, 0, 1, 0, 1, 0],\n",
    "    ]\n",
    "    example_2_res_table = pd.DataFrame(columns=example_2_res_columns, data=example_2_res_data)\n",
    "    \n",
    "    compare_tables(categorical_to_binary_solution(example_2_table, example_2_factors),\n",
    "                   example_2_res_table,\n",
    "                   example_2_factors)\n",
    "    \n",
    "    print('Все тесты прошли успешно!')"
   ]
  },
  {
   "cell_type": "code",
   "execution_count": 125,
   "id": "fdea9a62",
   "metadata": {
    "ExecuteTime": {
     "end_time": "2024-04-12T23:41:24.405385Z",
     "start_time": "2024-04-12T23:41:24.271157Z"
    }
   },
   "outputs": [
    {
     "ename": "ValueError",
     "evalue": "3 columns passed, passed data had 4 columns",
     "output_type": "error",
     "traceback": [
      "\u001B[1;31m---------------------------------------------------------------------------\u001B[0m",
      "\u001B[1;31mAssertionError\u001B[0m                            Traceback (most recent call last)",
      "File \u001B[1;32mC:\\_IT\\anaconda\\Lib\\site-packages\\pandas\\core\\internals\\construction.py:939\u001B[0m, in \u001B[0;36m_finalize_columns_and_data\u001B[1;34m(content, columns, dtype)\u001B[0m\n\u001B[0;32m    938\u001B[0m \u001B[38;5;28;01mtry\u001B[39;00m:\n\u001B[1;32m--> 939\u001B[0m     columns \u001B[38;5;241m=\u001B[39m _validate_or_indexify_columns(contents, columns)\n\u001B[0;32m    940\u001B[0m \u001B[38;5;28;01mexcept\u001B[39;00m \u001B[38;5;167;01mAssertionError\u001B[39;00m \u001B[38;5;28;01mas\u001B[39;00m err:\n\u001B[0;32m    941\u001B[0m     \u001B[38;5;66;03m# GH#26429 do not raise user-facing AssertionError\u001B[39;00m\n",
      "File \u001B[1;32mC:\\_IT\\anaconda\\Lib\\site-packages\\pandas\\core\\internals\\construction.py:986\u001B[0m, in \u001B[0;36m_validate_or_indexify_columns\u001B[1;34m(content, columns)\u001B[0m\n\u001B[0;32m    984\u001B[0m \u001B[38;5;28;01mif\u001B[39;00m \u001B[38;5;129;01mnot\u001B[39;00m is_mi_list \u001B[38;5;129;01mand\u001B[39;00m \u001B[38;5;28mlen\u001B[39m(columns) \u001B[38;5;241m!=\u001B[39m \u001B[38;5;28mlen\u001B[39m(content):  \u001B[38;5;66;03m# pragma: no cover\u001B[39;00m\n\u001B[0;32m    985\u001B[0m     \u001B[38;5;66;03m# caller's responsibility to check for this...\u001B[39;00m\n\u001B[1;32m--> 986\u001B[0m     \u001B[38;5;28;01mraise\u001B[39;00m \u001B[38;5;167;01mAssertionError\u001B[39;00m(\n\u001B[0;32m    987\u001B[0m         \u001B[38;5;124mf\u001B[39m\u001B[38;5;124m\"\u001B[39m\u001B[38;5;132;01m{\u001B[39;00m\u001B[38;5;28mlen\u001B[39m(columns)\u001B[38;5;132;01m}\u001B[39;00m\u001B[38;5;124m columns passed, passed data had \u001B[39m\u001B[38;5;124m\"\u001B[39m\n\u001B[0;32m    988\u001B[0m         \u001B[38;5;124mf\u001B[39m\u001B[38;5;124m\"\u001B[39m\u001B[38;5;132;01m{\u001B[39;00m\u001B[38;5;28mlen\u001B[39m(content)\u001B[38;5;132;01m}\u001B[39;00m\u001B[38;5;124m columns\u001B[39m\u001B[38;5;124m\"\u001B[39m\n\u001B[0;32m    989\u001B[0m     )\n\u001B[0;32m    990\u001B[0m \u001B[38;5;28;01mif\u001B[39;00m is_mi_list:\n\u001B[0;32m    991\u001B[0m     \u001B[38;5;66;03m# check if nested list column, length of each sub-list should be equal\u001B[39;00m\n",
      "\u001B[1;31mAssertionError\u001B[0m: 3 columns passed, passed data had 4 columns",
      "\nThe above exception was the direct cause of the following exception:\n",
      "\u001B[1;31mValueError\u001B[0m                                Traceback (most recent call last)",
      "Cell \u001B[1;32mIn[125], line 1\u001B[0m\n\u001B[1;32m----> 1\u001B[0m categorical_to_binary_tests()\n",
      "Cell \u001B[1;32mIn[124], line 28\u001B[0m, in \u001B[0;36mcategorical_to_binary_tests\u001B[1;34m()\u001B[0m\n\u001B[0;32m     20\u001B[0m example_1_res_data \u001B[38;5;241m=\u001B[39m [\n\u001B[0;32m     21\u001B[0m     [\u001B[38;5;124m'\u001B[39m\u001B[38;5;124ma\u001B[39m\u001B[38;5;124m'\u001B[39m, \u001B[38;5;241m3\u001B[39m, \u001B[38;5;241m1\u001B[39m, \u001B[38;5;241m0\u001B[39m, \u001B[38;5;241m0\u001B[39m],\n\u001B[0;32m     22\u001B[0m     [\u001B[38;5;124m'\u001B[39m\u001B[38;5;124maa\u001B[39m\u001B[38;5;124m'\u001B[39m, \u001B[38;5;241m5\u001B[39m, \u001B[38;5;241m0\u001B[39m, \u001B[38;5;241m1\u001B[39m, \u001B[38;5;241m0\u001B[39m],\n\u001B[0;32m     23\u001B[0m     [\u001B[38;5;124m'\u001B[39m\u001B[38;5;124maaa\u001B[39m\u001B[38;5;124m'\u001B[39m, \u001B[38;5;241m8\u001B[39m, \u001B[38;5;241m0\u001B[39m, \u001B[38;5;241m0\u001B[39m, \u001B[38;5;241m1\u001B[39m],\n\u001B[0;32m     24\u001B[0m     [\u001B[38;5;124m'\u001B[39m\u001B[38;5;124maa\u001B[39m\u001B[38;5;124m'\u001B[39m, \u001B[38;5;241m13\u001B[39m, \u001B[38;5;241m0\u001B[39m, \u001B[38;5;241m1\u001B[39m, \u001B[38;5;241m0\u001B[39m]\n\u001B[0;32m     25\u001B[0m ]\n\u001B[0;32m     26\u001B[0m example_1_res_table \u001B[38;5;241m=\u001B[39m pd\u001B[38;5;241m.\u001B[39mDataFrame(columns\u001B[38;5;241m=\u001B[39mexample_1_res_columns, data\u001B[38;5;241m=\u001B[39mexample_1_res_data)\n\u001B[1;32m---> 28\u001B[0m compare_tables(categorical_to_binary_solution(example_1_table, example_1_factors),\n\u001B[0;32m     29\u001B[0m                example_1_res_table,\n\u001B[0;32m     30\u001B[0m                example_1_factors)\n\u001B[0;32m     32\u001B[0m example_2_columns \u001B[38;5;241m=\u001B[39m [\u001B[38;5;124m'\u001B[39m\u001B[38;5;124mномер наблюдения\u001B[39m\u001B[38;5;124m'\u001B[39m, \u001B[38;5;124m'\u001B[39m\u001B[38;5;124mвремя суток\u001B[39m\u001B[38;5;124m'\u001B[39m, \u001B[38;5;124m'\u001B[39m\u001B[38;5;124mпогода\u001B[39m\u001B[38;5;124m'\u001B[39m]\n\u001B[0;32m     33\u001B[0m example_2_data \u001B[38;5;241m=\u001B[39m [\n\u001B[0;32m     34\u001B[0m     [\u001B[38;5;241m1\u001B[39m, \u001B[38;5;124m'\u001B[39m\u001B[38;5;124mдень\u001B[39m\u001B[38;5;124m'\u001B[39m, \u001B[38;5;124m'\u001B[39m\u001B[38;5;124mдождь\u001B[39m\u001B[38;5;124m'\u001B[39m],\n\u001B[0;32m     35\u001B[0m     [\u001B[38;5;241m2\u001B[39m, \u001B[38;5;124m'\u001B[39m\u001B[38;5;124mночь\u001B[39m\u001B[38;5;124m'\u001B[39m, \u001B[38;5;124m'\u001B[39m\u001B[38;5;124mснег\u001B[39m\u001B[38;5;124m'\u001B[39m],\n\u001B[1;32m   (...)\u001B[0m\n\u001B[0;32m     38\u001B[0m     [\u001B[38;5;241m5\u001B[39m, \u001B[38;5;124m'\u001B[39m\u001B[38;5;124mсумерки\u001B[39m\u001B[38;5;124m'\u001B[39m, \u001B[38;5;124m'\u001B[39m\u001B[38;5;124mдождь\u001B[39m\u001B[38;5;124m'\u001B[39m],\n\u001B[0;32m     39\u001B[0m ]\n",
      "Cell \u001B[1;32mIn[123], line 33\u001B[0m, in \u001B[0;36mcategorical_to_binary_solution\u001B[1;34m(data, cooll)\u001B[0m\n\u001B[0;32m     30\u001B[0m col \u001B[38;5;241m=\u001B[39m cooll\u001B[38;5;241m.\u001B[39mcopy()\n\u001B[0;32m     31\u001B[0m col\u001B[38;5;241m.\u001B[39mextend(categories)\n\u001B[1;32m---> 33\u001B[0m ds \u001B[38;5;241m=\u001B[39m pd\u001B[38;5;241m.\u001B[39mDataFrame(data\u001B[38;5;241m=\u001B[39mresult, columns\u001B[38;5;241m=\u001B[39mcol)\n\u001B[0;32m     34\u001B[0m \u001B[38;5;28;01mreturn\u001B[39;00m ds\n",
      "File \u001B[1;32mC:\\_IT\\anaconda\\Lib\\site-packages\\pandas\\core\\frame.py:806\u001B[0m, in \u001B[0;36mDataFrame.__init__\u001B[1;34m(self, data, index, columns, dtype, copy)\u001B[0m\n\u001B[0;32m    804\u001B[0m     \u001B[38;5;28;01mif\u001B[39;00m columns \u001B[38;5;129;01mis\u001B[39;00m \u001B[38;5;129;01mnot\u001B[39;00m \u001B[38;5;28;01mNone\u001B[39;00m:\n\u001B[0;32m    805\u001B[0m         columns \u001B[38;5;241m=\u001B[39m ensure_index(columns)\n\u001B[1;32m--> 806\u001B[0m     arrays, columns, index \u001B[38;5;241m=\u001B[39m nested_data_to_arrays(\n\u001B[0;32m    807\u001B[0m         \u001B[38;5;66;03m# error: Argument 3 to \"nested_data_to_arrays\" has incompatible\u001B[39;00m\n\u001B[0;32m    808\u001B[0m         \u001B[38;5;66;03m# type \"Optional[Collection[Any]]\"; expected \"Optional[Index]\"\u001B[39;00m\n\u001B[0;32m    809\u001B[0m         data,\n\u001B[0;32m    810\u001B[0m         columns,\n\u001B[0;32m    811\u001B[0m         index,  \u001B[38;5;66;03m# type: ignore[arg-type]\u001B[39;00m\n\u001B[0;32m    812\u001B[0m         dtype,\n\u001B[0;32m    813\u001B[0m     )\n\u001B[0;32m    814\u001B[0m     mgr \u001B[38;5;241m=\u001B[39m arrays_to_mgr(\n\u001B[0;32m    815\u001B[0m         arrays,\n\u001B[0;32m    816\u001B[0m         columns,\n\u001B[1;32m   (...)\u001B[0m\n\u001B[0;32m    819\u001B[0m         typ\u001B[38;5;241m=\u001B[39mmanager,\n\u001B[0;32m    820\u001B[0m     )\n\u001B[0;32m    821\u001B[0m \u001B[38;5;28;01melse\u001B[39;00m:\n",
      "File \u001B[1;32mC:\\_IT\\anaconda\\Lib\\site-packages\\pandas\\core\\internals\\construction.py:520\u001B[0m, in \u001B[0;36mnested_data_to_arrays\u001B[1;34m(data, columns, index, dtype)\u001B[0m\n\u001B[0;32m    517\u001B[0m \u001B[38;5;28;01mif\u001B[39;00m is_named_tuple(data[\u001B[38;5;241m0\u001B[39m]) \u001B[38;5;129;01mand\u001B[39;00m columns \u001B[38;5;129;01mis\u001B[39;00m \u001B[38;5;28;01mNone\u001B[39;00m:\n\u001B[0;32m    518\u001B[0m     columns \u001B[38;5;241m=\u001B[39m ensure_index(data[\u001B[38;5;241m0\u001B[39m]\u001B[38;5;241m.\u001B[39m_fields)\n\u001B[1;32m--> 520\u001B[0m arrays, columns \u001B[38;5;241m=\u001B[39m to_arrays(data, columns, dtype\u001B[38;5;241m=\u001B[39mdtype)\n\u001B[0;32m    521\u001B[0m columns \u001B[38;5;241m=\u001B[39m ensure_index(columns)\n\u001B[0;32m    523\u001B[0m \u001B[38;5;28;01mif\u001B[39;00m index \u001B[38;5;129;01mis\u001B[39;00m \u001B[38;5;28;01mNone\u001B[39;00m:\n",
      "File \u001B[1;32mC:\\_IT\\anaconda\\Lib\\site-packages\\pandas\\core\\internals\\construction.py:845\u001B[0m, in \u001B[0;36mto_arrays\u001B[1;34m(data, columns, dtype)\u001B[0m\n\u001B[0;32m    842\u001B[0m     data \u001B[38;5;241m=\u001B[39m [\u001B[38;5;28mtuple\u001B[39m(x) \u001B[38;5;28;01mfor\u001B[39;00m x \u001B[38;5;129;01min\u001B[39;00m data]\n\u001B[0;32m    843\u001B[0m     arr \u001B[38;5;241m=\u001B[39m _list_to_arrays(data)\n\u001B[1;32m--> 845\u001B[0m content, columns \u001B[38;5;241m=\u001B[39m _finalize_columns_and_data(arr, columns, dtype)\n\u001B[0;32m    846\u001B[0m \u001B[38;5;28;01mreturn\u001B[39;00m content, columns\n",
      "File \u001B[1;32mC:\\_IT\\anaconda\\Lib\\site-packages\\pandas\\core\\internals\\construction.py:942\u001B[0m, in \u001B[0;36m_finalize_columns_and_data\u001B[1;34m(content, columns, dtype)\u001B[0m\n\u001B[0;32m    939\u001B[0m     columns \u001B[38;5;241m=\u001B[39m _validate_or_indexify_columns(contents, columns)\n\u001B[0;32m    940\u001B[0m \u001B[38;5;28;01mexcept\u001B[39;00m \u001B[38;5;167;01mAssertionError\u001B[39;00m \u001B[38;5;28;01mas\u001B[39;00m err:\n\u001B[0;32m    941\u001B[0m     \u001B[38;5;66;03m# GH#26429 do not raise user-facing AssertionError\u001B[39;00m\n\u001B[1;32m--> 942\u001B[0m     \u001B[38;5;28;01mraise\u001B[39;00m \u001B[38;5;167;01mValueError\u001B[39;00m(err) \u001B[38;5;28;01mfrom\u001B[39;00m \u001B[38;5;21;01merr\u001B[39;00m\n\u001B[0;32m    944\u001B[0m \u001B[38;5;28;01mif\u001B[39;00m \u001B[38;5;28mlen\u001B[39m(contents) \u001B[38;5;129;01mand\u001B[39;00m contents[\u001B[38;5;241m0\u001B[39m]\u001B[38;5;241m.\u001B[39mdtype \u001B[38;5;241m==\u001B[39m np\u001B[38;5;241m.\u001B[39mobject_:\n\u001B[0;32m    945\u001B[0m     contents \u001B[38;5;241m=\u001B[39m convert_object_array(contents, dtype\u001B[38;5;241m=\u001B[39mdtype)\n",
      "\u001B[1;31mValueError\u001B[0m: 3 columns passed, passed data had 4 columns"
     ]
    }
   ],
   "source": [
    "categorical_to_binary_tests()"
   ]
  },
  {
   "cell_type": "markdown",
   "id": "ff7851cc",
   "metadata": {},
   "source": [
    "## Целевое кодирование"
   ]
  },
  {
   "cell_type": "code",
   "id": "3ca89c0f",
   "metadata": {
    "ExecuteTime": {
     "end_time": "2024-04-25T22:14:59.301831Z",
     "start_time": "2024-04-25T22:14:59.284235Z"
    }
   },
   "source": [
    "def round_to_2(x):\n",
    "    \"\"\"\n",
    "    Принимает число и возвращает результат его округления\n",
    "    до 2 знаков после запятой.\n",
    "    \n",
    "    Аргументы:\n",
    "        x: Число.\n",
    "        \n",
    "    Возвращаемое значение:\n",
    "        Результат округления числа до 2 знаков после запятой.\n",
    "    \"\"\"\n",
    "    \n",
    "    return round(x, 2)"
   ],
   "outputs": [],
   "execution_count": 11
  },
  {
   "cell_type": "code",
   "execution_count": null,
   "id": "a2ab1b78",
   "metadata": {},
   "outputs": [],
   "source": [
    "def target_coding_solution(data, factor_column, target_column):\n",
    "    \"\"\"\n",
    "    Принимает таблицу и производит в ней целевое кодирование заданного фактора.\n",
    "    \n",
    "    Аргументы:\n",
    "        data: Исходная таблица.\n",
    "        factor_column: Название категориального фактора исходной таблицы, который нужно закодировать.\n",
    "        target_column: Название колонки, в которой содержится предсказываемое по данным значение.\n",
    "        \n",
    "    Возвращаемое значение:\n",
    "        Функция ничего не возвращает. Однако в результате её запуска в исходной таблице должна появиться\n",
    "        новая колонка с названием \"encoded\", в которой представлен результат кодирования\n",
    "        фактора \"factor_column\".\n",
    "    \"\"\"\n",
    "    \n",
    "    pass"
   ]
  },
  {
   "cell_type": "code",
   "execution_count": null,
   "id": "26519607",
   "metadata": {},
   "outputs": [],
   "source": [
    "def target_coding_tests():\n",
    "    def compare_tables(table_calc, table_real):\n",
    "        for factor in factors:\n",
    "            vals = list(table_real[factor].unique())\n",
    "            \n",
    "            for val in vals:\n",
    "                assert list(table_calc['encoded']) == list(table_real[val])\n",
    "                \n",
    "    def modify_table(data):\n",
    "        def inner(attr_name, attr_value, data=data):\n",
    "            pd.DataFrame._set_item(data, attr_name, attr_value)\n",
    "            \n",
    "            if attr_name == 'encoded':\n",
    "                if not data._rec:\n",
    "                    data._rec = True\n",
    "                    pd.DataFrame._set_item(data, 'encoded', data['encoded'].astype('float'))\n",
    "                \n",
    "                data._rec = False\n",
    "                \n",
    "        data._set_item = inner\n",
    "        data._rec = False\n",
    "        \n",
    "        return data\n",
    "                \n",
    "                \n",
    "    example_1_columns = ['Фактор 1', 'Фактор 2', 'Предсказание']\n",
    "    example_1_data = [\n",
    "        ['a', 'значение 1', 1],\n",
    "        ['a', 'значение 2', 3],\n",
    "        ['aa', 'значение 3', 3]\n",
    "    ]\n",
    "    example_1_table = pd.DataFrame(columns=example_1_columns, data=example_1_data)\n",
    "    example_1_factor = 'Фактор 1'\n",
    "    example_1_target_factor = 'Предсказание'\n",
    "    \n",
    "    target_coding_solution(modify_table(example_1_table), example_1_factor, example_1_target_factor)\n",
    "    \n",
    "    example_1_res = [2.0, 2.0, 3.0]\n",
    "    \n",
    "    assert list(example_1_table['encoded']) == example_1_res\n",
    "    \n",
    "    example_2_columns = ['A', 'B', 'C', 'D', 'E']\n",
    "    example_2_data = [\n",
    "        ['a', 'bb', 'ccc', 'dd', 1],\n",
    "        ['aa', 'b', 'ccc', 'ddd', 7],\n",
    "        ['a', 'bb', 'ccc', 'dd', 6],\n",
    "        ['aa', 'b', 'ccc', 'd', 5],\n",
    "        ['a', 'bb', 'ccc', 'd', 1]\n",
    "    ]\n",
    "    example_2_table = pd.DataFrame(columns=example_2_columns, data=example_2_data)\n",
    "    example_2_factor = 'D'\n",
    "    example_2_target_factor = 'E'\n",
    "    \n",
    "    target_coding_solution(modify_table(example_2_table), example_2_factor, example_2_target_factor)\n",
    "    \n",
    "    example_2_res = [3.5, 7.0, 3.5, 3.0, 3.0]\n",
    "    \n",
    "    assert list(example_2_table['encoded']) == example_2_res\n",
    "    \n",
    "    print('Все тесты прошли успешно!')"
   ]
  },
  {
   "cell_type": "code",
   "execution_count": null,
   "id": "82926dc3",
   "metadata": {},
   "outputs": [],
   "source": [
    "target_coding_tests()"
   ]
  },
  {
   "cell_type": "markdown",
   "id": "01d28ff6",
   "metadata": {},
   "source": [
    "## Стандартизация факторов"
   ]
  },
  {
   "cell_type": "code",
   "id": "bcca4f20",
   "metadata": {
    "ExecuteTime": {
     "end_time": "2024-04-18T22:58:16.939356Z",
     "start_time": "2024-04-18T22:58:16.933607Z"
    }
   },
   "source": [
    "def standard_deviation_solution(column):\n",
    "    \"\"\"\n",
    "    Вычисляет разброс значений в колонке.\n",
    "    \n",
    "    Аргументы:\n",
    "        column: Колонка с численными значениями.\n",
    "        \n",
    "    Возвращаемое значение:\n",
    "        Величина разброса значений в колонке, округлённая до 2 знаков после запятой.\n",
    "    \"\"\"\n",
    "    \n",
    "    average = sum(column)/len(column)\n",
    "    temp = 0\n",
    "    for x in column:\n",
    "        temp += (x - average)**2\n",
    "        \n",
    "    ans = (temp/len(column))**(1/2)\n",
    "    \n",
    "    \n",
    "    return round_to_2(ans)\n",
    "    "
   ],
   "outputs": [],
   "execution_count": 10
  },
  {
   "cell_type": "code",
   "id": "7d5a622f",
   "metadata": {
    "ExecuteTime": {
     "end_time": "2024-04-18T22:58:17.534749Z",
     "start_time": "2024-04-18T22:58:17.530027Z"
    }
   },
   "source": [
    "def standard_deviation_tests():\n",
    "    example_1_column = pd.Series([1, 2, 1, 3, 4, 5])\n",
    "    example_1_res = 1.49\n",
    "    \n",
    "    assert standard_deviation_solution(example_1_column) == example_1_res\n",
    "    \n",
    "    example_2_column = pd.Series([5, 5, 5, 5, 5])\n",
    "    example_2_res = 0.0\n",
    "    \n",
    "    assert standard_deviation_solution(example_2_column) == example_2_res\n",
    "    \n",
    "    print('Все тесты прошли успешно!')"
   ],
   "outputs": [],
   "execution_count": 11
  },
  {
   "cell_type": "code",
   "id": "a27239bb",
   "metadata": {
    "ExecuteTime": {
     "end_time": "2024-04-18T22:58:18.189650Z",
     "start_time": "2024-04-18T22:58:18.182489Z"
    }
   },
   "source": [
    "standard_deviation_tests()"
   ],
   "outputs": [
    {
     "name": "stdout",
     "output_type": "stream",
     "text": [
      "Все тесты прошли успешно!\n"
     ]
    }
   ],
   "execution_count": 12
  },
  {
   "metadata": {
    "ExecuteTime": {
     "end_time": "2024-04-19T14:51:08.963661Z",
     "start_time": "2024-04-19T14:51:08.945835Z"
    }
   },
   "cell_type": "code",
   "source": [
    "column = [33, 98, 72, 117, 75]\n",
    "s = standard_deviation_solution(column)\n",
    "s\n"
   ],
   "id": "5429df7590bfb1a8",
   "outputs": [
    {
     "data": {
      "text/plain": [
       "28.23"
      ]
     },
     "execution_count": 76,
     "metadata": {},
     "output_type": "execute_result"
    }
   ],
   "execution_count": 76
  },
  {
   "cell_type": "code",
   "id": "636cb3fd",
   "metadata": {
    "ExecuteTime": {
     "end_time": "2024-04-19T14:52:51.096404Z",
     "start_time": "2024-04-19T14:52:51.087046Z"
    }
   },
   "source": [
    "def standartize_column_solution(column):\n",
    "    \"\"\"\n",
    "    Производит стандартизацию значений в колонке.\n",
    "    \n",
    "    Аргументы:\n",
    "        column: Колонка с численными значениями.\n",
    "        \n",
    "    Возвращаемое значение:\n",
    "        Возвращает колонку со стандартизированными значениями.\n",
    "        То есть из каждого из исходных значений вычтено среднее, после чего разница разделена на значение разброса.\n",
    "        \n",
    "        Каждое значение в итоговой колонке должно быть округлено до 2 знаков после запятой.\n",
    "    \"\"\"\n",
    "    s = standard_deviation_solution(column)\n",
    "    average = sum(column)/len(column)\n",
    "    i = 0\n",
    "    \n",
    "    \n",
    "    for x in column:\n",
    "        y = ((x - average) / s)\n",
    "        column[i] = round_to_2(y)\n",
    "        i += 1\n",
    "    \n",
    "    ans = pd.Series(column).astype('float')\n",
    "    \n",
    "    return ans\n",
    "    \n",
    "    "
   ],
   "outputs": [],
   "execution_count": 77
  },
  {
   "metadata": {
    "ExecuteTime": {
     "end_time": "2024-04-19T14:54:09.728632Z",
     "start_time": "2024-04-19T14:54:09.703208Z"
    }
   },
   "cell_type": "code",
   "source": [
    "column = [33, 98, 72, 117, 75]\n",
    "ans = standartize_column_solution(column)\n",
    "ans"
   ],
   "id": "9159c20739592e98",
   "outputs": [
    {
     "data": {
      "text/plain": [
       "0   -1.63\n",
       "1    0.67\n",
       "2   -0.25\n",
       "3    1.35\n",
       "4   -0.14\n",
       "dtype: float64"
      ]
     },
     "execution_count": 80,
     "metadata": {},
     "output_type": "execute_result"
    }
   ],
   "execution_count": 80
  },
  {
   "cell_type": "code",
   "id": "83e6b3af",
   "metadata": {
    "ExecuteTime": {
     "end_time": "2024-04-19T14:52:51.472138Z",
     "start_time": "2024-04-19T14:52:51.458821Z"
    }
   },
   "source": [
    "def standartize_column_tests():\n",
    "    example_1_column = pd.Series([1, 2, 1, 3, 4, 5]).astype('float')\n",
    "    example_1_column_backup = example_1_column.copy(deep=True)\n",
    "    example_1_res = [-1.12, -0.45, -1.12, 0.22, 0.89, 1.57]\n",
    "    \n",
    "    res_1 = standartize_column_solution(example_1_column).astype('float')\n",
    "    \n",
    "    if len(example_1_column) != (example_1_column == example_1_column_backup).sum():\n",
    "        raise RuntimeError('В результате работы функция не должна менять исходную колонку')\n",
    "        \n",
    "    if not isinstance(res_1, pd.Series):\n",
    "        raise RuntimeError('В результате работы функция должна возвращать колонку')\n",
    "    \n",
    "    assert list(res_1) == example_1_res\n",
    "    \n",
    "    example_2_column = pd.Series([5, 5, 5, 5, 5])\n",
    "    example_2_column_backup = example_2_column.copy(deep=True)\n",
    "    example_2_res = [0.0, 0.0, 0.0, 0.0, 0.0]\n",
    "    \n",
    "    res_2 = standartize_column_solution(example_2_column.astype('float')).astype('float')\n",
    "    \n",
    "    if len(example_2_column) != (example_2_column == example_2_column_backup).sum():\n",
    "        raise RuntimeError('В результате работы функция не должна менять исходную колонку')\n",
    "        \n",
    "    if not isinstance(res_2, pd.Series):\n",
    "        raise RuntimeError('В результате работы функция должна возвращать колонку')\n",
    "    \n",
    "    assert list(res_2) == example_2_res\n",
    "    \n",
    "    print('Все тесты прошли успешно!')"
   ],
   "outputs": [],
   "execution_count": 78
  },
  {
   "cell_type": "code",
   "id": "c929de6d",
   "metadata": {
    "ExecuteTime": {
     "end_time": "2024-04-19T14:52:52.087353Z",
     "start_time": "2024-04-19T14:52:52.024815Z"
    }
   },
   "source": [
    "standartize_column_tests()"
   ],
   "outputs": [
    {
     "name": "stdout",
     "output_type": "stream",
     "text": [
      "6\n",
      "0\n"
     ]
    },
    {
     "ename": "RuntimeError",
     "evalue": "В результате работы функция не должна менять исходную колонку",
     "output_type": "error",
     "traceback": [
      "\u001B[1;31m---------------------------------------------------------------------------\u001B[0m",
      "\u001B[1;31mRuntimeError\u001B[0m                              Traceback (most recent call last)",
      "Cell \u001B[1;32mIn[79], line 1\u001B[0m\n\u001B[1;32m----> 1\u001B[0m standartize_column_tests()\n",
      "Cell \u001B[1;32mIn[78], line 11\u001B[0m, in \u001B[0;36mstandartize_column_tests\u001B[1;34m()\u001B[0m\n\u001B[0;32m      9\u001B[0m     \u001B[38;5;28mprint\u001B[39m(\u001B[38;5;28mlen\u001B[39m(example_1_column))\n\u001B[0;32m     10\u001B[0m     \u001B[38;5;28mprint\u001B[39m((example_1_column \u001B[38;5;241m==\u001B[39m example_1_column_backup)\u001B[38;5;241m.\u001B[39msum())\n\u001B[1;32m---> 11\u001B[0m     \u001B[38;5;28;01mraise\u001B[39;00m \u001B[38;5;167;01mRuntimeError\u001B[39;00m(\u001B[38;5;124m'\u001B[39m\u001B[38;5;124mВ результате работы функция не должна менять исходную колонку\u001B[39m\u001B[38;5;124m'\u001B[39m)\n\u001B[0;32m     13\u001B[0m \u001B[38;5;28;01mif\u001B[39;00m \u001B[38;5;129;01mnot\u001B[39;00m \u001B[38;5;28misinstance\u001B[39m(res_1, pd\u001B[38;5;241m.\u001B[39mSeries):\n\u001B[0;32m     14\u001B[0m     \u001B[38;5;28;01mraise\u001B[39;00m \u001B[38;5;167;01mRuntimeError\u001B[39;00m(\u001B[38;5;124m'\u001B[39m\u001B[38;5;124mВ результате работы функция должна возвращать колонку\u001B[39m\u001B[38;5;124m'\u001B[39m)\n",
      "\u001B[1;31mRuntimeError\u001B[0m: В результате работы функция не должна менять исходную колонку"
     ]
    }
   ],
   "execution_count": 79
  },
  {
   "cell_type": "markdown",
   "id": "d76f9f24",
   "metadata": {},
   "source": [
    "## Корреляция"
   ]
  },
  {
   "cell_type": "code",
   "id": "3e697852",
   "metadata": {
    "ExecuteTime": {
     "end_time": "2024-04-25T23:17:43.016746Z",
     "start_time": "2024-04-25T23:17:43.006571Z"
    }
   },
   "source": [
    "\n",
    "def correlation_solution(x, y):\n",
    "    \"\"\"\n",
    "    Принимает на вход два списка численных значений и рассчитывает их корреляцию.\n",
    "    \n",
    "    Аргументы:\n",
    "        x: Первый список численных значений.\n",
    "        y: Второй список численных значений.\n",
    "        \n",
    "    Возвращаемое значение:\n",
    "        Корреляция значений из списка x со значениями из списка y.\n",
    "        Значение корреляции должно быть округлено до 2 знаков после запятой.\n",
    "    \"\"\"\n",
    "    Xaverage = sum(x) / len(x)\n",
    "    Yaverage = sum(y) / len(y)\n",
    "\n",
    "    numerator = 0\n",
    "    Xdenominator = 0\n",
    "    Ydenominator = 0\n",
    "\n",
    "    for i, j in zip(x, y):\n",
    "        numerator += (i - Xaverage) * (j - Yaverage)\n",
    "        Xdenominator += (i - Xaverage) ** 2\n",
    "        Ydenominator += (j - Yaverage) ** 2\n",
    "\n",
    "    corr = numerator / (Xdenominator * Ydenominator) ** (1/2)\n",
    "    corr = round(corr, 2)\n",
    "\n",
    "    return corr\n",
    "    \n",
    "x = [15, 18, 21, 17, 19]\n",
    "y = [0, 6, 15, 9, 10] \n",
    "correlation_solution(x, y)\n",
    "    "
   ],
   "outputs": [
    {
     "data": {
      "text/plain": [
       "0.93"
      ]
     },
     "execution_count": 64,
     "metadata": {},
     "output_type": "execute_result"
    }
   ],
   "execution_count": 64
  },
  {
   "cell_type": "code",
   "id": "3cbbbe8e",
   "metadata": {
    "ExecuteTime": {
     "end_time": "2024-04-25T22:42:30.536462Z",
     "start_time": "2024-04-25T22:42:30.343256Z"
    }
   },
   "source": [
    "def correlation_tests():\n",
    "    example_1_x = [1, 1, 0, 1, 0, 1, 1, 1, 1, 0, 0, 1, 0, 0, 1, 1, 0, 1, 1, 1, 0, 0, 1, 1, 1, 1, 0, 1, 1, 1, 0, 0, 0, 1, 0, 0, 0, 0, 0, 1, 0, 0, 1, 1, 0, 1, 0, 0, 0, 0, 1, 1, 1, 0, 0, 1, 0, 0, 0, 0, 0, 1, 1, 1, 1, 1, 1, 0, 0, 1, 1, 0, 1, 1, 1, 1, 0, 1, 1, 0, 0, 0, 1, 0, 1, 1, 1, 0, 1, 0, 1, 0, 1, 1, 0, 0, 0, 0, 0, 1]\n",
    "    example_1_y = [0, 1, 0, 0, 1, 1, 0, 1, 0, 0, 1, 1, 0, 0, 1, 0, 0, 1, 1, 1, 0, 0, 1, 0, 1, 1, 1, 1, 0, 1, 1, 0, 1, 1, 0, 1, 1, 0, 1, 0, 1, 0, 1, 1, 1, 1, 1, 1, 0, 1, 1, 1, 0, 1, 0, 0, 0, 1, 0, 1, 1, 1, 0, 1, 1, 0, 1, 0, 0, 0, 0, 0, 0, 0, 0, 0, 1, 1, 1, 0, 1, 0, 0, 1, 1, 1, 1, 0, 0, 1, 1, 1, 1, 0, 0, 0, 1, 1, 1, 0]\n",
    "    example_1_res = 0.06\n",
    "    \n",
    "    assert correlation_solution(example_1_x, example_1_y) == example_1_res\n",
    "    \n",
    "    example_2_x = [0, 1, 0, 1, 1, 1, 1, 1, 1, 0, 0, 1, 0, 0, 0, 1, 0, 0, 0, 0, 1, 1, 1, 0, 1, 0, 1, 0, 0, 1, 0, 0, 1, 1, 0, 1, 1, 0, 1, 1, 1, 1, 1, 1, 0, 1, 1, 0, 1, 1, 1, 0, 0, 0, 0, 0, 1, 0, 1, 0, 1, 1, 0, 1, 0, 1, 0, 1, 0, 0, 0, 0, 0, 0, 0, 0, 0, 1, 1, 0, 0, 1, 1, 1, 1, 1, 1, 1, 1, 1, 1, 0, 1, 0, 1, 1, 0, 1, 0, 1, 1, 0, 0, 0, 1, 1, 1, 1, 0, 0, 0, 0, 1, 0, 1, 0, 0, 1, 1, 1, 1, 1, 1, 1, 0, 1, 1, 1, 0, 0, 1, 0, 0, 0, 0, 0, 0, 0, 0, 1, 1, 1, 0, 0, 0, 0, 1, 1, 1, 0, 1, 1, 0, 0, 1, 0, 0, 0, 0, 1, 1, 0, 1, 0, 0, 1, 0, 0, 0, 0, 0, 1, 1, 0, 0, 0, 1, 0, 0, 0, 0, 0, 1, 0, 1, 1, 1, 0, 1, 0, 0, 0, 1, 1, 0, 1, 1, 1, 1, 1, 0, 1, 0, 0, 0, 0, 0, 1, 1, 1, 0, 1, 0, 0, 1, 1, 0, 0, 1, 0, 0, 0, 1, 1, 0, 0, 1, 0, 0, 1, 1, 1, 0, 1, 0, 0, 0, 0, 0, 1, 1, 1, 0, 0, 0, 1, 0, 1, 1, 0, 0, 1, 1, 1, 1, 1, 1, 0, 0, 0, 1, 0, 1, 0, 1, 0, 0, 1, 1, 0, 1, 1, 1, 1, 0, 1, 0, 0, 0, 0, 1, 1, 0, 0, 0, 0, 0, 1, 1, 0, 1, 1, 0, 1, 1, 1, 1, 1, 0, 0, 0, 1, 1, 0, 0, 1, 0, 1, 1, 0, 0, 0, 0, 1, 0, 1, 1, 1, 1, 0, 0, 0, 1, 1, 0, 1, 1, 1, 0, 1, 0, 1, 0, 0, 0, 0, 0, 0, 1, 1, 1, 0, 0, 1, 0, 1, 1, 0, 1, 1, 0, 1, 1, 1, 0, 1, 1, 1, 1, 1, 1, 1, 0, 0, 0, 1, 0, 1, 1, 0, 1, 0, 0, 1, 1, 1, 0, 0, 0, 0, 0, 0, 0, 1, 0, 0, 1, 0, 0, 0, 1, 1, 1, 1, 1, 1, 1, 0, 1, 0, 0, 0, 0, 0, 0, 1, 1, 0, 1, 1, 1, 1, 1, 1, 1, 1, 1, 0, 0, 1, 0, 1, 1, 0, 0, 0, 0, 0, 0, 1, 1, 0, 1, 1, 1, 1, 1, 1, 0, 1, 0, 0, 0, 0, 1, 1, 0, 1, 1, 1, 1, 0, 0, 1, 0, 0, 1, 0, 1, 0, 1, 1, 0, 0, 1, 1, 0, 0, 0, 1, 1, 0, 1, 0, 0, 0, 1, 1, 1, 0, 1, 0, 0, 0, 1, 1, 1, 1, 0, 0, 1, 1, 0, 0, 0, 0, 0, 0, 1, 0, 0, 0, 1, 1, 0, 1, 0, 0, 1, 1, 0, 1, 0, 0, 1, 1, 0, 1, 0, 0, 1, 0, 1, 1, 1, 0, 1, 1, 1, 1, 1, 0, 1, 0, 1, 0, 0, 0, 0, 0, 1, 0, 1, 1, 1, 0, 0, 0, 1, 0, 0, 0, 0, 0, 0, 0, 0, 1, 1, 0, 1, 0, 0, 0, 1, 1, 1, 1, 0, 0, 0, 1, 1, 1, 0, 1, 1, 0, 1, 1, 1, 1, 1, 1, 1, 1, 0, 1, 1, 0, 1, 1, 1, 0, 1, 0, 0, 0, 0, 1, 0, 0, 1, 1, 1, 0, 0, 0, 1, 0, 0, 0, 1, 1, 0, 1, 0, 1, 1, 0, 0, 1, 1, 1, 1, 0, 1, 1, 1, 0, 0, 1, 1, 1, 1, 0, 0, 0, 1, 0, 0, 1, 0, 1, 0, 0, 1, 0, 0, 0, 0, 1, 1, 1, 0, 0, 0, 0, 1, 1, 1, 0, 0, 1, 1, 0, 1, 1, 1, 0, 0, 1, 0, 0, 1, 0, 1, 1, 1, 1, 0, 1, 0, 0, 0, 1, 0, 0, 0, 0, 1, 1, 0, 1, 0, 1, 1, 1, 0, 0, 1, 1, 1, 0, 1, 0, 1, 1, 0, 0, 0, 1, 0, 1, 0, 0, 1, 1, 1, 1, 1, 0, 0, 1, 1, 1, 1, 0, 0, 0, 1, 1, 1, 0, 0, 1, 0, 0, 1, 1, 0, 1, 0, 0, 0, 1, 0, 0, 0, 0, 0, 1, 1, 1, 0, 0, 1, 0, 0, 0, 1, 1, 1, 0, 1, 1, 0, 1, 0, 0, 0, 0, 1, 0, 1, 1, 0, 1, 0, 0, 1, 0, 0, 0, 1, 1, 0, 0, 0, 1, 0, 0, 0, 0, 0, 1, 1, 1, 0, 0, 0, 0, 0, 1, 1, 1, 1, 0, 1, 0, 1, 0, 1, 1, 0, 1, 1, 0, 1, 1, 0, 0, 0, 1, 0, 1, 0, 0, 1, 0, 1, 0, 0, 1, 0, 0, 1, 1, 0, 0, 0, 0, 0, 0, 0, 0, 1, 1, 0, 1, 1, 1, 1, 1, 0, 0, 0, 1, 1, 0, 1, 1, 1, 0, 1, 1, 1, 1, 0, 1, 0, 0, 0, 1, 1, 1, 0, 1, 0, 1, 0, 1, 1, 1, 0, 0, 1, 0, 1, 1, 0, 1, 0, 1, 0, 0, 0, 0, 1, 1, 0, 0, 1, 0, 1, 1, 1, 0, 0, 1, 1, 1, 0, 0, 0, 1, 0, 1, 1, 1, 0, 1, 1, 1, 0, 1, 1, 1, 1, 1, 1, 1, 0, 0, 1, 1, 1, 0, 1, 0, 1, 0, 1, 1, 0, 0, 1, 0, 1, 0, 0, 1, 0, 1, 1, 0, 1, 1, 0, 1, 0, 1, 0, 1, 1, 1, 1, 1, 1, 1, 0, 1, 1, 1, 0, 0, 0, 0, 0, 1, 1, 1, 0, 1, 0, 1, 1, 1, 1, 1, 0, 0, 1, 1, 1, 0, 1, 1, 0, 0]\n",
    "    example_2_y = [0, 1, 0, 1, 1, 1, 1, 1, 1, 0, 0, 1, 0, 0, 0, 1, 0, 0, 0, 0, 1, 1, 1, 0, 1, 0, 1, 0, 0, 1, 0, 0, 1, 1, 0, 1, 1, 0, 1, 1, 1, 1, 1, 1, 0, 1, 1, 0, 1, 1, 1, 0, 0, 0, 0, 0, 1, 0, 1, 0, 1, 1, 0, 1, 0, 1, 0, 1, 0, 0, 0, 0, 0, 0, 0, 0, 0, 1, 1, 0, 0, 1, 1, 1, 1, 1, 1, 1, 1, 1, 1, 0, 1, 0, 1, 1, 0, 1, 0, 1, 1, 0, 0, 0, 1, 1, 1, 1, 0, 0, 0, 0, 1, 0, 1, 0, 0, 1, 1, 1, 1, 1, 1, 1, 0, 1, 1, 1, 0, 0, 1, 0, 0, 0, 0, 0, 0, 0, 0, 1, 1, 1, 0, 0, 0, 0, 1, 1, 1, 0, 1, 1, 0, 0, 1, 0, 0, 0, 0, 1, 1, 0, 1, 0, 0, 1, 0, 0, 0, 0, 0, 1, 1, 0, 0, 0, 1, 0, 0, 0, 0, 0, 1, 0, 1, 1, 1, 0, 1, 0, 0, 0, 1, 1, 0, 1, 1, 1, 1, 1, 0, 1, 0, 0, 0, 0, 0, 1, 1, 1, 0, 1, 0, 0, 1, 1, 0, 0, 1, 0, 0, 0, 1, 1, 0, 0, 1, 0, 0, 1, 1, 1, 0, 1, 0, 0, 0, 0, 0, 1, 1, 1, 0, 0, 0, 1, 0, 1, 1, 0, 0, 1, 1, 1, 1, 1, 1, 0, 0, 0, 1, 0, 1, 0, 1, 0, 0, 1, 1, 0, 1, 1, 1, 1, 0, 1, 0, 0, 0, 0, 1, 1, 0, 0, 0, 0, 0, 1, 1, 0, 1, 1, 0, 1, 1, 1, 1, 1, 0, 0, 0, 1, 1, 0, 0, 1, 0, 1, 1, 0, 0, 0, 0, 1, 0, 1, 1, 1, 1, 0, 0, 0, 1, 1, 0, 1, 1, 1, 0, 1, 0, 1, 0, 0, 0, 0, 0, 0, 1, 1, 1, 0, 0, 1, 0, 1, 1, 0, 1, 1, 0, 1, 1, 1, 0, 1, 1, 1, 1, 1, 1, 1, 0, 0, 0, 1, 0, 1, 1, 0, 1, 0, 0, 1, 1, 1, 0, 0, 0, 0, 0, 0, 0, 1, 0, 0, 1, 0, 0, 0, 1, 1, 1, 1, 1, 1, 1, 0, 1, 0, 0, 0, 0, 0, 0, 1, 1, 0, 1, 1, 1, 1, 1, 1, 1, 1, 1, 0, 0, 1, 0, 1, 1, 0, 0, 0, 0, 0, 0, 1, 1, 0, 1, 1, 1, 1, 1, 1, 0, 1, 0, 0, 0, 0, 1, 1, 0, 1, 1, 1, 1, 0, 0, 1, 0, 0, 1, 0, 1, 0, 1, 1, 0, 0, 1, 1, 0, 0, 0, 1, 1, 0, 1, 0, 0, 0, 1, 1, 1, 0, 1, 0, 0, 0, 1, 1, 1, 1, 0, 0, 1, 1, 0, 0, 0, 0, 0, 0, 1, 0, 0, 0, 1, 1, 0, 1, 0, 0, 1, 1, 0, 1, 0, 0, 1, 1, 0, 1, 0, 0, 1, 0, 1, 1, 1, 0, 1, 1, 1, 1, 1, 0, 1, 0, 1, 0, 0, 0, 0, 0, 1, 0, 1, 1, 1, 0, 0, 0, 1, 0, 0, 0, 0, 0, 0, 0, 0, 1, 1, 0, 1, 0, 0, 0, 1, 1, 1, 1, 0, 0, 0, 1, 1, 1, 0, 1, 1, 0, 1, 1, 1, 1, 1, 1, 1, 1, 0, 1, 1, 0, 1, 1, 1, 0, 1, 0, 0, 0, 0, 1, 0, 0, 1, 1, 1, 0, 0, 0, 1, 0, 0, 0, 1, 1, 0, 1, 0, 1, 1, 0, 0, 1, 1, 1, 1, 0, 1, 1, 1, 0, 0, 1, 1, 1, 1, 0, 0, 0, 1, 0, 0, 1, 0, 1, 0, 0, 1, 0, 0, 0, 0, 1, 1, 1, 0, 0, 0, 0, 1, 1, 1, 0, 0, 1, 1, 0, 1, 1, 1, 0, 0, 1, 0, 0, 1, 0, 1, 1, 1, 1, 0, 1, 0, 0, 0, 1, 0, 0, 0, 0, 1, 1, 0, 1, 0, 1, 1, 1, 0, 0, 1, 1, 1, 0, 1, 0, 1, 1, 0, 0, 0, 1, 0, 1, 0, 0, 1, 1, 1, 1, 1, 0, 0, 1, 1, 1, 1, 0, 0, 0, 1, 1, 1, 0, 0, 1, 0, 0, 1, 1, 0, 1, 0, 0, 0, 1, 0, 0, 0, 0, 0, 1, 1, 1, 0, 0, 1, 0, 0, 0, 1, 1, 1, 0, 1, 1, 0, 1, 0, 0, 0, 0, 1, 0, 1, 1, 0, 1, 0, 0, 1, 0, 0, 0, 1, 1, 0, 0, 0, 1, 0, 0, 0, 0, 0, 1, 1, 1, 0, 0, 0, 0, 0, 1, 1, 1, 1, 0, 1, 0, 1, 0, 1, 1, 0, 1, 1, 0, 1, 1, 0, 0, 0, 1, 0, 1, 0, 0, 1, 0, 1, 0, 0, 1, 0, 0, 1, 1, 0, 0, 0, 0, 0, 0, 0, 0, 1, 1, 0, 1, 1, 1, 1, 1, 0, 0, 0, 1, 1, 0, 1, 1, 1, 0, 1, 1, 1, 1, 0, 1, 0, 0, 0, 1, 1, 1, 0, 1, 0, 1, 0, 1, 1, 1, 0, 0, 1, 0, 1, 1, 0, 1, 0, 1, 0, 0, 0, 0, 1, 1, 0, 0, 1, 0, 1, 1, 1, 0, 0, 1, 1, 1, 0, 0, 0, 1, 0, 1, 1, 1, 0, 1, 1, 1, 0, 1, 1, 1, 1, 1, 1, 1, 0, 0, 1, 1, 1, 0, 1, 0, 1, 0, 1, 1, 0, 0, 1, 0, 1, 0, 0, 1, 0, 1, 1, 0, 1, 1, 0, 1, 0, 1, 0, 1, 1, 1, 1, 1, 1, 1, 0, 1, 1, 1, 0, 0, 0, 0, 0, 1, 1, 1, 0, 1, 0, 1, 1, 1, 1, 1, 0, 0, 1, 1, 1, 0, 1, 1, 0, 0]\n",
    "    example_2_res = 1.0\n",
    "    \n",
    "    assert correlation_solution(example_2_x, example_2_y) == example_2_res\n",
    "    \n",
    "    example_3_x = [0.5818600611326465, 0.8035383903457303, 0.20517260608060484, 0.20850558199379476, 0.7367477623907723, 0.2281145420429206, 0.975145090304598, 0.871875708861607, 0.2496183571356584, 0.14984348962769356, 0.7821085029619292, 0.9986246065723, 0.5696659288033094, 0.5016228361084014, 0.46457599752593126, 0.2568760027579635, 0.30573237576098966, 0.6122390958080369, 0.9575421468887484, 0.3043111804760755, 0.2936015993997694, 0.9956935786427826, 0.4824580996412966, 0.3317421952405786, 0.8090579966267533, 0.5763743554119419, 0.8801734164717967, 0.4574617455896206, 0.1644170534567836, 0.7037236130045318, 0.04062564660370582, 0.5996397151335131, 0.7164662213575133, 0.2682346031761559, 0.5913052659520538, 0.639456900348918, 0.09882481875223126, 0.5439058347226169, 0.38754330361424894, 0.24585860316606922, 0.09913416464751335, 0.20945710457442746, 0.6555189844320585, 0.5195577547857297, 0.16202066419313277, 0.019418167134639064, 0.08526287229576668, 0.27624703778476334, 0.040640498838447336, 0.8770592811151563, 0.1972199574678163, 0.08610915542630393, 0.6425630777736363, 0.6967089348721487, 0.6422946322108369, 0.6263383863821811, 0.7965660261766316, 0.5249417246194114, 0.43203141216100227, 0.5090439522004587, 0.2712324374532029, 0.10937433366582083, 0.7543264583413115, 0.34463467296686734, 0.7401351038935753, 0.04695560315012115, 0.09882825052011568, 0.8319073837393395, 0.33168630710333424, 0.5724395977244555, 0.8674854239486955, 0.05470873489118877, 0.9179711663815192, 0.6281641028018318, 0.3424010750579609, 0.7718286896642751, 0.5430708776514231, 0.34214810305285726, 0.8921501443324928, 0.35649574150595287, 0.239401194119377, 0.944389192577959, 0.5780188308649606, 0.5438061958261025, 0.8682390458119864, 0.4167150257838619, 0.8843247129110196, 0.9897732109879164, 0.10773917291033641, 0.6363208894325586, 0.15570816913920404, 0.052208034609059206, 0.13426553602601454, 0.7969015008223626, 0.20454268280213295, 0.7155657859305377, 0.06721369146495626, 0.7799346521839573, 0.7802709016044568, 0.7065738406216701, 0.7848252409676094, 0.6943327309522734, 0.4619061166254207, 0.7823247613186914, 0.4393430926244295, 0.17467483494981972, 0.07418555165774965, 0.32426656621520067, 0.3864291596946928, 0.6872109725928429, 0.9104300931802171, 0.7398473055882715, 0.9538909488443472, 0.2671307691240943, 0.8244393998413296, 0.4157568576835071, 0.08788976333958098, 0.009206278450710426, 0.29668128288487283, 0.4416293772648594, 0.8082616398140551, 0.5053358096200393, 0.36262569747695617, 0.30785126953352626, 0.43086318997372874, 0.1266893150254943, 0.6120997257340286, 0.9740308713385092, 0.49500201565821556, 0.05471706846266289, 0.47169011734815725, 0.6974999734952951, 0.6871880430282603, 0.07718632771918388, 0.4240878937282857, 0.7241917160717146, 0.8256063546369612, 0.21401190951102622, 0.9090503595738056, 0.5713092122916203, 0.14732108777237896, 0.5471476071418351, 0.24536252644014145, 0.5078684894701245, 0.27499308876086903, 0.26412258979117165, 0.21895126887118255, 0.018227521506160582, 0.07516425470327182, 0.988930696374828, 0.37883299156861716, 0.37467889061400916, 0.7741751207755173, 0.2604456192229355, 0.846721214605485, 0.29052848371626605, 0.0033115548296166475, 0.3755778137043132, 0.8852373480491568, 0.47980806755488914, 0.7956047814789192, 0.39488789879310915, 0.10602712626681166, 0.8830075108047725, 0.200799981522513, 0.5970491448229495, 0.3025496308617579, 0.8014992269032962, 0.9664508469759434, 0.7888879005556324, 0.20053603115172058, 0.497858585810693, 0.39433665878608193, 0.43455945745968627, 0.4636981996271833, 0.6436513786837726, 0.021616748269036812, 0.5046066416278518, 0.45934634416064, 0.5063222798392113, 0.8006884919167048, 0.07345966887983568, 0.06846394045481985, 0.0025714627811882496, 0.32473957287898403, 0.04527405810660323, 0.07068197115410846, 0.7423041519311933, 0.02937949614334434, 0.933459136522982, 0.7601723912176795, 0.3437796307442389, 0.9757963050428057, 0.8614508036402754, 0.9172206710072116, 0.04318731210842608, 0.9300701631975747, 0.2412210143225345, 0.553922757498024, 0.2389539559089907, 0.010915958325578567, 0.7511855963152614, 0.4528136468719737, 0.47281499278299755, 0.8711215683493229, 0.6787597129684869, 0.5726469862725367, 0.2399980369754675, 0.7342354310729993, 0.6615268452488283, 0.708449179624877, 0.6037926171857542, 0.8151751969571843, 0.4670562521136763, 0.39669713618130087, 0.4968278781322768, 0.4510796566254387, 0.274859060079754, 0.20231790224411295, 0.8413706090956583, 0.5128936252625717, 0.8537978067933506, 0.40798789982150274, 0.8793929884210763, 0.7718160699892758, 0.26523861923690484, 0.4458877552178848, 0.705779805648583, 0.8861021308953468, 0.14904460247636953, 0.8809636573469143, 0.5557015881907718, 0.8104134179997551, 0.31781001525659724, 0.7256040863935672, 0.5259173491103971, 0.6973617435433475, 0.6793328728149444, 0.030076935984158726, 0.20201767291446948, 0.04213928592233318, 0.5870705017679579, 0.5499495233804602, 0.7978525169447578, 0.49329578038567434, 0.8821502955679912, 0.35919006135520826, 0.47841245929481535, 0.2661172018252097, 0.5468901600838478, 0.3926683784046945, 0.8491505346514067, 0.36754801484428545, 0.36251195452441476, 0.5208575076991284, 0.9465372059591519, 0.6037888086869464, 0.04695092145037427, 0.38956592621942765, 0.3935078307603249, 0.6555572876205845, 0.5708599826109645, 0.02164717524640858, 0.4967171610895109, 0.5358217830263826, 0.6192530845238462, 0.22247325957798758, 0.49688468670004193, 0.5969502914082281, 0.017749114817294243, 0.8496134119739523, 0.5315920699989171, 0.576820800630788, 0.49078550034792645, 0.11842346848534047, 0.9901205287157763, 0.15371578091122462, 0.8545956001379066, 0.8471188977117754, 0.48451418717305406, 0.4955618749254629, 0.7702268787455243, 0.3299761390951601, 0.6537244913653014, 0.3849720917884668, 0.26806938725799245, 0.5221937355369617, 0.8546378340199946, 0.8296660475143306, 0.20808493787576654, 0.4311805194424152, 0.0919899568129563, 0.4784238911703531, 0.025583358435657844, 0.6513919554122642, 0.11288923446758026, 0.05255063066376031, 0.10645577089137026, 0.37690232105221166, 0.37389415447592234, 0.8495895226094923, 0.376338345921583, 0.5037728785083011, 0.11279962545158284, 0.7309495862049593, 0.7378592800884379, 0.6969775312731181, 0.4156046647085435, 0.19219831796027909, 0.8007330931419014, 0.17927368676117417, 0.22992185100484386, 0.6896524185356604, 0.3930338182444437, 0.21466857852130627, 0.1879353070093619, 0.10081867962834867, 0.896660176997092, 0.7213072792270074, 0.014852986605177865, 0.5281058268237531, 0.029316040802382592, 0.13782171237277108, 0.0757377925957523, 0.21592552191025804, 0.899863832927491, 0.6857458000460546, 0.08131358664162203, 0.4165530824714785, 0.6512958182755801, 0.5680192526312973, 0.9050596407579237, 0.19015724896272368, 0.9253625731288944, 0.07702025579334082, 0.2926366846006717, 0.4354539013577783, 0.791730863059071, 0.3916902563006083, 0.806651070907972, 0.10198199008593356, 0.020274097362676935, 0.9624348832915995, 0.9576745824543598, 0.14316226905646068, 0.8427228785373876, 0.9682058722405443, 0.23621789972025753, 0.07239051978851407, 0.21787668597763477, 0.7906103745834392, 0.856715354111933, 0.7041842335166075, 0.6667209171889463, 0.4349041163094215, 0.48356541556279276, 0.8232011955396422, 0.8014365450239734, 0.9782008152312504, 0.8489994911419667, 0.2671683778149859, 0.5616632516774908, 0.41673656412923366, 0.8770591394392854, 0.17782298562011212, 0.7437177771139872, 0.6752927923081213, 0.19514800433859913, 0.8198308376613789, 0.7699937507723015, 0.5614815497538974, 0.986502030847304, 0.2996345535516812, 0.5876468889484546, 0.9213178493743047, 0.5909087464890591, 0.9102348792692976, 0.3487695536438895, 0.6756425452374182, 0.8866943570894854, 0.8329179412703439, 0.9431366033420127, 0.25136994247645184, 0.023979478216129557, 0.27597458016404774, 0.2759601091226913, 0.8427547296379403, 0.5945131640094107, 0.11982189852294722, 0.24454445835703031, 0.5620055266028794, 0.8615984551320323, 0.14047723826616831, 0.17500560605435778, 0.13397187188667437, 0.6532766648629404, 0.6999787901772841, 0.003372254182307355, 0.19541235553210834, 0.25540152894233914, 0.7877746831257212, 0.30410537042719676, 0.14042438006004065, 0.5609200975780089, 0.10733501240312959, 0.6142415410689545, 0.6670454269371799, 0.03980459478303322, 0.8427376454982618, 0.662109973415654, 0.4190732325284754, 0.6109711653725136, 0.11335719819364698, 0.4497526836232283, 0.47598365770558015, 0.693873240602045, 0.8975851171652013, 0.10496686626504048, 0.16648533486324846, 0.5681728602056079, 0.161470797041961, 0.09298098258516141, 0.3665507756014039, 0.7944994081545597, 0.5020541742253309, 0.27734997342534684, 0.5549890510715716, 0.2820546179520461, 0.1934120410836221, 0.24032290492681152, 0.9761713046735281, 0.02338646338289463, 0.0840556218482037, 0.9508234939185319, 0.09774475231760682, 0.7108836798148215, 0.4470520845563236, 0.7913410574703681, 0.49710584607738073, 0.35212561631664063, 0.14816276470624756, 0.49388427958285075, 0.3266682868727552, 0.15540554568891118, 0.0762514667980525, 0.5346744078547218, 0.7455692532616396, 0.5383187089656009, 0.10596823265144406, 0.5785292689976921, 0.4987064030018227, 0.18485442600078827, 0.12368272499324218, 0.11366551879266884, 0.3311416208369604, 0.8923319722834006, 0.5444323207083095, 0.6260276599678019, 0.1453375968516153, 0.7721726089728974, 0.2859970065803623, 0.25239661732415297, 0.622244730160863, 0.20703766632777754, 0.956418360827995, 0.45156296902121085, 0.5084798444834454, 0.7272316646902522, 0.6704630310020837, 0.48328772253289465, 0.42858630149641186, 0.7187700841405, 0.3499537622247746, 0.6947590812511989, 0.41651602229887996, 0.8024633224632721, 0.3153693713405251, 0.29418196211682623, 0.00947981287538302, 0.8515687001323468, 0.32391378583879826, 0.40423310337714835, 0.3319751358202374, 0.856709229374534, 0.8681843038989596, 0.7563582604624054, 0.7813966775572843, 0.7786195992424539, 0.4051225327916582, 0.12297330364649584, 0.4406576857487954, 0.08846605448148659, 0.30888433013577965, 0.8417828752802065, 0.6819927987431826, 0.13206780091572867, 0.17166969329889237, 0.9982572773489311, 0.5294520108059709, 0.17865946156718204, 0.6043888829791052, 0.27915188125877843, 0.9712242812533506, 0.08345507847041167, 0.5377903470887921, 0.6677574092575111, 0.528293654791808, 0.32296076587370404, 0.07178002928403582, 0.5536259180485289, 0.7130642157596129, 0.4380351645053878, 0.23771662846079256, 0.807362415699713, 0.5479987267247852, 0.8311153578645971, 0.6035510369849937, 0.9047455599906763, 0.32248969379388226, 0.5901194602787866, 0.49442061472747967, 0.5713830523586019, 0.6187830895750415, 0.2844906463520751, 0.03066985122773691, 0.9991938280515564, 0.696007288611037, 0.05642980090421057, 0.9335495676289549, 0.10108886199885236, 0.060058647932601406, 0.3805668397092792, 0.17266064377087276, 0.5095570539030195, 0.940757933356999, 0.07356498667660649, 0.48923057939344794, 0.09958176845095279, 0.09823163521902034, 0.3629785438552916, 0.1605689067610997, 0.9135864707653992, 0.4991812194337193, 0.8983731158434407, 0.46659013751367107, 0.9866650465823656, 0.0717623392557839, 0.9047074757804807, 0.871461767022157, 0.2996644873218963, 0.1214251150997302, 0.4244104898959207, 0.3797731115680636, 0.9887790227550295, 0.018911356190465245, 0.22710995610787765, 0.14529039660512577, 0.5042416185645341, 0.28210781520347217, 0.07349282334240514, 0.8696188076877842, 0.526580129232035, 0.8134292418041162, 0.7893134561105994, 0.06419840225872298, 0.6099510459618914, 0.7607806982455553, 0.40372167019619265, 0.39021829260656493, 0.5363837652105481, 0.7117052454911045, 0.8704515754554758, 0.2829257640857361, 0.29852233804971007, 0.5590509771049013, 0.686388461909893, 0.9616767483511731, 0.4158323021578594, 0.007617894633507372, 0.0974309728028292, 0.3879785057088704, 0.6635221555589595, 0.9208567585888061, 0.19663009966029488, 0.13409232175694474, 0.7808294747474976, 0.8623535356794306, 0.8371166756021136, 0.8756698569450048, 0.3965700843214407, 0.3364567263243836, 0.723020618534405, 0.5917256015017791, 0.8733501916593622, 0.3359288675113067, 0.4133559219501295, 0.3990344344067719, 0.512022966923686, 0.05729901434552842, 0.15114771929605209, 0.43439227069121766, 0.9072684400144592, 0.2895424185952843, 0.9292003964784497, 0.6388539581561019, 0.7478752967858009, 0.27557046773921123, 0.16570497435605547, 0.9292518819445821, 0.14751182981299726, 0.7149825687837645, 0.4272970112065686, 0.06292804208153668, 0.3502142924944669, 0.3420626606501995, 0.9852776957374995, 0.7027388954269762, 0.6222487356797677, 0.1323801416603666, 0.3785458243044857, 0.8589235896901612, 0.6527823842010837, 0.4227665686296438, 0.9612893226953619, 0.6066471807210334, 0.7841173508329486, 0.19650296216432972, 0.4131522703140801, 0.7336517609050546, 0.7352451329616273, 0.6295447981646942, 0.0019650591207270862, 0.3718131679742459, 0.6853610916310874, 0.2204776300333029, 0.5877279125015387, 0.8855608447446844, 0.3961419300549692, 0.8384924707916042, 0.36107580644470527, 0.5830659770479543, 0.7871855999459499, 0.7604514839153527, 0.3344877211463, 0.17826757165703178, 0.1901305176203053, 0.16443192961736974, 0.18546767053172464, 0.05501997277081794, 0.16161443355046567, 0.32671045869861515, 0.5720901234784075, 0.0391656895037491, 0.11439970956467782, 0.4803026088537472, 0.8492048783528428, 0.27630696149164, 0.8100966143255915, 0.27102285024108486, 0.7330006401854295, 0.62937160223207, 0.6621659398463271, 0.027617483513209806, 0.1759543690451495, 0.4948518038431129, 0.7738212185882304, 0.9325926493846078, 0.9621648561894001, 0.7369494945960365, 0.9939803767646657, 0.16308265973660596, 0.46190495649410457, 0.46678604472208163, 0.07822768350255427, 0.4626810391876255, 0.8327713465878824, 0.1530469719413654, 0.1566297093726059, 0.12485978039939238, 0.34271759630883103, 0.4971004323258028, 0.05996377909845618, 0.9717826856461624, 0.49399522257771844, 0.5963407280191766, 0.926673301607439, 0.7259759432402717, 0.10954882297127078, 0.23009259783314162, 0.02493403192528232, 0.7693692079379217, 0.7697721172483509, 0.9426993890939841, 0.31553976333325384, 0.588019824417514, 0.5244658406327676, 0.5794831077074809, 0.6851753487295678, 0.4779077630727526, 0.9254132694588523, 0.34746340762923866, 0.04422136164676993, 0.2786854754932797, 0.8764283235330662, 0.5841360048448727, 0.9356788942083198, 0.7287054483387128, 0.8060546539248793, 0.15143508226170022, 0.8711474688070927, 0.7678317301567921, 0.8546165805387312, 0.10035414524401975, 0.24692868344283814, 0.559828298091051, 0.6554988084536936, 0.09611088168999404, 0.8468670032890318, 0.5599987868646144, 0.738017461194294, 0.3831142888530006, 0.8275411766930051, 0.806284294131483, 0.9032527389248106, 0.9195562414695699, 0.7530770854031311, 0.47115674166377286, 0.11716968031082042, 0.0536270507137776, 0.32698703922475936, 0.574847766212005, 0.6104966007632929, 0.24946618081880767, 0.3121566407422447, 0.4194261675768123, 0.6954420657089199, 0.9913614210093858, 0.819845897810033, 0.2660473348568343, 0.2036210465271343, 0.06382142814952463, 0.22193474668148427, 0.4916902538868827, 0.35413095259735783, 0.866705145129451, 0.648513423897531, 0.4645344699611559, 0.6083765402998119, 0.91887299117658, 0.9322243439796709, 0.9601537857472988, 0.2774600947118655, 0.9978431297967988, 0.3012431927443967, 0.3848400913685772, 0.24985929654700112, 0.05341956812204962, 0.33589241883323784, 0.8340144241465509, 0.24179136476492746, 0.6569120061620282, 0.2935824835393085, 0.1737809437214326, 0.6355390218933465, 0.6873669533937772, 0.11759831363643813, 0.9127835097981033, 0.37790623786955324, 0.6052442643683598, 0.8431037895950295, 0.4731889493439001, 0.7570877690773803, 0.41417906665155346, 0.09934414517345558, 0.01742310292577276, 0.8168776025523119, 0.8330831426270762, 0.9526941934717333, 0.23420093728860658, 0.15035516168041196, 0.37365361979116063, 0.10465487104934967, 0.8099245979312136, 0.40813321510113654, 0.9558732906498266, 0.5113999978465733, 0.08874738370704394, 0.7928682168144441, 0.3469617220200132, 0.5018491495109357, 0.40580781367087504, 0.6542959814222014, 0.6175919942935114, 0.027732607556268607, 0.8879802595180407, 0.411180584238642, 0.8339301567976272, 0.6571607056919134, 0.4945922477268274, 0.1743490028065301, 0.5477025444566817, 0.5789642068610391, 0.39388721047009856, 0.8125745227047179, 0.6484878764604379, 0.6284963686280327, 0.8068423532689079, 0.371345092448658, 0.1454380968217468, 0.7898369149882365, 0.7921440719862061, 0.20479223503939958, 0.20143380162639402, 0.2522262152042676, 0.23774291020180083, 0.6214006365535372, 0.6622080577914515, 0.48660923724816463, 0.33129213806451285, 0.4807333125297668, 0.18308883509544327, 0.4407009386352898, 0.8448342503911376, 0.715585253236164, 0.23344809339056782, 0.8447835046355391, 0.9311688826806053, 0.5101001395138574, 0.5112328656183803, 0.6404611299942036, 0.5254664755541254, 0.08255219485859355, 0.8804555628188824, 0.1185686528764689, 0.12731965108465515, 0.585696248189297, 0.6602902015001483, 0.7440167670016316, 0.331261776688049, 0.9141351778008251, 0.067278098392767, 0.379423115581497, 0.6128341598716155, 0.10190146385427024, 0.9438304360849927, 0.7503772081419315, 0.5123282848169204, 0.189943863762413, 0.8961166398822886, 0.9172386328995483, 0.7440810761142136, 0.07922773385738457, 0.7274711747127792, 0.19065566337954754, 0.6493705165784533, 0.48637355072422694, 0.3584714141921441, 0.25280545874959814, 0.991620968602145, 0.8860496327103934, 0.01737253096272484, 0.07158072554384431, 0.731882826926938, 0.5755489641820262, 0.3463847178611654, 0.8746737791985956, 0.7446778478063784, 0.5675698943820712, 0.14972524930694364, 0.044693190376322245, 0.226988103241619, 0.7091943209028647, 0.34251053569942835, 0.8145280655795631, 0.8572147067266342, 0.5936767665605017, 0.2807856523217612, 0.8891561115686767, 0.8162598144850729, 0.9726729265193512, 0.13744888409870715, 0.885968276285351, 0.5086661406630563, 0.5747725068097478, 0.0870721426176101, 0.3925607952579824, 0.8259672640473096, 0.10817450417478103, 0.5571995701958611, 0.9699790227580085, 0.5160911299366249, 0.2866703448762604, 0.8262319181147806, 0.7608388723445477, 0.7831825448965272, 0.5649792553241942, 0.28714425557396595, 0.4156090536452648, 0.2346939677915142, 0.7494931835374237, 0.3983741412237719, 0.5653639102684677, 0.47495733752183156, 0.267196687379761, 0.2263695933205503, 0.7790089863188182, 0.6141279809287528, 0.49171130759900106, 0.39697799047954085, 0.12362911552667333, 0.34450655285458964, 0.8166209838809161, 0.7256554248386591, 0.03792011468727552, 0.9703617991064641, 0.09306959404672555, 0.19205988446047229, 0.49544309834978384, 0.8244164580700257, 0.47822147849801067, 0.753781889509087, 0.5708415375843845, 0.06290923946434201, 0.8063693643205413, 0.4128809560673049, 0.5228099579544051, 0.7609622786984807, 0.6369352826420563, 0.253854704556046, 0.34983473512747765, 0.41164529211896594, 0.5011638614336648, 0.23317244837649453, 0.2361319302445486, 0.28448922907704, 0.5608280457582357, 0.2835637227725495, 0.3245477063907961, 0.3981869423756138, 0.53535118822612, 0.021452230700821362, 0.22069606322003044, 0.42235074406014883, 0.3890090881661056, 0.08280208063871486, 0.8500681453626262, 0.7182744436689897, 0.8060149993479777, 0.9907724528749781, 0.23536798949925464, 0.47576692571077617, 0.817952181672359, 0.710006644214935, 0.6859382541475966, 0.5369423974797088, 0.37054182104614386, 0.584659783039431, 0.45971111787505436, 0.2775570096236012, 0.7532223204706987, 0.33152581820683436, 0.1626893985505874, 0.6233121196564608, 0.7202547252117226, 0.6485775793029985, 0.06872305964565639, 0.2792177011528526, 0.5442191610347061, 0.041248954665900395, 0.7667065837538259, 0.7422626450522354, 0.5672387161787942, 0.00802087458991585, 0.854791456854785, 0.7269921817200231, 0.4406637743187217, 0.0132255292945066, 0.17322510567525573, 0.24871089615454722, 0.37893736892337904, 0.5014918536985505, 0.5343267732532604, 0.786851683316364, 0.40552341051643626, 0.9061366598004098, 0.6519568635745667, 0.6104731591916978, 0.7980654486421226, 0.09797316027643199, 0.4595715826583092, 0.35202655653738935, 0.043719799738886955, 0.5331014919714413, 0.3603084857703617, 0.9764100812741444, 0.2707796778249223, 0.15020337965237673, 0.813534094395939, 0.010972847364564053, 0.07895712758548656]\n",
    "    example_3_y = [0.6696267465486822, 0.7545890889104163, 0.2816280585225042, 0.2717867839991957, 0.6716642810424829, 0.3274356369424891, 1.0766391096739103, 0.8625730747362284, 0.09345582735007718, 0.05838709058309989, 0.6335991757245719, 0.8153887436504061, 0.599798322968204, 0.368015738766989, 0.6038160151793102, 0.2043761381503125, 0.26183817698957434, 0.6211345110681885, 0.9452017584240555, 0.11158664982719935, 0.4264309211644889, 1.0247229676424796, 0.43694417971397626, 0.27176638222352445, 0.7470517564611429, 0.43346185287809674, 0.8030343013919504, 0.35800452669407873, 0.34008631381768695, 0.8747772388822276, 0.061643916037952884, 0.7852964017854802, 0.769849235562639, 0.4265184019653845, 0.39169734429460595, 0.7835820380618792, -0.02434390575510592, 0.36065020381004687, 0.41878035834244876, 0.38620686046256764, 0.21982423193236517, 0.3431220975903519, 0.7539488248450688, 0.6480915283492249, 0.2635524339261169, -0.0801881297490491, 0.06609412670344478, 0.429242503082612, 0.14549333898020567, 0.9249361250514444, -0.002088541794122878, 0.21696807001358903, 0.8049027573939278, 0.5399550822086985, 0.5685807934063979, 0.49812176370948563, 0.8784302028250097, 0.5660471383354696, 0.4373494018431405, 0.442879976894867, 0.22396794030396466, -0.09056003967790247, 0.9038203018989203, 0.2624036864464859, 0.8945238888777375, -0.08001189856116023, 0.04238198589314582, 0.6458092753056515, 0.5078120577526479, 0.4992004503279789, 0.9691751771256807, 0.20801389271365683, 0.9179132139487287, 0.5897330111880721, 0.39477926177986256, 0.751171591648501, 0.3976860426860065, 0.319801862535726, 0.936550300390906, 0.478366072868124, 0.27176365408394626, 0.7495713088366189, 0.6872227620027099, 0.4423341306187266, 0.9112031740026711, 0.39313370049246055, 0.9540670655790293, 1.0583081234956953, 0.10501637251761628, 0.44262250673182857, 0.21376637362283052, 0.13572250291755533, 0.10785238186173401, 0.851917327165697, 0.22850569608538318, 0.5990271807655996, -0.07113291938511404, 0.659599518515311, 0.9626744503677408, 0.8292853401359714, 0.8777642735147961, 0.49804428747921625, 0.4220561804710907, 0.8893059847101987, 0.5313320849484132, 0.31926498685008653, 0.05994349275670746, 0.45920317274898065, 0.23346914184113407, 0.5599945869448808, 1.001405126062237, 0.6644969589539248, 0.9190117965220166, 0.32858746290465646, 0.9993502425792404, 0.5114137555068174, 0.2586987063646764, 0.02580655790494929, 0.25273470548078886, 0.4400446338715536, 0.79892678206908, 0.31613894258447495, 0.4908131460017437, 0.45929161056977746, 0.3419791769224558, 0.023505837311617594, 0.49388943256707457, 1.120755654710711, 0.6764035410959941, 0.11797519052246891, 0.28943841068127485, 0.7444060307953249, 0.5784563070096038, -0.02621926665532144, 0.48788366786074255, 0.6458895316850889, 0.8798525914830728, 0.40377020020137266, 1.0277241605145315, 0.48872531780189654, 0.04934840334864478, 0.513886052323722, 0.3164190057744508, 0.36223466639634816, 0.21901122687887675, 0.4409677821066353, 0.3433006297688374, 0.05961402362237564, -0.017153962636243983, 0.8010812145444708, 0.3549361232061801, 0.4581454112367108, 0.8642380214927057, 0.2764702066474962, 0.7823967092081144, 0.3839921961592139, 0.0903906689223497, 0.5016013546605265, 0.8846171729945851, 0.42622983847167206, 0.6587980669981782, 0.2929099271198776, 0.21035651005745898, 0.9964503636185107, 0.11088327980341219, 0.5003260985984195, 0.3102691510268496, 0.8410914314513994, 0.9002807709451757, 0.8164991352880848, 0.04717308235582801, 0.3788967329076883, 0.21152864683129685, 0.38664764381515565, 0.5883000143954666, 0.5744662766272814, -0.12143843608761873, 0.6570748632134669, 0.42749187542969846, 0.3585476733416408, 0.7969535300308384, 0.23863772656749122, -0.12012272096522458, 0.020662616841162967, 0.150928698541707, 0.033356197444199404, -0.04939075786821952, 0.6659726864136266, 0.2126246272792326, 0.9885317128627376, 0.930525296924416, 0.39419758148765277, 0.8004523827880937, 0.8422950429850065, 0.8678730588837577, 0.04949126031941781, 0.9504062877116857, 0.31292334498351754, 0.5752661958283629, 0.12713978615175392, 0.19852404518186428, 0.911563382381161, 0.34742534792063307, 0.662666266875549, 0.962921415593511, 0.6506430029250516, 0.676545453604472, 0.06678581054735341, 0.7276361758450557, 0.5769147557042327, 0.8540875320684786, 0.4059571217501182, 0.7050811361513085, 0.3027599851873646, 0.5539747711240559, 0.5825262841315361, 0.449183343940405, 0.345590995794215, 0.36393729309190853, 0.7427222435156295, 0.6945343152155139, 0.6960117235478452, 0.35883324725132304, 1.0640417914861318, 0.8288569390438024, 0.17109430002944578, 0.40936781176862413, 0.6729378408485351, 0.7270458634557194, 0.25467240412231834, 0.8932327903472417, 0.5879461048584491, 0.9472393610483735, 0.27780352628778293, 0.8022781751747065, 0.4460226545296812, 0.8068822305047951, 0.8457046773278751, -0.07072113931504356, 0.08475518385183786, 0.10069165121109014, 0.46136287347796934, 0.46159702323648666, 0.8753292178907697, 0.5687217424502533, 0.9227853806956642, 0.22964067898468962, 0.2814829121063752, 0.27658327252088993, 0.4175366478966892, 0.38245493048774243, 0.7303830324118507, 0.5352696844883663, 0.38102690489161883, 0.6865639498048295, 0.8600597280806891, 0.6992310760445286, 0.14788174712430685, 0.44947275355750743, 0.27018059039456066, 0.4785422166343871, 0.5810437272114759, 0.09110444492991338, 0.39534717921354695, 0.5965978426247454, 0.7029863154546869, 0.38920918706802393, 0.4076087254277368, 0.4319078430713068, -0.08017433061629971, 0.6918906951565432, 0.6304398108169316, 0.46872004113757143, 0.45570864006181383, 0.059785157531168004, 0.808930580674394, 0.29411893577445525, 0.6983032866710683, 0.9930183853966477, 0.35425229008610454, 0.30541513226041306, 0.6474619703990491, 0.36587463326894737, 0.5493835630782189, 0.4210139514629371, 0.41167098775569094, 0.5823972490385294, 0.6870813506331822, 0.735353619201043, 0.28121655870767637, 0.5313755915762327, 0.14254132647710904, 0.5748043867273905, -0.1452026890204946, 0.8490140956815129, 0.013737228059602147, 0.17858206151534595, 0.193290671199899, 0.3907549798050339, 0.2575687347885556, 0.677427593419032, 0.4899797484097792, 0.5113058590820834, -0.0031599825838064532, 0.6560557029235474, 0.7773675244961392, 0.6168078309958678, 0.5559201856090057, 0.021675934671541608, 0.9457325821720248, 0.3058017106499912, 0.3467725394711695, 0.6743885243728893, 0.5411005423724766, 0.24897248325346402, 0.3608253296709385, 0.27559106559487084, 1.0837717774338986, 0.8993950004324678, -0.0400623497547862, 0.5546450418628951, 0.17714388970741612, -0.007150240388378637, 0.23392309094188585, 0.26471936525683826, 0.9769608128658946, 0.812274256424199, 0.14324501402299988, 0.5032798740045744, 0.5768916768118204, 0.6740210413513268, 1.0605642615476691, 0.15257670046622712, 0.9642675823546651, -0.027148122849329645, 0.3772088083211797, 0.3993981011868438, 0.6167040481000441, 0.5849292535554482, 0.9262434824335595, -0.052851792933996555, -0.1620608084429599, 1.1397849619713563, 0.9825420001605664, -0.01905633507230134, 0.8718593575850212, 0.8502517797597715, 0.34872873286477457, 0.13585375688326606, 0.2797801412185768, 0.9521773218044535, 0.8722202458034533, 0.6435874775567791, 0.7108541929674626, 0.3865264700825265, 0.6580891992677231, 0.6260916817128724, 0.7623548386114334, 0.8303275141544116, 0.8450546017336791, 0.4369712034073138, 0.675772654705469, 0.3465464121662075, 0.8429565097852818, 0.23944104323255688, 0.9082613235373613, 0.6019330918154715, 0.23003153998728837, 0.6634104201904916, 0.9118046525070982, 0.6129508358271774, 1.0833982702275204, 0.41979280621752113, 0.5324699940528579, 0.8558939524088813, 0.7792022146638244, 1.091448199116048, 0.24769446575505527, 0.555633983609866, 0.8171650875003307, 1.006930553476904, 0.8930399718711359, 0.3031371396745323, 0.22020205753604938, 0.25190405486834133, 0.44721056061263104, 0.8570879869471943, 0.771944007085845, -0.053996247073754666, 0.06692480480401117, 0.49657274767430404, 0.6920558051088983, 0.17114215856059795, 0.2820673865959365, 0.1452016595771404, 0.5643523142567017, 0.7151919154024167, -0.11094500694979259, 0.19276400591163861, 0.06050946399909135, 0.6938408064636189, 0.49845751532382665, 0.0703370072555855, 0.7064119566459626, 0.042313318139867995, 0.7362080646960654, 0.5847026120156812, -0.1540826656932428, 0.7656543059835182, 0.6325772276013759, 0.4784563377622061, 0.6222098048519547, 0.24516584396620733, 0.37030230154108845, 0.6306025719641482, 0.8350132409044482, 1.0957999623374217, 0.08312262603298198, 0.20771041395728956, 0.44473509537596345, 0.3327261409564782, 0.24853354623788798, 0.48316991043439933, 0.7911737786565555, 0.3186164582837126, 0.24936015587938837, 0.5897820465835923, 0.25242469013461283, 0.27106395031192587, 0.2988981581373434, 0.8661007777941104, -0.010351160523839054, 0.09642264753285998, 0.8562252264372213, 0.05033922229642693, 0.8628056915551601, 0.2528284877127709, 0.6565500747416041, 0.3819372724975246, 0.4634572614204671, 0.1470569233462863, 0.36764247090945995, 0.40126144349535864, 0.2828674250393941, 0.05138900305482158, 0.5044203923249857, 0.7245522282768004, 0.6116467342122867, 0.016909638447829528, 0.7498241240051007, 0.3744064270301408, -0.0026547577810427936, 0.160789207149617, -0.023154100448137427, 0.25127779697938696, 0.7374349555138484, 0.48182394281443613, 0.779526085138448, 0.08062612537002845, 0.6720523712093118, 0.0880533296290896, 0.3648912562481728, 0.6781639601843199, 0.289225627582, 0.766196169407121, 0.41396222656943565, 0.6239567070305496, 0.9166565058633429, 0.7420540489590055, 0.3917035856442152, 0.3069627340935493, 0.5505419766987991, 0.18372403550665672, 0.83986529468222, 0.3538596524204125, 0.7997138944367952, 0.16872066426602653, 0.38371189275292444, -0.1386008130868678, 0.8721052995140894, 0.36499146002410443, 0.29569640752689036, 0.45359672558728503, 0.7276619101719812, 0.7764135242532891, 0.6457086952934153, 0.8948686669303285, 0.8430714331699358, 0.47300710269091256, 0.256805616646186, 0.5070917246680042, -0.10832970051405694, 0.20087864427622104, 0.9166469219521389, 0.8131732334880131, 0.28907698640124024, 0.14136321959424336, 1.047428191185612, 0.3455482597604561, 0.3368297772871843, 0.4576536537160881, 0.3867214911316811, 0.8505965354972238, 0.003623171968891614, 0.6051587800215124, 0.748089223520926, 0.6955196162745967, 0.3671076897117029, 0.06549921809156892, 0.726875683009353, 0.7644510774605835, 0.4689578648601848, 0.3494701714207085, 0.8250696233713517, 0.5855795257295715, 0.6536174059559133, 0.5672539061921535, 0.7874445757992793, 0.29732181040604044, 0.7856065416382694, 0.623869586149638, 0.4824038226531336, 0.47034527577803775, 0.3614147974970391, 0.12629609571717193, 1.0188800835633187, 0.6458786816811083, -0.08621749708071885, 0.9160372264707732, 0.22046559083381706, -0.04822321140108182, 0.5473228666390918, 0.27864409245356253, 0.4557043419904701, 0.7520264723009079, 0.13796805617931063, 0.585148655257908, 0.11699037419293576, 0.09048801292111947, 0.42364574281230083, 0.17091700676262805, 0.7963460051837208, 0.4699811075040363, 0.7229974450715052, 0.6646948146804228, 0.9808202151083952, 0.0259472069178584, 0.748043966244251, 0.9767511770569192, 0.22060278998103885, 0.20976641808444896, 0.522682300349207, 0.23596344240302836, 0.8187055043159526, 0.09428871526208127, 0.06108797668046506, 0.2125049667084294, 0.32570368932660565, 0.3889710244356552, 0.11209113257818232, 0.6966809983998082, 0.545509959559421, 0.8589799102435316, 0.6352506640236047, 0.030004864782955915, 0.7051409051666455, 0.5762737183187155, 0.4384964287238764, 0.19182857911419607, 0.48561568030067304, 0.8911435064364834, 0.6718929954636593, 0.15362321072389296, 0.4782223288550908, 0.3972572742436164, 0.5624958912964844, 0.940633304290099, 0.2626460580741303, -0.1402210520341684, 0.21262431651439845, 0.5187804055853463, 0.6394485397735594, 1.041937259899837, 0.023014844612044366, 0.23999631266715077, 0.7507011306744082, 0.8731176295572303, 0.8569472172652536, 1.045822322859167, 0.2983001674014869, 0.4026522049830682, 0.5534532861032924, 0.4304502678659036, 0.7003833005152518, 0.16349084488608054, 0.32414687714823887, 0.32243833496893975, 0.5461071643184302, -0.02025684915321968, 0.0279027090284565, 0.5015128079763592, 0.983251678857189, 0.42691378663445195, 1.0976292428682755, 0.6695540589745455, 0.825774835081111, 0.20447623511345822, 0.1367898651472526, 0.7334454623257516, 0.21498342452518848, 0.6560385606776021, 0.37256036926366176, 0.09121168754866929, 0.5476704574343498, 0.3264144628433572, 1.0813599921342834, 0.8011115505877667, 0.7574319968585577, 0.2249868633188366, 0.40174940977630824, 0.9578514680484145, 0.8361483556841276, 0.23248053573546446, 0.9246488340351704, 0.7394069898118381, 0.669440050113173, 0.289191843287942, 0.46424754370430343, 0.804254569317141, 0.6674920529323707, 0.8117298761479617, 0.1941351546542277, 0.28306765567079245, 0.5781834507987729, 0.3015420690550846, 0.6481460333380913, 0.6923093685520705, 0.3132664390023449, 0.8007483187933072, 0.40212116501170597, 0.4325729745396567, 0.9611656558756936, 0.6935218999442014, 0.1721464322785355, 0.32811222478227603, 0.16931652708833694, 0.23442296872659296, 0.3043745223653703, -0.022903458517679526, 0.1764651147840799, 0.3729941927863892, 0.5025461986387612, -0.03160393346065904, 0.3093626235997745, 0.6118060714593878, 0.8801572942620102, 0.3059220882419862, 0.7069021976694765, 0.3372712720922854, 0.5335110339925869, 0.6273400016995464, 0.7674776480131609, -0.17081697642722599, 0.12051850132068911, 0.516655662999995, 0.735388322927363, 1.0454023786509619, 1.0953099284382732, 0.7218941665414779, 0.9415900024193937, 0.3149453521727087, 0.6073601173132157, 0.6022524761689088, -0.101213167196543, 0.5915190555298062, 0.6778424524605048, 0.21856007745147743, 0.183755312436289, 0.09770622099297616, 0.2913318282980733, 0.6724433262313518, -0.09007522359024184, 0.9549695117878936, 0.5102105175839661, 0.40285523772746257, 1.0054248863362611, 0.8986638743102047, 0.1121865655350448, 0.12926819882980642, 0.09089681098086594, 0.9323134831954065, 0.8149388878468447, 0.8886433410411094, 0.24280377490731314, 0.4079113328951083, 0.5204770861847534, 0.7525491892969125, 0.6163319596492298, 0.48092684615223397, 0.9819948495977457, 0.5024794780396461, -0.08725184078079265, 0.4611873096781735, 0.7742922488314423, 0.49919495338166664, 0.9850178817286857, 0.9011982936253273, 0.9774943188520697, 0.05519465773366365, 1.0097010181255737, 0.8556173793317667, 0.8446606021693801, 0.19123118588488042, 0.2905615950289858, 0.5154695772925706, 0.609665658706263, 0.24030007927543945, 0.7600461093114139, 0.413806169381725, 0.720141081742665, 0.5556961678475982, 0.9647114879911671, 0.8970411905474013, 0.8310009639800157, 0.8857197008554245, 0.6920548496604638, 0.370678009174344, 0.04535390504622433, -0.021323980187969244, 0.1579481641666095, 0.7113564755039636, 0.45230340409145264, 0.1680046863455173, 0.4036568854385056, 0.24491925230386402, 0.5860279539995995, 0.8006690977742201, 0.8240681167707533, 0.12742993619346388, 0.11809272282070317, 0.21028012512933275, 0.04866167808391597, 0.3437203605390704, 0.5040951802698701, 1.0469429014489298, 0.799082450885547, 0.5112587972985225, 0.7931289293850812, 1.1139938348936158, 0.819190062136765, 0.7897006396225192, 0.39433196978044205, 0.84428554790834, 0.288218387790391, 0.26263501688079127, 0.37418939520001654, 0.17985851758585852, 0.40846777688212194, 0.8824354822900125, 0.32039672946351383, 0.8242459550440296, 0.10786531577019687, 0.36069074109820115, 0.602443521573343, 0.6205201167167339, 0.1559421482784094, 0.7431101941004113, 0.36635217174996015, 0.7843854160369123, 1.03046703320259, 0.43725471202195765, 0.6444080005804615, 0.2824308257203586, 0.2138621278738322, 0.09855955656613435, 0.9918577388448089, 0.956689046134084, 0.9073337092044331, 0.0792431611841431, 0.015858668002934617, 0.40126917181234245, 0.20895181668918, 0.6204658100600685, 0.315421993686354, 1.0646666676732417, 0.5292990418862511, 0.030084420008341578, 0.6196175981715025, 0.467922301084158, 0.5738608701431691, 0.24199481455794214, 0.6588533557703331, 0.4322002236574461, 0.19884655399393847, 0.8922799818159681, 0.25029755795507835, 0.947756000174602, 0.778081875669966, 0.6284613377951693, 0.001846560173525802, 0.5710354301657273, 0.4710853883058157, 0.24228433509122763, 0.9515392375373777, 0.835058965102536, 0.8027097886628622, 0.9647667710638612, 0.2088458556801642, 0.20159115073619827, 0.7665168119646555, 0.8639754836830107, 0.08040833137151328, 0.10845145411648091, 0.2700312483847095, 0.26707295363255823, 0.7403989290553006, 0.7675488207734531, 0.2978172250466762, 0.3820664320385678, 0.6483355965002453, -0.004287839812470273, 0.3294272065189149, 0.8610225018951817, 0.7739912151087174, 0.19572539257252858, 0.7415770622570972, 1.0532140486253336, 0.5266100470232031, 0.5972802479259132, 0.7667147567956822, 0.6832380206865614, 0.1984569388216546, 0.996121129482564, 0.12475684127529679, 0.19355283934014084, 0.6672567496029354, 0.6775912708668554, 0.9248968983334165, 0.24362194758103223, 0.9492845609267353, -0.007690141943028472, 0.36559419597444326, 0.5281773523088197, 0.0909994863095456, 0.8291772027798898, 0.5894441601289259, 0.5187402055557742, 0.2187612025052463, 1.0335080117767468, 0.8238750748384983, 0.852755494242303, 0.23999457251084194, 0.8251351917703287, 0.04183689080573791, 0.8369326920729903, 0.6636569977701166, 0.3403761470956707, 0.3533651316060058, 0.9227869837252338, 0.7836706127302766, -0.12945495454602912, 0.0422548980989646, 0.5639348711675909, 0.47942603942319173, 0.467958124862774, 0.9443117957352911, 0.9235402615759736, 0.7046545684525959, 0.2971731902960328, -0.14671639467345068, 0.3451868533357086, 0.8614049222945692, 0.49889202313291253, 0.7883606744950922, 0.7878327866018865, 0.4856653779839615, 0.38288580009963114, 0.6905892730763494, 0.9523170582496268, 1.042188472064642, 0.31860466453575614, 0.9838767071801438, 0.5794013115616145, 0.576833667475359, 0.041271752989508526, 0.3757127486642357, 0.7456866184987015, -0.010320522473659777, 0.5182178303645697, 0.8211803654413179, 0.6383019834898616, 0.4438940124191863, 0.7941581954053227, 0.7320828447069903, 0.718367109057827, 0.5283316942350417, 0.2688819338911005, 0.5026821263041934, 0.41289751811659753, 0.8497062486919262, 0.5575190680648489, 0.7222733692123287, 0.660738161318207, 0.15047053603220473, 0.1711768296635232, 0.5972811291279069, 0.538853986121658, 0.4102645990099346, 0.36439157791570936, 0.22032691427996726, 0.18225186967380264, 0.7036454886282761, 0.7636750446895416, 0.21648725422218712, 1.063291819118334, 0.17201464751891793, 0.17740320184519917, 0.3972485539311984, 0.6743141732668082, 0.5203521612343369, 0.8980177692874254, 0.7590256397780937, -0.002546500453588285, 0.6944723710240899, 0.3878320067556431, 0.37669628061529703, 0.9521646691169399, 0.7145826812957802, 0.13262379453834144, 0.2630518388602512, 0.42559694561903133, 0.5583977088322662, 0.0982526235823381, 0.07411540805291372, 0.1874985186944443, 0.6755152662398167, 0.3290925333548447, 0.166323636515858, 0.2284854433265056, 0.730077195397245, 0.01496018999367249, 0.4032279070876786, 0.46127252583159917, 0.3635611249486954, -0.0038324269361076357, 0.830277217116672, 0.632102165324093, 0.8589592511253351, 0.9207282082034068, 0.1365136836666748, 0.6161095248883632, 0.6587569936565131, 0.5766682173519535, 0.68442223228125, 0.655816552877449, 0.3722997844349065, 0.6166672677147103, 0.3874590637947384, 0.3736358377276412, 0.8819594947925737, 0.4747401152338903, 0.08873174412220633, 0.5980427944415432, 0.787034052844641, 0.6373736797603178, 0.21040142996907085, 0.0989322170476033, 0.5463365695950655, 0.045685186164803215, 0.7945666758686509, 0.6520829091146362, 0.6613950788416949, -0.1368262532087816, 0.9229971238242747, 0.6417735269934586, 0.4391787791310692, -0.13813946436147828, -0.0070608464001338245, 0.06391620255785976, 0.2572616066189314, 0.4167842001089454, 0.5772221217547873, 0.8331522755432832, 0.47807652105894277, 1.068256492680771, 0.4996149372398154, 0.6431758741065834, 0.8243375786871838, 0.22271849919190806, 0.4908765902793379, 0.3163701045299549, 0.046728982314268974, 0.6627705835221509, 0.2378407683268816, 1.1202060698654877, 0.45449446430091894, -0.002716303505420292, 0.6254201899946662, 0.19826517762644086, 0.17385008188087508]\n",
    "    example_3_res = 0.93\n",
    "    \n",
    "    assert correlation_solution(example_3_x, example_3_y) == example_3_res\n",
    "    \n",
    "    example_4_x = [0.5, 0.49, 0.46, 0.75, 0.52, 0.04, 0.75, 0.44, 0.96, 0.14, 1.0, 0.39, 0.25, 0.05, 0.89, 0.49, 0.69, 0.92, 0.9, 0.78, 0.68, 0.04, 0.23, 0.78, 0.36, 0.78, 0.54, 0.92, 0.84, 0.62, 0.05, 0.78, 0.31, 0.74, 0.13, 0.1, 0.51, 0.42, 0.79, 0.98, 0.18, 0.1, 0.01, 0.77, 0.38, 0.48, 0.25, 0.52, 0.67, 0.76, 0.05, 0.27, 0.95, 0.3, 0.58, 0.73, 0.42, 0.43, 0.47, 0.45, 0.1, 0.34, 0.42, 0.94, 0.74, 0.57, 0.28, 0.54, 0.45, 0.3, 0.85, 0.04, 0.78, 0.96, 0.93, 0.01, 0.41, 0.84, 0.59, 0.82, 0.85, 0.79, 0.73, 0.97, 0.43, 0.4, 0.11, 0.85, 0.04, 0.41, 0.18, 0.9, 0.51, 0.28, 0.52, 0.87, 0.98, 0.19, 0.21, 0.7, 0.19, 0.25, 0.14, 0.11, 0.86, 0.45, 0.04, 0.83, 0.31, 0.66, 0.5, 0.84, 0.9, 0.35, 0.03, 0.72, 0.02, 0.2, 0.96, 0.74, 0.95, 0.32, 0.83, 0.85, 0.94, 0.28, 0.48, 0.69, 0.13, 0.96, 0.48, 0.02, 0.4, 0.97, 0.39, 0.81, 0.07, 0.77, 0.61, 0.85, 0.9, 0.41, 0.78, 0.18, 0.25, 0.85, 0.29, 0.11, 0.38, 0.9, 0.81, 0.71, 0.02, 0.78, 0.44, 0.82, 0.92, 0.7, 0.87, 0.44, 0.09, 0.51, 0.1, 0.2, 0.46, 0.58, 0.8, 0.92, 0.91, 0.19, 1.0, 0.64, 0.71, 0.24, 0.66, 0.35, 0.91, 0.4, 0.96, 0.83, 0.9, 0.15, 0.71, 0.22, 0.58, 0.79, 0.65, 0.31, 0.76, 0.64, 0.54, 0.37, 0.93, 0.5, 0.52, 0.92, 0.31, 0.71, 0.05, 0.87, 0.97, 0.91, 0.66, 0.85, 0.48, 0.26, 0.15, 0.91, 0.48, 0.58, 0.92, 0.87, 0.4, 0.12, 0.61, 0.46, 0.22, 0.62, 0.56, 0.38, 0.15, 0.05, 0.67, 0.77, 0.45, 0.57, 0.79, 0.7, 0.64, 0.46, 0.68, 0.59, 0.77, 0.78, 0.84, 0.04, 0.29, 0.82, 0.05, 0.07, 0.89, 0.73, 0.83, 0.52, 0.2, 0.91, 0.18, 0.07, 0.92, 0.01, 0.9, 0.37, 0.59, 0.59, 0.12, 0.23, 0.74, 0.02, 0.38, 0.32, 0.57, 0.18, 0.2, 0.33, 0.57, 0.3, 0.51, 0.06, 1.0, 0.74, 0.78, 0.57, 0.72, 0.77, 0.72, 0.88, 0.63, 0.74, 0.25, 0.9, 0.15, 0.67, 0.08, 0.08, 0.5, 0.62, 0.27, 0.64, 0.34, 0.71, 0.17, 0.74, 0.52, 0.37, 0.49, 0.27, 0.65, 0.25, 0.34, 0.55, 0.32, 0.09, 0.81, 0.07, 0.28, 0.27, 0.65, 0.91, 0.08, 0.54, 0.79, 0.92, 0.86, 0.68, 0.42, 0.33, 0.94, 0.84, 0.83, 0.88, 0.9, 0.64, 0.77, 0.26, 0.32, 1.0, 0.18, 0.86, 0.21, 0.05, 0.24, 0.09, 0.76, 0.94, 0.49, 0.86, 0.04, 0.55, 0.94, 0.42, 0.45, 0.15, 0.81, 0.76, 0.29, 0.75, 0.59, 0.77, 0.09, 0.3, 0.44, 0.22, 0.86, 0.32, 0.19, 0.87, 0.84, 0.07, 0.17, 0.74, 0.33, 0.21, 0.9, 0.05, 0.86, 0.75, 0.86, 0.44, 0.71, 0.72, 0.63, 0.31, 0.3, 0.88, 0.44, 0.92, 0.66, 0.69, 0.66, 0.43, 0.12, 0.35, 0.78, 0.66, 0.09, 0.73, 0.08, 0.27, 0.82, 0.88, 0.29, 0.25, 0.79, 0.53, 0.81, 0.54, 0.33, 0.45, 0.65, 0.56, 0.86, 0.49, 0.87, 0.36, 0.95, 0.88, 0.58, 0.69, 0.43, 0.0, 0.3, 0.97, 0.2, 0.2, 0.77, 0.57, 0.01, 0.9, 0.47, 0.53, 0.5, 0.37, 0.84, 0.04, 0.39, 0.89, 0.49, 0.88, 0.87, 0.1, 0.42, 0.57, 0.62, 0.39, 0.26, 0.52, 0.65, 0.36, 0.6, 0.41, 0.4, 0.66, 0.14, 0.94, 0.43, 0.2, 0.52, 0.82, 0.96, 0.32, 0.53, 0.97, 0.87, 0.81, 0.71, 0.01, 0.63, 0.03, 0.79, 0.28, 0.26, 0.01, 0.76, 0.69, 0.21, 0.85, 0.92, 0.64, 0.76, 0.11, 0.1, 0.57, 0.14, 0.67, 0.17, 0.85, 0.26, 0.95, 0.47, 0.23, 0.82, 0.27, 0.78, 0.35, 0.95, 0.39, 0.57, 0.03, 0.46, 0.8, 0.74, 0.94, 0.11, 0.17, 0.66, 0.01, 0.58, 0.48, 0.96, 0.15, 0.82, 0.26, 0.28, 0.87, 0.99, 0.99, 0.27, 0.52, 0.61, 0.9, 0.39, 0.22, 0.98, 0.49, 0.91, 0.03, 0.46, 0.85, 0.23, 0.11, 0.3, 0.42, 0.77, 0.63, 0.15, 0.67, 0.8, 0.17, 0.57, 0.42, 0.63, 0.74, 0.04, 0.59, 0.41, 0.83, 0.52, 0.77, 0.59, 0.74, 0.75, 0.98, 0.28, 0.24, 0.24, 0.88, 0.97, 0.27, 0.05, 0.18, 0.2, 0.19, 0.0, 0.82, 0.07, 0.41, 0.26, 0.24, 0.41, 0.1, 0.97, 0.4, 0.59, 0.48, 0.55, 0.55, 0.76, 0.71, 0.92, 0.36, 0.69, 0.11, 0.88, 0.27, 0.12, 0.95, 0.72, 0.68, 0.75, 0.6, 0.52, 0.61, 0.38, 0.43, 0.85, 0.17, 0.63, 0.02, 0.1, 0.15, 0.97, 0.73, 0.65, 0.5, 0.48, 0.91, 0.96, 0.71, 0.19, 0.4, 0.85, 0.12, 0.66, 0.9, 0.3, 0.2, 0.48, 0.92, 0.03, 0.4, 0.12, 0.77, 0.55, 0.04, 0.71, 0.75, 0.05, 0.07, 0.92, 0.32, 0.21, 0.18, 0.7, 0.95, 0.66, 0.8, 0.44, 0.36, 0.55, 0.09, 0.86, 0.62, 0.06, 0.44, 0.33, 0.49, 0.17, 0.26, 0.79, 0.18, 0.43, 0.93, 0.93, 0.08, 0.61, 0.48, 0.83, 0.47, 0.33, 0.07, 0.71, 0.65, 0.74, 0.45, 0.36, 0.12, 0.14, 0.42, 0.05, 0.84, 0.53, 0.4, 0.7, 0.78, 0.12, 0.97, 0.05, 0.99, 0.74, 0.8, 0.81, 0.28, 0.53, 0.1, 0.38, 0.06, 0.92, 0.68, 0.9, 0.24, 0.12, 0.16, 0.74, 0.39, 0.62, 0.85, 0.82, 0.29, 0.29, 0.15, 0.93, 0.69, 0.15, 0.94, 0.72, 0.29, 0.48, 0.17, 0.8, 0.3, 0.49, 0.92, 0.26, 0.23, 0.52, 0.29, 0.79, 0.01, 0.85, 0.44, 0.1, 0.15, 0.59, 0.91, 0.43, 0.85, 0.29, 0.04, 0.42, 0.87, 0.88, 0.12, 0.69, 0.65, 0.88, 0.34, 0.84, 0.88, 0.76, 0.85, 0.8, 0.36, 0.06, 0.64, 0.2, 0.65, 0.49, 0.36, 0.88, 0.55, 0.1, 0.35, 0.5, 0.87, 0.86, 0.31, 0.15, 0.46, 0.8, 0.24, 0.31, 0.07, 0.59, 0.52, 0.11, 0.85, 0.17, 0.91, 1.0, 0.52, 0.74, 0.98, 0.32, 0.32, 0.79, 0.63, 0.11, 0.46, 0.86, 0.82, 0.61, 0.64, 0.14, 0.74, 0.46, 0.26, 0.61, 0.84, 0.59, 0.15, 0.1, 0.14, 0.97, 0.27, 0.39, 0.86, 0.72, 0.88, 0.93, 0.07, 0.39, 0.51, 0.71, 0.73, 0.36, 0.62, 0.9, 0.45, 0.05, 0.57, 0.84, 0.95, 0.24, 0.67, 0.4, 0.18, 0.41, 0.48, 0.67, 0.43, 0.34, 0.19, 0.69, 0.08, 0.13, 0.45, 0.02, 0.99, 0.36, 0.1, 0.35, 0.24, 0.38, 0.41, 0.78, 0.89, 0.8, 0.42, 0.97, 0.33, 0.36, 0.43, 0.35, 0.2, 0.11, 0.2, 0.54, 0.46, 0.61, 0.34, 0.82, 0.56, 0.2, 0.11, 0.45, 0.86, 0.49, 0.58, 0.23, 0.58, 0.16, 0.92, 0.61, 0.04, 0.63, 0.97, 0.07, 0.65, 0.87, 0.68, 0.68, 0.8, 0.55, 0.34, 0.88, 0.87, 0.85, 0.68, 0.39, 0.84, 1.0, 0.91, 0.6, 0.32, 0.85, 0.15, 0.95, 0.06, 0.26, 0.17, 0.61, 0.73, 0.57, 0.6, 0.31, 0.54, 1.0, 0.38, 0.58, 0.67, 0.75, 0.45, 0.69, 0.62, 0.52, 0.81, 0.81, 0.39, 0.75, 0.28, 0.98, 0.22, 0.13, 0.15, 0.6, 0.9, 0.81, 0.54, 0.45, 0.1, 0.36, 0.64, 0.23, 0.26, 0.82, 0.02, 0.6, 0.96, 0.56, 0.24, 0.69, 0.33, 0.73, 0.95, 0.46, 0.9, 0.4, 0.9, 0.21, 0.25, 0.02, 0.48, 0.94, 0.45, 0.49, 0.31, 0.65, 0.4, 0.16, 0.42, 0.4, 0.42, 0.78, 0.08, 0.33, 0.53, 0.14, 0.74, 0.06, 0.4, 0.35, 0.28, 0.61, 0.11, 0.38, 0.94, 0.42, 0.01, 0.38, 0.91, 0.22, 0.6, 0.43, 0.84, 0.57, 0.04, 0.73, 0.56, 0.16, 0.43, 0.43, 0.27, 0.93, 0.15, 0.1, 0.5, 0.95, 0.68, 0.09, 0.4, 0.63, 0.59, 0.12, 0.35, 0.72, 0.5, 0.93, 0.19, 0.13, 0.09, 0.69, 0.96, 0.68, 0.13, 0.99, 0.06, 0.08, 0.03, 0.54, 0.42]\n",
    "    example_4_y = [5.6, 5.09, 5.06, 8.4, 5.82, 1.25, 8.05, 4.58, 10.33, 1.8, 10.6, 4.47, 3.46, 1.42, 9.18, 4.95, 7.06, 9.49, 9.03, 8.4, 7.49, 0.9, 3.11, 8.41, 3.66, 8.75, 5.61, 9.47, 8.7, 7.16, 1.17, 8.7, 4.05, 7.85, 2.2, 1.66, 5.57, 5.15, 8.19, 10.1, 2.37, 1.52, 0.55, 8.6, 3.82, 4.99, 2.89, 5.77, 7.3, 7.97, 0.64, 3.66, 10.49, 3.4, 6.65, 7.41, 4.57, 5.15, 5.5, 5.24, 1.35, 3.5, 5.09, 10.34, 8.39, 5.82, 2.87, 5.85, 5.46, 3.58, 8.88, 1.13, 8.42, 9.85, 9.62, 0.53, 4.47, 8.43, 6.53, 9.11, 8.8, 8.6, 8.0, 9.94, 4.85, 4.92, 2.01, 8.64, 1.25, 4.2, 2.73, 9.35, 5.35, 3.48, 5.58, 9.41, 10.16, 2.66, 2.69, 7.92, 2.47, 3.4, 2.08, 1.65, 8.77, 4.78, 0.84, 9.18, 3.97, 6.98, 5.67, 9.25, 9.63, 4.36, 0.93, 7.77, 0.81, 2.2, 9.85, 8.12, 10.39, 3.54, 9.09, 9.35, 9.99, 3.74, 5.43, 7.25, 2.28, 9.88, 5.1, 0.48, 4.51, 10.44, 4.78, 9.06, 1.46, 7.9, 6.85, 9.1, 9.15, 4.12, 8.12, 2.27, 3.08, 8.85, 3.8, 2.07, 3.97, 9.38, 8.44, 7.92, 0.29, 8.55, 5.31, 8.68, 10.1, 7.49, 8.7, 4.8, 1.32, 5.34, 1.8, 2.55, 4.94, 5.85, 8.1, 9.49, 9.29, 2.81, 10.82, 7.33, 7.17, 3.16, 6.88, 4.37, 9.62, 4.46, 9.8, 8.7, 9.38, 2.29, 7.43, 2.67, 6.22, 8.53, 7.49, 4.03, 8.48, 6.58, 5.65, 4.24, 9.34, 5.75, 5.26, 9.59, 3.64, 7.53, 1.23, 9.15, 9.8, 9.39, 7.51, 8.51, 4.83, 3.05, 1.69, 9.62, 5.38, 6.1, 9.66, 9.17, 4.46, 1.68, 6.66, 5.18, 3.02, 6.38, 6.26, 4.57, 1.83, 1.27, 7.47, 8.49, 5.45, 6.52, 8.13, 7.18, 6.81, 5.15, 7.66, 6.49, 7.74, 8.47, 9.36, 0.52, 3.51, 8.71, 0.99, 1.2, 9.6, 7.96, 9.25, 5.34, 2.37, 9.67, 2.46, 1.27, 9.25, 1.09, 9.08, 3.81, 6.74, 6.11, 2.19, 2.58, 8.36, 1.05, 4.34, 3.74, 5.95, 1.86, 2.92, 3.83, 6.6, 3.26, 5.12, 0.88, 10.45, 7.69, 8.2, 5.94, 7.65, 8.62, 7.91, 9.73, 7.15, 8.21, 3.23, 9.61, 1.63, 7.68, 1.24, 1.51, 5.09, 7.19, 3.68, 7.22, 3.84, 8.01, 2.1, 8.36, 5.33, 3.71, 5.16, 3.45, 6.95, 3.12, 4.07, 6.09, 4.08, 1.13, 9.03, 0.99, 3.67, 3.28, 6.96, 9.67, 1.07, 5.72, 8.23, 10.11, 9.23, 7.02, 4.28, 3.92, 10.03, 9.06, 8.98, 9.01, 9.09, 7.22, 8.6, 3.46, 3.68, 10.98, 2.16, 8.94, 2.87, 1.12, 3.22, 1.52, 8.56, 9.62, 5.27, 9.17, 1.21, 5.61, 9.75, 4.83, 5.35, 1.8, 9.04, 8.03, 3.45, 7.6, 6.71, 8.03, 1.38, 3.47, 4.61, 2.29, 8.81, 3.34, 2.27, 9.3, 8.91, 0.74, 2.22, 8.18, 3.86, 2.46, 9.77, 0.95, 8.7, 8.15, 8.66, 4.5, 7.35, 7.98, 6.83, 3.68, 3.34, 9.21, 5.25, 9.4, 7.53, 7.59, 7.29, 4.94, 2.06, 4.3, 8.37, 6.87, 0.99, 7.51, 0.91, 3.12, 8.85, 9.56, 3.58, 2.61, 8.14, 5.64, 8.13, 5.53, 4.04, 4.77, 7.11, 5.8, 9.44, 5.31, 9.58, 4.05, 9.85, 9.47, 6.58, 7.09, 5.1, 0.36, 3.27, 10.61, 2.6, 2.55, 7.94, 5.72, 0.15, 9.67, 4.85, 5.36, 5.97, 4.12, 8.8, 1.25, 4.39, 9.66, 5.73, 9.33, 8.9, 1.02, 4.37, 6.29, 6.98, 4.73, 2.83, 5.47, 6.79, 4.42, 6.11, 4.83, 4.18, 6.95, 2.14, 9.94, 5.26, 2.97, 5.34, 8.31, 9.67, 3.33, 5.93, 10.7, 9.56, 8.62, 7.36, 1.0, 6.38, 0.31, 8.62, 3.21, 3.15, 1.0, 8.24, 7.03, 2.17, 9.07, 10.15, 6.53, 7.89, 1.13, 1.26, 6.48, 1.94, 7.01, 2.21, 9.26, 2.86, 9.84, 5.03, 2.58, 8.57, 2.97, 8.77, 4.01, 10.05, 4.83, 5.96, 0.69, 5.12, 8.72, 7.69, 9.88, 1.54, 2.61, 7.31, 1.01, 6.15, 5.69, 10.59, 1.73, 8.51, 3.17, 2.82, 9.12, 10.07, 10.66, 3.54, 5.68, 6.64, 9.84, 4.55, 2.71, 10.8, 5.06, 9.58, 1.22, 5.01, 8.67, 2.6, 1.85, 3.08, 4.85, 8.61, 6.37, 1.68, 6.9, 8.14, 2.32, 6.58, 4.74, 6.88, 7.63, 0.82, 6.39, 4.61, 9.23, 6.05, 8.26, 6.86, 7.81, 8.35, 10.74, 3.72, 3.36, 2.48, 9.23, 9.75, 3.34, 1.09, 2.07, 2.74, 2.74, 0.95, 8.56, 1.28, 4.91, 3.14, 2.78, 4.12, 1.88, 10.46, 4.92, 5.95, 5.31, 5.56, 5.86, 8.03, 7.57, 9.82, 4.15, 7.03, 1.46, 8.88, 2.92, 1.32, 10.27, 7.89, 7.05, 7.73, 6.61, 5.98, 6.39, 4.63, 4.45, 8.58, 2.58, 6.86, 0.31, 1.97, 2.47, 10.56, 7.82, 6.86, 5.72, 5.11, 9.33, 10.55, 7.32, 2.05, 4.33, 9.2, 1.55, 7.16, 9.36, 3.64, 2.06, 5.64, 9.24, 0.8, 4.98, 1.96, 8.09, 6.23, 0.92, 7.99, 7.73, 1.33, 1.18, 9.47, 4.02, 2.64, 2.2, 7.17, 9.92, 7.1, 8.18, 5.23, 3.84, 6.37, 1.17, 8.61, 7.19, 1.08, 5.2, 3.81, 4.96, 2.27, 2.61, 8.79, 2.11, 5.07, 10.04, 10.27, 1.25, 6.79, 4.98, 8.52, 4.82, 3.39, 1.44, 7.91, 7.08, 7.88, 4.87, 3.72, 1.44, 2.1, 4.44, 0.65, 9.07, 5.97, 4.57, 7.83, 8.03, 1.58, 10.47, 0.65, 10.81, 7.64, 8.33, 8.26, 3.36, 5.37, 1.69, 4.36, 1.05, 9.71, 7.77, 9.5, 2.91, 2.01, 2.47, 8.22, 4.06, 6.47, 8.94, 8.3, 3.41, 3.28, 2.49, 9.95, 7.34, 1.58, 9.49, 7.32, 3.53, 5.4, 2.17, 8.7, 3.83, 5.12, 9.84, 2.73, 2.77, 5.89, 3.01, 8.76, 0.42, 8.93, 5.22, 1.66, 2.01, 6.82, 9.86, 5.11, 8.76, 3.75, 1.11, 5.0, 9.43, 9.7, 1.69, 7.52, 7.44, 9.2, 4.12, 9.36, 9.8, 7.7, 8.73, 8.44, 3.9, 1.55, 7.36, 2.38, 6.93, 5.73, 4.54, 9.26, 6.46, 1.08, 4.4, 5.93, 9.21, 8.65, 4.09, 2.4, 4.71, 8.96, 3.24, 3.96, 1.42, 6.87, 6.1, 1.4, 9.49, 2.41, 10.09, 10.48, 6.08, 7.68, 9.89, 3.73, 4.04, 8.02, 7.14, 1.17, 4.66, 9.0, 8.51, 6.54, 7.2, 1.59, 7.62, 5.49, 3.09, 6.37, 8.71, 6.64, 1.78, 1.92, 1.54, 10.24, 2.91, 4.78, 9.1, 7.85, 8.93, 9.52, 1.06, 4.03, 5.57, 7.62, 7.45, 4.05, 6.94, 9.35, 4.76, 0.78, 6.4, 8.43, 10.47, 2.46, 7.55, 4.0, 2.0, 4.25, 4.93, 7.52, 5.05, 4.25, 2.37, 7.88, 1.68, 1.98, 4.79, 0.32, 10.02, 3.98, 1.02, 4.43, 2.48, 4.13, 4.25, 8.05, 9.15, 8.17, 4.98, 9.85, 4.25, 3.8, 4.48, 4.44, 2.98, 2.04, 2.11, 5.96, 5.11, 7.0, 4.1, 8.23, 5.93, 2.82, 1.37, 4.58, 9.55, 5.23, 5.93, 3.24, 6.15, 1.97, 10.06, 7.02, 0.49, 6.77, 10.11, 1.68, 6.99, 9.04, 6.88, 7.68, 8.55, 6.43, 3.82, 9.32, 9.28, 9.05, 7.44, 4.45, 9.05, 10.35, 9.54, 6.52, 3.61, 8.97, 1.65, 10.36, 1.04, 2.97, 1.79, 7.07, 8.15, 6.46, 6.71, 3.71, 5.59, 10.64, 4.04, 6.36, 7.64, 8.26, 4.83, 7.08, 7.05, 5.79, 9.02, 8.2, 4.3, 7.79, 3.62, 9.81, 2.94, 1.42, 2.02, 6.07, 9.33, 8.93, 6.24, 4.97, 1.26, 3.63, 6.95, 2.96, 2.82, 8.38, 0.64, 6.2, 9.88, 6.05, 3.19, 6.97, 3.84, 7.77, 10.37, 5.09, 9.81, 4.31, 9.24, 2.42, 2.75, 0.39, 5.08, 9.94, 5.2, 5.23, 4.01, 7.3, 4.54, 2.19, 4.61, 4.17, 4.46, 8.34, 1.66, 4.22, 5.84, 1.83, 7.88, 1.25, 4.4, 3.7, 3.8, 6.83, 1.28, 4.41, 10.08, 4.62, 0.25, 4.72, 10.06, 3.08, 6.78, 5.07, 9.03, 6.6, 0.92, 7.5, 6.07, 2.05, 4.82, 5.11, 3.12, 10.09, 1.88, 1.6, 5.73, 10.16, 7.09, 1.14, 4.76, 7.04, 6.71, 1.9, 4.04, 7.5, 5.66, 9.72, 2.56, 1.53, 1.12, 7.41, 10.17, 6.95, 1.45, 10.19, 0.87, 1.26, 0.61, 5.77, 4.4]\n",
    "    example_4_res = 1.0\n",
    "    \n",
    "    assert correlation_solution(example_4_x, example_4_y) == example_4_res\n",
    "    \n",
    "    print('Все тесты прошли успешно!')"
   ],
   "outputs": [],
   "execution_count": 41
  },
  {
   "cell_type": "code",
   "id": "a503beed",
   "metadata": {
    "ExecuteTime": {
     "end_time": "2024-04-25T22:42:30.915407Z",
     "start_time": "2024-04-25T22:42:30.899119Z"
    }
   },
   "source": [
    "correlation_tests()"
   ],
   "outputs": [
    {
     "name": "stdout",
     "output_type": "stream",
     "text": [
      "Все тесты прошли успешно!\n"
     ]
    }
   ],
   "execution_count": 42
  },
  {
   "cell_type": "code",
   "id": "44f43753",
   "metadata": {
    "ExecuteTime": {
     "end_time": "2024-04-25T22:55:18.834268Z",
     "start_time": "2024-04-25T22:55:18.826552Z"
    }
   },
   "source": [
    "import pandas as pd\n",
    "\n",
    "def correlation_one_line_solution(column_x, column_y):\n",
    "    \"\"\"\n",
    "    Вычисляет корреляцию значений двух колонок.\n",
    "    \n",
    "    Аргументы:\n",
    "        column_x: Первая колонка с численными значениями.\n",
    "        column_y: Вторая колонка с численными значениями.\n",
    "        \n",
    "    Возвращаемое значение:\n",
    "        Возвращает корреляцию значений двух колонок, округлённую до 2 знаков после запятой.\n",
    "    \"\"\"\n",
    "    return round(((column_x - column_x.mean()) * (column_y - column_y.mean())).sum() / ((len(column_x) - 1) * column_x.std() * column_y.std()), 2)\n",
    "        \n"
   ],
   "outputs": [],
   "execution_count": 60
  },
  {
   "cell_type": "code",
   "id": "6fb9030f",
   "metadata": {
    "ExecuteTime": {
     "end_time": "2024-04-25T22:55:19.387317Z",
     "start_time": "2024-04-25T22:55:19.374022Z"
    }
   },
   "source": [
    "\n",
    "def correlation_one_line_tests():\n",
    "    def calculate_lines_of_code(f):\n",
    "        import inspect\n",
    "\n",
    "        counting = True\n",
    "        counter = 0\n",
    "\n",
    "        for line in inspect.getsourcelines(f)[0]:\n",
    "            if line.strip() == '\"\"\"':\n",
    "                counting = not counting\n",
    "                continue\n",
    "\n",
    "            if line.strip() == '':\n",
    "                continue\n",
    "\n",
    "            if counting:\n",
    "                counter += 1\n",
    "\n",
    "        return counter - 1\n",
    "    \n",
    "    if calculate_lines_of_code(correlation_one_line_solution) != 1:\n",
    "        raise RuntimeError('В теле функции должна быть ровно одна строка')\n",
    "\n",
    "    example_1_column_x = pd.Series([1, 2, 1, 3, 4, 5])\n",
    "    example_1_column_y = pd.Series([0, 5, 3, 8, 9, 1])\n",
    "    example_1_res = 0.29\n",
    "    \n",
    "    assert correlation_one_line_solution(example_1_column_x, example_1_column_y) == example_1_res\n",
    "    \n",
    "    example_2_column_x = pd.Series([1, 2, 1, 3, 4, 5])\n",
    "    example_2_column_y = pd.Series([1, 2, 1, 3, 4, 5])\n",
    "    example_2_res = 1.0\n",
    "    \n",
    "    assert correlation_one_line_solution(example_2_column_x, example_2_column_y) == example_2_res\n",
    "    \n",
    "    print('Все тесты прошли успешно!')"
   ],
   "outputs": [],
   "execution_count": 61
  },
  {
   "cell_type": "code",
   "id": "703ae027",
   "metadata": {
    "ExecuteTime": {
     "end_time": "2024-04-25T22:55:20.202728Z",
     "start_time": "2024-04-25T22:55:20.181066Z"
    }
   },
   "source": [
    "correlation_one_line_tests()"
   ],
   "outputs": [
    {
     "name": "stdout",
     "output_type": "stream",
     "text": [
      "Все тесты прошли успешно!\n"
     ]
    }
   ],
   "execution_count": 62
  },
  {
   "cell_type": "code",
   "execution_count": null,
   "id": "e75ad9df",
   "metadata": {},
   "outputs": [],
   "source": [
    "def correlation_table_solution(table):\n",
    "    \"\"\"\n",
    "    Принимает на вход таблицу с данными, а возвращает таблицу со значениями\n",
    "    корреляции колонок исходной таблицы друг с другом.\n",
    "    \n",
    "    Аргументы:\n",
    "        table: Таблица с численными значениями в формате pandas.\n",
    "        \n",
    "    Возвращаемое значение:\n",
    "        Возвращает таблицу корреляции между колонками исходной таблицы в формате списка списков.\n",
    "        В ячейке таблицы с координатами ij (где i — индекс строки, а j — индекс колонки)\n",
    "        должна быть записана корреляция значений i-ой колонки исходной таблицы с j-ой колонкой\n",
    "        исходной таблицы. Значение корреляции должно быть округлено до 2 знаков после запятой.\n",
    "    \"\"\"\n",
    "    #лень делать, ничего сложного тут нет"
   ]
  },
  {
   "cell_type": "code",
   "execution_count": null,
   "id": "41d18fa1",
   "metadata": {},
   "outputs": [],
   "source": [
    "def correlation_table_tests():\n",
    "    def custom_compare(x, y):\n",
    "        if str(x) != str(y):\n",
    "            raise RuntimeError(f'Ожидаемое значение: {y}. Фактическое: {x}')\n",
    "            \n",
    "    example_1_table = [[1,-1],\n",
    "                       [2,7],\n",
    "                       [3,9],\n",
    "                       [4,5]]\n",
    "    example_1_df = pd.DataFrame(data=example_1_table, columns=['A', 'B'])\n",
    "    example_1_res = [[1.0, 0.6],\n",
    "                     [0.6, 1.0]]\n",
    "    \n",
    "    custom_compare(correlation_table_solution(example_1_df), example_1_res)\n",
    "    \n",
    "    example_2_table = [[17,81,19],\n",
    "                       [21,23,94],\n",
    "                       [55,71,83],\n",
    "                       [53,82,64],\n",
    "                       [25,62,72]]\n",
    "    example_2_df = pd.DataFrame(data=example_2_table, columns=['D', 'E', 'Q'])\n",
    "    example_2_res = [[1.0, 0.42, 0.33],\n",
    "                     [0.42, 1.0, -0.67],\n",
    "                     [0.33, -0.67, 1.0]]\n",
    "    \n",
    "    custom_compare(correlation_table_solution(example_2_df), example_2_res)\n",
    "    \n",
    "    print('Все тесты прошли успешно!')"
   ]
  },
  {
   "cell_type": "code",
   "execution_count": null,
   "id": "e78ac67b",
   "metadata": {},
   "outputs": [],
   "source": [
    "correlation_table_tests()"
   ]
  }
 ],
 "metadata": {
  "kernelspec": {
   "display_name": "Python 3 (ipykernel)",
   "language": "python",
   "name": "python3"
  },
  "language_info": {
   "codemirror_mode": {
    "name": "ipython",
    "version": 3
   },
   "file_extension": ".py",
   "mimetype": "text/x-python",
   "name": "python",
   "nbconvert_exporter": "python",
   "pygments_lexer": "ipython3",
   "version": "3.9.5"
  }
 },
 "nbformat": 4,
 "nbformat_minor": 5
}
