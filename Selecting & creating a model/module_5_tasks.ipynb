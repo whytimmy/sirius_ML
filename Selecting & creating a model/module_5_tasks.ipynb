{
 "cells": [
  {
   "cell_type": "code",
   "id": "11a56dd0",
   "metadata": {
    "ExecuteTime": {
     "end_time": "2024-06-08T12:44:05.139517Z",
     "start_time": "2024-06-08T12:44:05.125459Z"
    }
   },
   "source": [
    "from math import exp"
   ],
   "outputs": [],
   "execution_count": 7
  },
  {
   "cell_type": "code",
   "id": "6721df3e",
   "metadata": {
    "ExecuteTime": {
     "end_time": "2024-06-08T12:44:05.510120Z",
     "start_time": "2024-06-08T12:44:05.502388Z"
    }
   },
   "source": [
    "def round_to_2(x):\n",
    "    \"\"\"\n",
    "    Принимает число и возвращает результат его округления\n",
    "    до 2 знаков после запятой.\n",
    "    \n",
    "    Аргументы:\n",
    "        x: Число.\n",
    "        \n",
    "    Возвращаемое значение:\n",
    "        Результат округления числа до 2 знаков после запятой.\n",
    "    \"\"\"\n",
    "    \n",
    "    return round(x, 2)"
   ],
   "outputs": [],
   "execution_count": 8
  },
  {
   "cell_type": "code",
   "id": "7280b7ca",
   "metadata": {
    "ExecuteTime": {
     "end_time": "2024-06-08T12:44:05.955772Z",
     "start_time": "2024-06-08T12:44:05.936149Z"
    }
   },
   "source": [
    "def custom_compare(x, y):\n",
    "    if str(x) != str(y):\n",
    "        raise RuntimeError(f'Ожидаемое значение: {y}. Фактическое: {x}')"
   ],
   "outputs": [],
   "execution_count": 9
  },
  {
   "cell_type": "markdown",
   "id": "ef2bf45f",
   "metadata": {
    "scrolled": true
   },
   "source": [
    "## Перцептрон"
   ]
  },
  {
   "cell_type": "code",
   "id": "c5ce83eb",
   "metadata": {
    "ExecuteTime": {
     "end_time": "2024-06-08T12:44:07.335680Z",
     "start_time": "2024-06-08T12:44:07.327188Z"
    }
   },
   "source": [
    "def sign(x):\n",
    "    \"\"\"\n",
    "    Возвращает 1 если переданное численное значение больше 0,\n",
    "    в противном случае возвращает -1.\n",
    "    \n",
    "    Аргументы:\n",
    "        x: Численное значение.\n",
    "        \n",
    "    Возвращаемое значение:\n",
    "        1, если x > 0, -1 в противном случае.\n",
    "    \"\"\"\n",
    "    \n",
    "    if x > 0:\n",
    "        return 1\n",
    "    \n",
    "    return -1\n",
    "\n",
    "def sigmoid(x):\n",
    "    \"\"\"\n",
    "    Возвращает 1 / (1 + e^(-x)).\n",
    "    \n",
    "    Аргументы:\n",
    "        x: Численное значение.\n",
    "        \n",
    "    Возвращаемое значение:\n",
    "        1 / (1 + e^(-x))\n",
    "    \"\"\"\n",
    "    \n",
    "    return round_to_2(1 / (1 + exp(-x)))\n",
    "\n",
    "def relu(x):\n",
    "    \"\"\"\n",
    "    Возвращает наибольшее из чисел x и 0.\n",
    "    \n",
    "    Аргументы:\n",
    "        x: Численное значение.\n",
    "        \n",
    "    Возвращаемое значение:\n",
    "        Наибольшее из чисел x и 0\n",
    "    \"\"\"\n",
    "    \n",
    "    if x > 0:\n",
    "        return x\n",
    "    \n",
    "    return 0"
   ],
   "outputs": [],
   "execution_count": 10
  },
  {
   "cell_type": "code",
   "id": "056bdee9",
   "metadata": {
    "ExecuteTime": {
     "end_time": "2024-06-08T12:44:07.723739Z",
     "start_time": "2024-06-08T12:44:07.711692Z"
    }
   },
   "source": [
    "def perceptron_classify_solution(ws, xs, f=sign):\n",
    "    \"\"\"\n",
    "    Вычисляет предсказания перцептрона с заданными параметрами для набора объектов.\n",
    "    \n",
    "    Аргументы:\n",
    "        ws: Список весов дендритов перцептрона. \n",
    "            Вес на $i$-ой позиции соответствует весу $i$-го дендрита.\n",
    "            Последний вес в списке соответствует весу $w_b$ искусственного дендрита, который\n",
    "            отвечает за константную добавку к взвешенной сумме входящих в нейрон сигналов.\n",
    "        xs: Список объектов. Каждый объект представляется в виде списка значений факторов.\n",
    "            Каждый объект описывается одним и тем же набором факторов.\n",
    "            Фактор под номером $i$ передаёт сигнал на $i$-ый дендрит нейрона.\n",
    "            При этом в данных отсутствует искусственный фактор с константным значением $1$,\n",
    "            который необходим для того, чтобы передать сигнал на соответствующий искусственный дендрит.\n",
    "         f: Функция активации нейрона. По умолчанию задана как функция sign.\n",
    "        \n",
    "    Возвращаемое значение:\n",
    "        Список предсказаний перцептрона для всех объектов.\n",
    "        Предсказание для $i$-го объекта находится в списке на позиции $i$.\n",
    "    \"\"\"\n",
    "    predictions = []\n",
    "    \n",
    "    for x in xs:\n",
    "        weighted_sum = round_to_2(sum(w * xi for w, xi in zip(ws, x)) + ws[-1])\n",
    "        predictions.append(f(weighted_sum))\n",
    "        \n",
    "    return predictions"
   ],
   "outputs": [],
   "execution_count": 11
  },
  {
   "cell_type": "code",
   "id": "2410cb49",
   "metadata": {
    "ExecuteTime": {
     "end_time": "2024-06-08T12:44:08.081743Z",
     "start_time": "2024-06-08T12:44:08.072795Z"
    }
   },
   "source": [
    "def perceptron_classify_tests():\n",
    "    example_1_ws = [5, -1, 3]\n",
    "    example_1_xs = [[2, 3],\n",
    "                    [-1, 4]]\n",
    "    \n",
    "    example_1_res = [1, -1]\n",
    "    \n",
    "    custom_compare(perceptron_classify_solution(example_1_ws, example_1_xs), example_1_res)\n",
    "    \n",
    "    example_2_ws = [10, -21, 47, 54, 11]\n",
    "    example_2_xs = [[-5, 3, 9, -1],\n",
    "                    [2, 42, -11, 17],\n",
    "                    [-21, 7, 23, 8],\n",
    "                    [24, -67, -24, 92]\n",
    "                   ]\n",
    "    \n",
    "    example_2_res = [1, -1, 1, 1]\n",
    "    \n",
    "    custom_compare(perceptron_classify_solution(example_2_ws, example_2_xs), example_2_res)\n",
    "    \n",
    "    example_3_ws = [0.39, 0.74, 0.61, 0.37, 0.46, 0.3, 0.87]\n",
    "    example_3_xs = [[0.38, -0.47, 0.61, -0.87, 0.41, -0.38],\n",
    "                    [-0.31, 0.38, -0.74, 0.61, -0.38, 0.46],\n",
    "                    [0.93, 0.6, -0.83, 0.4, -0.8, 0.75]\n",
    "                   ]\n",
    "    \n",
    "    example_3_res = [0.69, 0.68, 0.76]\n",
    "    \n",
    "    custom_compare(perceptron_classify_solution(example_3_ws, example_3_xs, f=sigmoid), example_3_res)\n",
    "    \n",
    "    print('Все тесты прошли успешно!')"
   ],
   "outputs": [],
   "execution_count": 12
  },
  {
   "cell_type": "code",
   "id": "32069b69",
   "metadata": {
    "ExecuteTime": {
     "end_time": "2024-06-08T12:44:08.518827Z",
     "start_time": "2024-06-08T12:44:08.501941Z"
    }
   },
   "source": [
    "perceptron_classify_tests()"
   ],
   "outputs": [
    {
     "name": "stdout",
     "output_type": "stream",
     "text": [
      "Все тесты прошли успешно!\n"
     ]
    }
   ],
   "execution_count": 13
  },
  {
   "cell_type": "code",
   "id": "687f4e5d",
   "metadata": {
    "ExecuteTime": {
     "end_time": "2024-06-08T12:47:06.245214Z",
     "start_time": "2024-06-08T12:47:06.231925Z"
    }
   },
   "source": [
    "def perceptron_train_solution(xs, ys, learning_rate=1, k=100):\n",
    "    \"\"\"\n",
    "    Обучает перцептрон с функцией активации sign проводить классификацию переданного набора данных.\n",
    "    В результате работы возвращает веса обученного перцептрона.\n",
    "    \n",
    "    Стартовые значения весов перцептрона задаются равными $0$.\n",
    "    \n",
    "    В процессе обучения используется два критерия, согласно которым происходит\n",
    "    остановка обучения перцептрона:\n",
    "    1. Если число итераций обучения превысило некоторую константу k, \n",
    "       то обучение перцептрона останавливается.\n",
    "    2. Если значение метрики «среднее отклонение предсказанного значения от действительного» меньше или равно $0$,\n",
    "       то обучение перцептрона останавливается.\n",
    "    \n",
    "    Аргументы:\n",
    "        xs: Список объектов обучающей выборки. Каждый объект представляется в виде списка значений факторов.\n",
    "            Каждый объект описывается одним и тем же набором факторов.\n",
    "            Фактор под номером $i$ передаёт сигнал на $i$-ый дендрит нейрона.\n",
    "            При этом в данных отсутствует искусственный фактор с константным значением $1$,\n",
    "            который необходим для того, чтобы передать сигнал на соответствующий искусственный дендрит.\n",
    "        ys: Список классов, которым принадлежат объекты из xs.\n",
    "            Порядок классов соответствует порядку объектов в xs.\n",
    "            Класс может быть либо $-1$, либо $1$.\n",
    "        learning_rate: Константа скорости обучения, которая используется в правиле обновления весов перцептрона.\n",
    "                       По умолчанию аргумент равен $1$.\n",
    "         k: Число итераций, после которого необходимо прервать обучение перцептрона,\n",
    "            если процесс не остановился естественным образом.\n",
    "            По умолчанию аргумент равен $100$.\n",
    "        \n",
    "    Возвращаемое значение:\n",
    "        Список весов дендритов перцептрона.\n",
    "        Последний вес в списке соответствует весу $w_b$ искусственного дендрита, который\n",
    "        отвечает за константную добавку к взвешенной сумме входящих в нейрон сигналов.\n",
    "    \"\"\"\n",
    "    n = len(xs)\n",
    "    m = len(xs[0])\n",
    "    ws = [0] * (m + 1)  \n",
    "\n",
    "    for iteration in range(k):\n",
    "        total_error = 0\n",
    "        for x, y in zip(xs, ys):\n",
    "            weighted_sum = sum(w * xi for w, xi in zip(ws, x)) + ws[-1]\n",
    "            y_pred = sign(weighted_sum)\n",
    "            error = y - y_pred\n",
    "            total_error += abs(error)\n",
    "\n",
    "            if error != 0:\n",
    "                for i in range(m):\n",
    "                    ws[i] += learning_rate * error * x[i]\n",
    "                ws[-1] += learning_rate * error \n",
    "\n",
    "        total_error /= (2 * n)\n",
    "\n",
    "        if total_error == 0:\n",
    "            break\n",
    "\n",
    "    return [int(w) for w in ws]"
   ],
   "outputs": [],
   "execution_count": 19
  },
  {
   "cell_type": "code",
   "id": "65b89eba",
   "metadata": {
    "ExecuteTime": {
     "end_time": "2024-06-08T12:47:06.846685Z",
     "start_time": "2024-06-08T12:47:06.831652Z"
    }
   },
   "source": [
    "def perceptron_train_test():\n",
    "    example_1_xs = [\n",
    "        [5, -2],\n",
    "        [-2, -1],\n",
    "        [3, 4],\n",
    "        [-1, -2]\n",
    "    ]\n",
    "    example_1_ys = [1, -1, -1, 1]\n",
    "    \n",
    "    example_1_res = [8, -10, -2]\n",
    "    \n",
    "    custom_compare(perceptron_train_solution(example_1_xs, example_1_ys), example_1_res)\n",
    "    \n",
    "    example_2_xs = [\n",
    "        [-5, 3, 9, -1],\n",
    "        [2, 42, -11, 17],\n",
    "        [-21, 7, 23, 8],\n",
    "        [24, -67, -24, 92]\n",
    "    ]\n",
    "    example_2_ys = [1, 1, -1, -1]\n",
    "    \n",
    "    example_2_res = [26, 112, -26, -218, -4]\n",
    "    \n",
    "    custom_compare(perceptron_train_solution(example_2_xs, example_2_ys), example_2_res)\n",
    "    \n",
    "    example_3_xs = [\n",
    "        [2, 3, 23, 2],\n",
    "        [-1, 4, -2, 32],\n",
    "        [23, -53, -11, 21],\n",
    "        [11, -29, -53, -23],\n",
    "        [-2, 9, 2, -3]\n",
    "    ]\n",
    "    example_3_ys = [-1, 1, 1, -1, -1]\n",
    "    \n",
    "    example_3_res = [18, -70, -16, 150, -4]\n",
    "    \n",
    "    custom_compare(perceptron_train_solution(example_3_xs, example_3_ys), example_3_res)\n",
    "    \n",
    "    print('Все тесты прошли успешно!')"
   ],
   "outputs": [],
   "execution_count": 20
  },
  {
   "cell_type": "code",
   "id": "f310e2a8",
   "metadata": {
    "ExecuteTime": {
     "end_time": "2024-06-08T12:47:07.542220Z",
     "start_time": "2024-06-08T12:47:07.530584Z"
    }
   },
   "source": [
    "perceptron_train_test()"
   ],
   "outputs": [
    {
     "name": "stdout",
     "output_type": "stream",
     "text": [
      "Все тесты прошли успешно!\n"
     ]
    }
   ],
   "execution_count": 21
  },
  {
   "cell_type": "markdown",
   "id": "8e970799",
   "metadata": {},
   "source": [
    "# Многослойный перцептрон"
   ]
  },
  {
   "cell_type": "code",
   "id": "e0831650",
   "metadata": {
    "ExecuteTime": {
     "end_time": "2024-06-09T19:18:23.281622Z",
     "start_time": "2024-06-09T19:18:23.265574Z"
    }
   },
   "source": [
    "def multilayer_perceptron_solution(wss, fs, x):\n",
    "    \"\"\"\n",
    "    Вычисляет предсказание многослойного перцептрона для конкретного объекта.\n",
    "    \n",
    "    Аргументы:\n",
    "        wss: Список списков весов нейронов перцептрона.\n",
    "        \n",
    "             Длина внешнего списка равна числу слоёв нейрона.\n",
    "             Каждый элемент внешнего списка — набор параметров нейронов конкретного слоя.\n",
    "             $i$-ый элемент внешнего списка соответствует $i$-ому слою многослойного перцептрона.\n",
    "             \n",
    "             Параметры нейронов конкретного слоя тоже представлены в виде списка.\n",
    "             Каждый элемент такого списка — набор параметров конкретного нейрона.\n",
    "             \n",
    "             Набор параметров конкретного нейрона тоже представлен в виде списка.\n",
    "             Каждый элемент такого списка — вес соответствующего дендрита нейрона.\n",
    "             Последний вес в списке соответствует весу $w_b$ искусственного дендрита,\n",
    "             который отвечает за константную добавку к взвешенной сумме входящих в нейрон сигналов.\n",
    "        \n",
    "        fs: Список функций активации, которые используются в каждом из слоёв.\n",
    "            $i$-ая функция активации используется в $i$-ом слое многослойного перцептрона.\n",
    "        \n",
    "         x: Объект, для которого необходимо сделать предсказание.\n",
    "            Объект представляется в виде списка значений факторов.\n",
    "            У объекта отсутствует искусственный фактор с константным значением $1$,\n",
    "            который необходим для того, чтобы передать сигнал на соответствующий искусственный\n",
    "            дендрит нейронов первого слоя.\n",
    "        \n",
    "    Возвращаемое значение:\n",
    "        Предсказанное значение.\n",
    "    \"\"\"\n",
    "    inputs = x\n",
    "    for i in range(len(wss)):\n",
    "        layer_weights = wss[i]\n",
    "        activation_function = fs[i]\n",
    "        inputs_with_bias = inputs + [1]\n",
    "        \n",
    "        outputs = []\n",
    "        for neuron_weights in layer_weights:\n",
    "            weighted_sum = sum(w * xi for w, xi in zip(neuron_weights, inputs_with_bias))\n",
    "            outputs.append(activation_function(weighted_sum))\n",
    "            \n",
    "        inputs = outputs\n",
    "    \n",
    "    return inputs[0] if len(inputs) == 1 else inputs"
   ],
   "outputs": [],
   "execution_count": 31
  },
  {
   "cell_type": "code",
   "id": "81fe7c39",
   "metadata": {
    "ExecuteTime": {
     "end_time": "2024-06-09T19:18:23.642852Z",
     "start_time": "2024-06-09T19:18:23.623158Z"
    }
   },
   "source": [
    "def multilayer_perceptron_tests():\n",
    "    example_1_wss = [\n",
    "        [[1, -1, 5]],\n",
    "        [[2, 1],\n",
    "         [2, -3]],\n",
    "        [[1, -4, 1]]\n",
    "    ]\n",
    "\n",
    "    example_1_fs = [relu, relu, sigmoid]\n",
    "    example_1_x = [-1, 1]\n",
    "    \n",
    "    example_1_res = 0.02\n",
    "    \n",
    "    custom_compare(multilayer_perceptron_solution(example_1_wss, example_1_fs, example_1_x), example_1_res)\n",
    "    \n",
    "    example_2_wss = [\n",
    "        [[2, -3, 7], [-6, 5, 2]],\n",
    "        [[2, 2, 1]]\n",
    "    ]\n",
    "\n",
    "    example_2_fs = [relu, relu]\n",
    "    example_2_x = [-2, -2]\n",
    "    \n",
    "    example_2_res = 27\n",
    "    \n",
    "    custom_compare(multilayer_perceptron_solution(example_2_wss, example_2_fs, example_2_x), example_2_res)\n",
    "    \n",
    "    print('Все тесты прошли успешно!')"
   ],
   "outputs": [],
   "execution_count": 32
  },
  {
   "cell_type": "code",
   "id": "51e6f8a3",
   "metadata": {
    "ExecuteTime": {
     "end_time": "2024-06-09T19:18:24.157932Z",
     "start_time": "2024-06-09T19:18:24.143836Z"
    }
   },
   "source": [
    "multilayer_perceptron_tests()"
   ],
   "outputs": [
    {
     "name": "stdout",
     "output_type": "stream",
     "text": [
      "[0.02]\n",
      "[27]\n",
      "Все тесты прошли успешно!\n"
     ]
    }
   ],
   "execution_count": 33
  },
  {
   "metadata": {},
   "cell_type": "code",
   "outputs": [],
   "execution_count": null,
   "source": "",
   "id": "a19abecefdf8c787"
  }
 ],
 "metadata": {
  "kernelspec": {
   "display_name": "Python 3 (ipykernel)",
   "language": "python",
   "name": "python3"
  },
  "language_info": {
   "codemirror_mode": {
    "name": "ipython",
    "version": 3
   },
   "file_extension": ".py",
   "mimetype": "text/x-python",
   "name": "python",
   "nbconvert_exporter": "python",
   "pygments_lexer": "ipython3",
   "version": "3.9.5"
  }
 },
 "nbformat": 4,
 "nbformat_minor": 5
}
