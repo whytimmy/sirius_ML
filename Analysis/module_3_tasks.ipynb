{
 "cells": [
  {
   "cell_type": "code",
   "execution_count": null,
   "id": "976a1da9",
   "metadata": {},
   "outputs": [],
   "source": [
    "import numpy as np\n",
    "# Перед началом работы с библиотеками pandas и seaborn необходимо установить их в Python.\n",
    "# Сделать это можно, исполнив данную ячейку\n",
    "!pip3 install pandas\n",
    "!pip3 install seaborn"
   ]
  },
  {
   "cell_type": "code",
   "outputs": [],
   "source": [],
   "metadata": {
    "collapsed": false
   },
   "id": "55bb73a59e41bbb"
  },
  {
   "cell_type": "code",
   "execution_count": 62,
   "id": "f94bbda7",
   "metadata": {
    "ExecuteTime": {
     "end_time": "2024-04-10T10:28:20.299675Z",
     "start_time": "2024-04-10T10:28:20.293375Z"
    }
   },
   "outputs": [],
   "source": [
    "import math\n",
    "import numpy as np\n",
    "import pandas as pd\n",
    "import seaborn as sns"
   ]
  },
  {
   "cell_type": "code",
   "execution_count": null,
   "id": "60ea2afe",
   "metadata": {},
   "outputs": [],
   "source": [
    "# Настройка, которая позволяет сделать графики, которые рисует seaborn, более крупными\n",
    "sns.set(rc={'figure.figsize': (11.7, 8.27)})"
   ]
  },
  {
   "cell_type": "code",
   "execution_count": null,
   "id": "020da7aa",
   "metadata": {},
   "outputs": [],
   "source": [
    "def round_to_2(x):\n",
    "    \"\"\"\n",
    "    Принимает число и возвращает результат его округления\n",
    "    до 2 знаков после запятой.\n",
    "    \n",
    "    Аргументы:\n",
    "        x: Число.\n",
    "        \n",
    "    Возвращаемое значение:\n",
    "        Результат округления числа до 2 знаков после запятой.\n",
    "    \"\"\"\n",
    "    \n",
    "    return round(x, 2)"
   ]
  },
  {
   "cell_type": "markdown",
   "id": "765b1a5f",
   "metadata": {},
   "source": [
    "## Среднее значение в колонке csv-файла"
   ]
  },
  {
   "cell_type": "code",
   "execution_count": null,
   "id": "cff02b4a",
   "metadata": {},
   "outputs": [],
   "source": [
    "def split_line(line, sep):\n",
    "    res = []\n",
    "\n",
    "    prev_ind = -1\n",
    "    in_quotes = False\n",
    "\n",
    "    for i in range(len(line)):\n",
    "        ch = line[i]\n",
    "\n",
    "        if ch == '\"':\n",
    "            in_quotes = not in_quotes\n",
    "\n",
    "        if not in_quotes and ch == sep:\n",
    "            res.append(line[prev_ind + 1:i].strip('\"'))\n",
    "            prev_ind = i\n",
    "\n",
    "    if prev_ind < len(line) - 1:\n",
    "        res.append(line[prev_ind + 1:len(line)].strip('\"'))\n",
    "    elif prev_ind == len(line) - 1:\n",
    "        res.append('')\n",
    "\n",
    "    return res\n",
    "    \n",
    "    res = []\n",
    "    \n",
    "    prev_ind = -1\n",
    "    in_quotes = False\n",
    "    \n",
    "    for i in range(len(line)):\n",
    "        ch = line[i]\n",
    "        \n",
    "        if ch == '\"':\n",
    "            in_quotes = not in_quotes\n",
    "            \n",
    "        if not in_quotes and ch == sep:\n",
    "            res.append(line[prev_ind + 1:i].strip('\"'))\n",
    "            prev_ind = i\n",
    "            \n",
    "    if prev_ind < len(line) - 1:\n",
    "        res.append(line[prev_ind + 1:len(line)].strip('\"'))\n",
    "    elif prev_ind == len(line) - 1:\n",
    "        res.append('')\n",
    "    \n",
    "    return res"
   ]
  },
  {
   "cell_type": "code",
   "execution_count": null,
   "id": "c94777b8",
   "metadata": {},
   "outputs": [],
   "source": [
    "def read_csv_and_calc_mean_solution(lines, sep, column_name):\n",
    "    \"\"\"\n",
    "    Принимает список строк из csv-файла и возвращает среднее значение в заданной колонке.\n",
    "    В первой строке csv-файла всегда представлены названия его колонок.\n",
    "    \n",
    "    Аргументы:\n",
    "        lines: Список строк, прочитанных из csv-файла.\n",
    "        sep: Разделитель, который используется в строках для отделения различных значений.\n",
    "        column_name: Название колонки с целочисленными значениями, по которой нужно посчитать среднее.\n",
    "        \n",
    "    Возвращаемое значение:\n",
    "        Среднее значение в заданной колонке, округлённое до 2 знаков\n",
    "        после запятой с помощью функции round_to_2.\n",
    "    \"\"\"\n",
    "    res = [0]*len(lines)\n",
    "    for k in range(len(lines)):\n",
    "        res[k] = split_line(lines[k], sep)\n",
    "\n",
    "    i = 0\n",
    "    sum = 0\n",
    "    while res[0][i] != column_name:\n",
    "        i += 1\n",
    "\n",
    "    for j in range(1, len(lines)):\n",
    "        sum += int(res[j][i])\n",
    "\n",
    "    return round(sum/(len(lines) - 1), 2)\n",
    "\n",
    "    pass"
   ]
  },
  {
   "cell_type": "code",
   "execution_count": null,
   "id": "423d5b67",
   "metadata": {},
   "outputs": [],
   "source": [
    "def read_csv_and_calc_mean_tests():\n",
    "    example_1_lines = [\n",
    "        'Жанр,\"Продолжительность, часы\",\"Продолжительность, минуты\",Страна производства,Год производства',\n",
    "        'Боевик,0,36,Италия,1996',\n",
    "        'Комедия,1,23,Россия,1999',\n",
    "        'Триллер,2,21,США,2006',\n",
    "    ]\n",
    "    example_1_sep = ','\n",
    "    example_1_column = 'Год производства'\n",
    "    example_1_res = 2000.33\n",
    "    \n",
    "    assert read_csv_and_calc_mean_solution(example_1_lines, example_1_sep, example_1_column) == example_1_res\n",
    "    \n",
    "    example_2_lines = [\n",
    "        'Жанр,\"Продолжительность, часы\",\"Продолжительность, минуты\",Страна производства,Год производства',\n",
    "        'Боевик,0,36,Италия,1996',\n",
    "        'Комедия,1,23,Россия,1999',\n",
    "        'Триллер,2,21,США,2006',\n",
    "        'Комедия,1,48,США-Россия,2012',\n",
    "        'Драма,2,3,Франция,2016',\n",
    "        'Документальный,2,47,Германия,2001'\n",
    "    ]\n",
    "    example_2_sep = ','\n",
    "    example_2_column = 'Продолжительность, минуты'\n",
    "    example_2_res = 29.67\n",
    "    \n",
    "    assert read_csv_and_calc_mean_solution(example_2_lines, example_2_sep, example_2_column) == example_2_res\n",
    "    \n",
    "    print('Все тесты прошли успешно!')"
   ]
  },
  {
   "cell_type": "code",
   "execution_count": null,
   "id": "c90d6c12",
   "metadata": {},
   "outputs": [],
   "source": [
    "read_csv_and_calc_mean_tests()"
   ]
  },
  {
   "cell_type": "markdown",
   "id": "9521936e",
   "metadata": {},
   "source": [
    "## Фильтрация таблиц"
   ]
  },
  {
   "cell_type": "code",
   "execution_count": null,
   "id": "933e7466",
   "metadata": {},
   "outputs": [],
   "source": [
    "# В переменную movies загружена таблица из файла movies_data.csv\n",
    "movies = pd.read_csv('movies_data.csv', sep=',')\n",
    "\n",
    "# Удаление фильмов, у которых не указан год производства\n",
    "movies = movies[~movies['Год производства'].isna()]"
   ]
  },
  {
   "cell_type": "markdown",
   "id": "880e3eaf",
   "metadata": {},
   "source": [
    "## Комбинирование колонок и расчёт статистик"
   ]
  },
  {
   "cell_type": "code",
   "execution_count": null,
   "id": "e7819a5d",
   "metadata": {},
   "outputs": [],
   "source": [
    "# В переменную movies_budget загружена таблица из файла movies_budget.csv\n",
    "movies_budget = pd.read_csv('movies_budget.csv', sep=';')"
   ]
  },
  {
   "cell_type": "markdown",
   "id": "624d2aad",
   "metadata": {},
   "source": [
    "## Агрегированные статистики"
   ]
  },
  {
   "cell_type": "code",
   "execution_count": null,
   "id": "aab97d2b",
   "metadata": {},
   "outputs": [],
   "source": [
    "# В переменную movies_budget загружена таблица из файла movies_budget.csv\n",
    "movies_budget = pd.read_csv('movies_budget.csv', sep=';')"
   ]
  },
  {
   "cell_type": "code",
   "execution_count": null,
   "id": "acc10e90",
   "metadata": {},
   "outputs": [],
   "source": [
    "def transform_countries_info(movies_data):\n",
    "    \"\"\"\n",
    "    Принимает таблицу с колонкой «Страна производства» и добавляет к таблице 5 новых колонок:\n",
    "    по одной на каждую отдельную страну. Значение в каждой из колонок соответствует тому,\n",
    "    принимала ли конкретная страна участие в производстве фильма.\n",
    "    \n",
    "    Аргументы:\n",
    "        movies_data: Исходная таблица с клонкой «Страна производства».\n",
    "        \n",
    "    Возвращаемое значение:\n",
    "        Нет. Функция модифицирует переданную таблицу, но ничего не возвращает.\n",
    "    \"\"\"\n",
    "    \n",
    "    countries = ['Россия', 'Германия', 'США', 'Италия', 'Франция']\n",
    "    new_columns = [[] for i in range(len(countries))]\n",
    "    \n",
    "    for _, row in movies_data.iterrows():\n",
    "        country_of_origin_united = row['Страна производства']\n",
    "        countries_of_origin = country_of_origin_united.split('-')\n",
    "        \n",
    "        for i in range(len(countries)):\n",
    "            country = countries[i]\n",
    "            \n",
    "            if country in countries_of_origin:\n",
    "                new_columns[i].append('Да')\n",
    "            else:\n",
    "                new_columns[i].append('Нет')\n",
    "                \n",
    "    for i in range(len(countries)):\n",
    "        movies_data[countries[i]] = new_columns[i]"
   ]
  },
  {
   "cell_type": "markdown",
   "id": "877e74d4",
   "metadata": {},
   "source": [
    "## Визуальный анализ данных"
   ]
  },
  {
   "cell_type": "code",
   "execution_count": null,
   "id": "c67793d0",
   "metadata": {},
   "outputs": [],
   "source": [
    "# В переменную many_factors загружена таблица из файла many_factors_data.csv\n",
    "many_factors = pd.read_csv('many_factors_data.csv')"
   ]
  },
  {
   "cell_type": "code",
   "execution_count": 3,
   "id": "512c5327",
   "metadata": {
    "ExecuteTime": {
     "end_time": "2024-04-09T23:10:01.044242Z",
     "start_time": "2024-04-09T23:10:00.436159Z"
    }
   },
   "outputs": [
    {
     "ename": "FileNotFoundError",
     "evalue": "[Errno 2] No such file or directory: 'uniform_and_not_data.csv'",
     "output_type": "error",
     "traceback": [
      "\u001B[1;31m---------------------------------------------------------------------------\u001B[0m",
      "\u001B[1;31mFileNotFoundError\u001B[0m                         Traceback (most recent call last)",
      "Cell \u001B[1;32mIn[3], line 2\u001B[0m\n\u001B[0;32m      1\u001B[0m \u001B[38;5;66;03m# В переменную uniform_and_not загружена таблица из файла uniform_and_not_data\u001B[39;00m\n\u001B[1;32m----> 2\u001B[0m uniform_and_not \u001B[38;5;241m=\u001B[39m pd\u001B[38;5;241m.\u001B[39mread_csv(\u001B[38;5;124m'\u001B[39m\u001B[38;5;124muniform_and_not_data.csv\u001B[39m\u001B[38;5;124m'\u001B[39m)\n",
      "File \u001B[1;32mC:\\_IT\\anaconda\\Lib\\site-packages\\pandas\\io\\parsers\\readers.py:948\u001B[0m, in \u001B[0;36mread_csv\u001B[1;34m(filepath_or_buffer, sep, delimiter, header, names, index_col, usecols, dtype, engine, converters, true_values, false_values, skipinitialspace, skiprows, skipfooter, nrows, na_values, keep_default_na, na_filter, verbose, skip_blank_lines, parse_dates, infer_datetime_format, keep_date_col, date_parser, date_format, dayfirst, cache_dates, iterator, chunksize, compression, thousands, decimal, lineterminator, quotechar, quoting, doublequote, escapechar, comment, encoding, encoding_errors, dialect, on_bad_lines, delim_whitespace, low_memory, memory_map, float_precision, storage_options, dtype_backend)\u001B[0m\n\u001B[0;32m    935\u001B[0m kwds_defaults \u001B[38;5;241m=\u001B[39m _refine_defaults_read(\n\u001B[0;32m    936\u001B[0m     dialect,\n\u001B[0;32m    937\u001B[0m     delimiter,\n\u001B[1;32m   (...)\u001B[0m\n\u001B[0;32m    944\u001B[0m     dtype_backend\u001B[38;5;241m=\u001B[39mdtype_backend,\n\u001B[0;32m    945\u001B[0m )\n\u001B[0;32m    946\u001B[0m kwds\u001B[38;5;241m.\u001B[39mupdate(kwds_defaults)\n\u001B[1;32m--> 948\u001B[0m \u001B[38;5;28;01mreturn\u001B[39;00m _read(filepath_or_buffer, kwds)\n",
      "File \u001B[1;32mC:\\_IT\\anaconda\\Lib\\site-packages\\pandas\\io\\parsers\\readers.py:611\u001B[0m, in \u001B[0;36m_read\u001B[1;34m(filepath_or_buffer, kwds)\u001B[0m\n\u001B[0;32m    608\u001B[0m _validate_names(kwds\u001B[38;5;241m.\u001B[39mget(\u001B[38;5;124m\"\u001B[39m\u001B[38;5;124mnames\u001B[39m\u001B[38;5;124m\"\u001B[39m, \u001B[38;5;28;01mNone\u001B[39;00m))\n\u001B[0;32m    610\u001B[0m \u001B[38;5;66;03m# Create the parser.\u001B[39;00m\n\u001B[1;32m--> 611\u001B[0m parser \u001B[38;5;241m=\u001B[39m TextFileReader(filepath_or_buffer, \u001B[38;5;241m*\u001B[39m\u001B[38;5;241m*\u001B[39mkwds)\n\u001B[0;32m    613\u001B[0m \u001B[38;5;28;01mif\u001B[39;00m chunksize \u001B[38;5;129;01mor\u001B[39;00m iterator:\n\u001B[0;32m    614\u001B[0m     \u001B[38;5;28;01mreturn\u001B[39;00m parser\n",
      "File \u001B[1;32mC:\\_IT\\anaconda\\Lib\\site-packages\\pandas\\io\\parsers\\readers.py:1448\u001B[0m, in \u001B[0;36mTextFileReader.__init__\u001B[1;34m(self, f, engine, **kwds)\u001B[0m\n\u001B[0;32m   1445\u001B[0m     \u001B[38;5;28mself\u001B[39m\u001B[38;5;241m.\u001B[39moptions[\u001B[38;5;124m\"\u001B[39m\u001B[38;5;124mhas_index_names\u001B[39m\u001B[38;5;124m\"\u001B[39m] \u001B[38;5;241m=\u001B[39m kwds[\u001B[38;5;124m\"\u001B[39m\u001B[38;5;124mhas_index_names\u001B[39m\u001B[38;5;124m\"\u001B[39m]\n\u001B[0;32m   1447\u001B[0m \u001B[38;5;28mself\u001B[39m\u001B[38;5;241m.\u001B[39mhandles: IOHandles \u001B[38;5;241m|\u001B[39m \u001B[38;5;28;01mNone\u001B[39;00m \u001B[38;5;241m=\u001B[39m \u001B[38;5;28;01mNone\u001B[39;00m\n\u001B[1;32m-> 1448\u001B[0m \u001B[38;5;28mself\u001B[39m\u001B[38;5;241m.\u001B[39m_engine \u001B[38;5;241m=\u001B[39m \u001B[38;5;28mself\u001B[39m\u001B[38;5;241m.\u001B[39m_make_engine(f, \u001B[38;5;28mself\u001B[39m\u001B[38;5;241m.\u001B[39mengine)\n",
      "File \u001B[1;32mC:\\_IT\\anaconda\\Lib\\site-packages\\pandas\\io\\parsers\\readers.py:1705\u001B[0m, in \u001B[0;36mTextFileReader._make_engine\u001B[1;34m(self, f, engine)\u001B[0m\n\u001B[0;32m   1703\u001B[0m     \u001B[38;5;28;01mif\u001B[39;00m \u001B[38;5;124m\"\u001B[39m\u001B[38;5;124mb\u001B[39m\u001B[38;5;124m\"\u001B[39m \u001B[38;5;129;01mnot\u001B[39;00m \u001B[38;5;129;01min\u001B[39;00m mode:\n\u001B[0;32m   1704\u001B[0m         mode \u001B[38;5;241m+\u001B[39m\u001B[38;5;241m=\u001B[39m \u001B[38;5;124m\"\u001B[39m\u001B[38;5;124mb\u001B[39m\u001B[38;5;124m\"\u001B[39m\n\u001B[1;32m-> 1705\u001B[0m \u001B[38;5;28mself\u001B[39m\u001B[38;5;241m.\u001B[39mhandles \u001B[38;5;241m=\u001B[39m get_handle(\n\u001B[0;32m   1706\u001B[0m     f,\n\u001B[0;32m   1707\u001B[0m     mode,\n\u001B[0;32m   1708\u001B[0m     encoding\u001B[38;5;241m=\u001B[39m\u001B[38;5;28mself\u001B[39m\u001B[38;5;241m.\u001B[39moptions\u001B[38;5;241m.\u001B[39mget(\u001B[38;5;124m\"\u001B[39m\u001B[38;5;124mencoding\u001B[39m\u001B[38;5;124m\"\u001B[39m, \u001B[38;5;28;01mNone\u001B[39;00m),\n\u001B[0;32m   1709\u001B[0m     compression\u001B[38;5;241m=\u001B[39m\u001B[38;5;28mself\u001B[39m\u001B[38;5;241m.\u001B[39moptions\u001B[38;5;241m.\u001B[39mget(\u001B[38;5;124m\"\u001B[39m\u001B[38;5;124mcompression\u001B[39m\u001B[38;5;124m\"\u001B[39m, \u001B[38;5;28;01mNone\u001B[39;00m),\n\u001B[0;32m   1710\u001B[0m     memory_map\u001B[38;5;241m=\u001B[39m\u001B[38;5;28mself\u001B[39m\u001B[38;5;241m.\u001B[39moptions\u001B[38;5;241m.\u001B[39mget(\u001B[38;5;124m\"\u001B[39m\u001B[38;5;124mmemory_map\u001B[39m\u001B[38;5;124m\"\u001B[39m, \u001B[38;5;28;01mFalse\u001B[39;00m),\n\u001B[0;32m   1711\u001B[0m     is_text\u001B[38;5;241m=\u001B[39mis_text,\n\u001B[0;32m   1712\u001B[0m     errors\u001B[38;5;241m=\u001B[39m\u001B[38;5;28mself\u001B[39m\u001B[38;5;241m.\u001B[39moptions\u001B[38;5;241m.\u001B[39mget(\u001B[38;5;124m\"\u001B[39m\u001B[38;5;124mencoding_errors\u001B[39m\u001B[38;5;124m\"\u001B[39m, \u001B[38;5;124m\"\u001B[39m\u001B[38;5;124mstrict\u001B[39m\u001B[38;5;124m\"\u001B[39m),\n\u001B[0;32m   1713\u001B[0m     storage_options\u001B[38;5;241m=\u001B[39m\u001B[38;5;28mself\u001B[39m\u001B[38;5;241m.\u001B[39moptions\u001B[38;5;241m.\u001B[39mget(\u001B[38;5;124m\"\u001B[39m\u001B[38;5;124mstorage_options\u001B[39m\u001B[38;5;124m\"\u001B[39m, \u001B[38;5;28;01mNone\u001B[39;00m),\n\u001B[0;32m   1714\u001B[0m )\n\u001B[0;32m   1715\u001B[0m \u001B[38;5;28;01massert\u001B[39;00m \u001B[38;5;28mself\u001B[39m\u001B[38;5;241m.\u001B[39mhandles \u001B[38;5;129;01mis\u001B[39;00m \u001B[38;5;129;01mnot\u001B[39;00m \u001B[38;5;28;01mNone\u001B[39;00m\n\u001B[0;32m   1716\u001B[0m f \u001B[38;5;241m=\u001B[39m \u001B[38;5;28mself\u001B[39m\u001B[38;5;241m.\u001B[39mhandles\u001B[38;5;241m.\u001B[39mhandle\n",
      "File \u001B[1;32mC:\\_IT\\anaconda\\Lib\\site-packages\\pandas\\io\\common.py:863\u001B[0m, in \u001B[0;36mget_handle\u001B[1;34m(path_or_buf, mode, encoding, compression, memory_map, is_text, errors, storage_options)\u001B[0m\n\u001B[0;32m    858\u001B[0m \u001B[38;5;28;01melif\u001B[39;00m \u001B[38;5;28misinstance\u001B[39m(handle, \u001B[38;5;28mstr\u001B[39m):\n\u001B[0;32m    859\u001B[0m     \u001B[38;5;66;03m# Check whether the filename is to be opened in binary mode.\u001B[39;00m\n\u001B[0;32m    860\u001B[0m     \u001B[38;5;66;03m# Binary mode does not support 'encoding' and 'newline'.\u001B[39;00m\n\u001B[0;32m    861\u001B[0m     \u001B[38;5;28;01mif\u001B[39;00m ioargs\u001B[38;5;241m.\u001B[39mencoding \u001B[38;5;129;01mand\u001B[39;00m \u001B[38;5;124m\"\u001B[39m\u001B[38;5;124mb\u001B[39m\u001B[38;5;124m\"\u001B[39m \u001B[38;5;129;01mnot\u001B[39;00m \u001B[38;5;129;01min\u001B[39;00m ioargs\u001B[38;5;241m.\u001B[39mmode:\n\u001B[0;32m    862\u001B[0m         \u001B[38;5;66;03m# Encoding\u001B[39;00m\n\u001B[1;32m--> 863\u001B[0m         handle \u001B[38;5;241m=\u001B[39m \u001B[38;5;28mopen\u001B[39m(\n\u001B[0;32m    864\u001B[0m             handle,\n\u001B[0;32m    865\u001B[0m             ioargs\u001B[38;5;241m.\u001B[39mmode,\n\u001B[0;32m    866\u001B[0m             encoding\u001B[38;5;241m=\u001B[39mioargs\u001B[38;5;241m.\u001B[39mencoding,\n\u001B[0;32m    867\u001B[0m             errors\u001B[38;5;241m=\u001B[39merrors,\n\u001B[0;32m    868\u001B[0m             newline\u001B[38;5;241m=\u001B[39m\u001B[38;5;124m\"\u001B[39m\u001B[38;5;124m\"\u001B[39m,\n\u001B[0;32m    869\u001B[0m         )\n\u001B[0;32m    870\u001B[0m     \u001B[38;5;28;01melse\u001B[39;00m:\n\u001B[0;32m    871\u001B[0m         \u001B[38;5;66;03m# Binary mode\u001B[39;00m\n\u001B[0;32m    872\u001B[0m         handle \u001B[38;5;241m=\u001B[39m \u001B[38;5;28mopen\u001B[39m(handle, ioargs\u001B[38;5;241m.\u001B[39mmode)\n",
      "\u001B[1;31mFileNotFoundError\u001B[0m: [Errno 2] No such file or directory: 'uniform_and_not_data.csv'"
     ]
    }
   ],
   "source": [
    "# В переменную uniform_and_not загружена таблица из файла uniform_and_not_data\n",
    "uniform_and_not = pd.read_csv('uniform_and_not_data.csv')"
   ]
  },
  {
   "cell_type": "code",
   "outputs": [],
   "source": [
    "movies_data = pd.read_csv('movies_data.csv')"
   ],
   "metadata": {
    "collapsed": false,
    "ExecuteTime": {
     "end_time": "2024-04-10T11:18:08.555954Z",
     "start_time": "2024-04-10T11:18:08.530700Z"
    }
   },
   "id": "168dbcc2320fcdbb",
   "execution_count": 85
  },
  {
   "cell_type": "code",
   "outputs": [
    {
     "data": {
      "text/plain": "3637"
     },
     "execution_count": 86,
     "metadata": {},
     "output_type": "execute_result"
    }
   ],
   "source": [
    "data = movies_data[((movies_data['Страна производства'] == 'Россия') | ((movies_data['Жанр фильма'] == 'Триллер') & (movies_data['Год производства'] < 2000)))]\n",
    "\n",
    "exp = movies_data[((movies_data['Страна производства'] == 'Россия') & ((movies_data['Жанр фильма'] == 'Триллер') & (movies_data['Год производства'] < 2000)))]\n",
    "\n",
    "#data\n",
    "len(data)\n"
   ],
   "metadata": {
    "collapsed": false,
    "ExecuteTime": {
     "end_time": "2024-04-10T11:18:09.785602Z",
     "start_time": "2024-04-10T11:18:09.767936Z"
    }
   },
   "id": "d6fde9dc14a1feba",
   "execution_count": 86
  },
  {
   "cell_type": "code",
   "outputs": [],
   "source": [
    "#Задание с movies_budget.csv\n",
    "\n",
    "movies_budget = pd.read_csv('movies_budget.csv', sep=';')\n",
    "\n"
   ],
   "metadata": {
    "collapsed": false,
    "ExecuteTime": {
     "end_time": "2024-04-10T10:25:40.121619Z",
     "start_time": "2024-04-10T10:25:40.111036Z"
    }
   },
   "id": "c3c3387f731963ca",
   "execution_count": 58
  },
  {
   "cell_type": "code",
   "outputs": [
    {
     "data": {
      "text/plain": "67278893.76"
     },
     "execution_count": 66,
     "metadata": {},
     "output_type": "execute_result"
    }
   ],
   "source": [
    "#1\n",
    "cost = movies_budget['Стоимость билета']\n",
    "count = movies_budget['Число зрителей']\n",
    "#test = cost * count\n",
    "\n",
    "ans = np.mean(cost * count)\n",
    "\n",
    "ans"
   ],
   "metadata": {
    "collapsed": false,
    "ExecuteTime": {
     "end_time": "2024-04-10T10:31:25.675857Z",
     "start_time": "2024-04-10T10:31:25.666334Z"
    }
   },
   "id": "6a690996ff09ca57",
   "execution_count": 66
  },
  {
   "cell_type": "code",
   "outputs": [
    {
     "data": {
      "text/plain": "33008851.380000003"
     },
     "execution_count": 74,
     "metadata": {},
     "output_type": "execute_result"
    }
   ],
   "source": [
    "#2\n",
    "budget = movies_budget['Бюджет']\n",
    "profit = ans/2 - 1.5 * budget\n",
    "\n",
    "max(profit)"
   ],
   "metadata": {
    "collapsed": false,
    "ExecuteTime": {
     "end_time": "2024-04-10T11:07:53.744006Z",
     "start_time": "2024-04-10T11:07:53.734892Z"
    }
   },
   "id": "14e3e6df36e7802b",
   "execution_count": 74
  },
  {
   "cell_type": "code",
   "outputs": [
    {
     "data": {
      "text/plain": "30519114"
     },
     "execution_count": 82,
     "metadata": {},
     "output_type": "execute_result"
    }
   ],
   "source": [
    "#3\n",
    "\n",
    "comedy = movies_budget[(movies_budget['Жанр фильма'] == 'Триллер')]\n",
    "comedy = comedy['Число зрителей']\n",
    "\n",
    "sum(comedy)"
   ],
   "metadata": {
    "collapsed": false,
    "ExecuteTime": {
     "end_time": "2024-04-10T11:12:42.953758Z",
     "start_time": "2024-04-10T11:12:42.944088Z"
    }
   },
   "id": "943e6524e37725e7",
   "execution_count": 82
  },
  {
   "cell_type": "code",
   "outputs": [
    {
     "name": "stdout",
     "output_type": "stream",
     "text": [
      "Комедия - 9920914\n",
      "Документальный - 10093471\n",
      "Боевик - 20859969\n",
      "Триллер - 30519114\n",
      "Драма - 144536483\n"
     ]
    }
   ],
   "source": [
    "# Заданный словарь\n",
    "genres_dict = {\n",
    "    'Комедия': 9920914,\n",
    "    'Драма': 144536483,\n",
    "    'Документальный': 10093471,\n",
    "    'Боевик': 20859969,\n",
    "    'Триллер': 30519114\n",
    "}\n",
    "\n",
    "# Сортировка словаря по значениям\n",
    "sorted_genres = sorted(genres_dict, key=lambda x: genres_dict[x])\n",
    "\n",
    "# Вывод отсортированного словаря\n",
    "for genre in sorted_genres:\n",
    "    print(f'{genre} - {genres_dict[genre]}')\n"
   ],
   "metadata": {
    "collapsed": false,
    "ExecuteTime": {
     "end_time": "2024-04-10T11:16:08.438122Z",
     "start_time": "2024-04-10T11:16:08.427732Z"
    }
   },
   "id": "c246af4a17a016ba",
   "execution_count": 83
  },
  {
   "cell_type": "code",
   "outputs": [],
   "source": [],
   "metadata": {
    "collapsed": false
   },
   "id": "6f45528c0547fbf5"
  }
 ],
 "metadata": {
  "kernelspec": {
   "display_name": "Python 3 (ipykernel)",
   "language": "python",
   "name": "python3"
  },
  "language_info": {
   "codemirror_mode": {
    "name": "ipython",
    "version": 3
   },
   "file_extension": ".py",
   "mimetype": "text/x-python",
   "name": "python",
   "nbconvert_exporter": "python",
   "pygments_lexer": "ipython3",
   "version": "3.9.5"
  }
 },
 "nbformat": 4,
 "nbformat_minor": 5
}
